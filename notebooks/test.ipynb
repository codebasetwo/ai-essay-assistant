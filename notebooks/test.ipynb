{
 "cells": [
  {
   "cell_type": "code",
   "execution_count": 1,
   "id": "5fbbb22a-7a62-4995-ac5f-bb8756410f0a",
   "metadata": {},
   "outputs": [],
   "source": [
    "import os\n",
    "import sys\n",
    "\n",
    "import openai\n",
    "from dotenv import find_dotenv, load_dotenv\n",
    "from langchain_openai import ChatOpenAI\n",
    "from langgraph.graph import StateGraph, END\n",
    "from langchain_tavily import TavilySearch\n",
    "from langchain_core.messages import AIMessage, AnyMessage, SystemMessage, ToolMessage, HumanMessage\n"
   ]
  },
  {
   "cell_type": "code",
   "execution_count": 2,
   "id": "322f68b2-8459-4018-b57c-d7a0bba126a3",
   "metadata": {},
   "outputs": [],
   "source": [
    "_ = load_dotenv(find_dotenv())"
   ]
  },
  {
   "cell_type": "code",
   "execution_count": 3,
   "id": "52619ed5-82c7-4365-b6d0-fd7f3c8c150d",
   "metadata": {},
   "outputs": [
    {
     "name": "stdout",
     "output_type": "stream",
     "text": [
      "tavily_search\n",
      "A search engine optimized for comprehensive, accurate, and trusted results. Useful for when you need to answer questions about current events. It not only retrieves URLs and snippets, but offers advanced search depths, domain management, time range filters, and image search, this tool delivers real-time, accurate, and citation-backed results.Input should be a search query.\n"
     ]
    }
   ],
   "source": [
    "search_tool = TavilySearch(max_results=5)\n",
    "print(search_tool.name)\n",
    "print(search_tool.description)"
   ]
  },
  {
   "cell_type": "code",
   "execution_count": 4,
   "id": "09fbf56e-2527-4bb4-be99-e11f7f969c9d",
   "metadata": {},
   "outputs": [],
   "source": [
    "model_name = \"gpt-3.5-turbo\""
   ]
  },
  {
   "cell_type": "code",
   "execution_count": 5,
   "id": "a9a333be-b702-4aee-9d30-a9ccef1d849c",
   "metadata": {},
   "outputs": [],
   "source": [
    "model = ChatOpenAI(model=model_name, temperature=0.0)"
   ]
  },
  {
   "cell_type": "code",
   "execution_count": 6,
   "id": "650e55d5-07cc-47ae-9a72-1cf4468608f7",
   "metadata": {},
   "outputs": [],
   "source": [
    "prompt = \"\"\"You are a smart research assistant. Use the search engine to look up information. \\\n",
    "You are allowed to make multiple calls (either together or in sequence). \\\n",
    "Only look up information when you are sure of what you want. \\\n",
    "If you need to look up some information before asking a follow up question, you are allowed to do that!\n",
    "\"\"\""
   ]
  },
  {
   "cell_type": "code",
   "execution_count": 7,
   "id": "7b912d29-d3c8-4fb7-bd40-bd014654192a",
   "metadata": {},
   "outputs": [],
   "source": [
    "result = model.invoke(\"What is the price of bitcoin today?\")"
   ]
  },
  {
   "cell_type": "code",
   "execution_count": 8,
   "id": "74bcf3a9-b56b-4476-ba9b-b82d96b2bdb3",
   "metadata": {},
   "outputs": [
    {
     "data": {
      "text/plain": [
       "AIMessage(content='I am sorry, but I am not able to provide real-time information on the price of bitcoin. I recommend checking a reliable financial news website or cryptocurrency exchange for the most up-to-date information.', additional_kwargs={'refusal': None}, response_metadata={'token_usage': {'completion_tokens': 39, 'prompt_tokens': 15, 'total_tokens': 54, 'completion_tokens_details': {'accepted_prediction_tokens': 0, 'audio_tokens': 0, 'reasoning_tokens': 0, 'rejected_prediction_tokens': 0}, 'prompt_tokens_details': {'audio_tokens': 0, 'cached_tokens': 0}}, 'model_name': 'gpt-3.5-turbo-0125', 'system_fingerprint': None, 'id': 'chatcmpl-BtTGqifkMdyJ1olmaFqiEtFVwaVOC', 'service_tier': 'default', 'finish_reason': 'stop', 'logprobs': None}, id='run--6bc4714d-24ef-438f-8ee8-7f04c1c36c3c-0', usage_metadata={'input_tokens': 15, 'output_tokens': 39, 'total_tokens': 54, 'input_token_details': {'audio': 0, 'cache_read': 0}, 'output_token_details': {'audio': 0, 'reasoning': 0}})"
      ]
     },
     "execution_count": 8,
     "metadata": {},
     "output_type": "execute_result"
    }
   ],
   "source": [
    "result"
   ]
  },
  {
   "cell_type": "code",
   "execution_count": 9,
   "id": "f218a3ad-0c7b-4ceb-ba36-7e1a19cf17a1",
   "metadata": {},
   "outputs": [],
   "source": [
    "search_model = model.bind_tools(tools=[search_tool])\n",
    "result = search_model.invoke(\"what is the price of bitcoin today?\")"
   ]
  },
  {
   "cell_type": "code",
   "execution_count": 10,
   "id": "83069be7-9ed3-4ba6-afb2-615516e9d328",
   "metadata": {},
   "outputs": [
    {
     "data": {
      "text/plain": [
       "AIMessage(content='', additional_kwargs={'tool_calls': [{'id': 'call_2fI7EJOrryHJBpGOPR2dJkzV', 'function': {'arguments': '{\"query\":\"current price of bitcoin\",\"search_depth\":\"basic\"}', 'name': 'tavily_search'}, 'type': 'function'}], 'refusal': None}, response_metadata={'token_usage': {'completion_tokens': 24, 'prompt_tokens': 839, 'total_tokens': 863, 'completion_tokens_details': {'accepted_prediction_tokens': 0, 'audio_tokens': 0, 'reasoning_tokens': 0, 'rejected_prediction_tokens': 0}, 'prompt_tokens_details': {'audio_tokens': 0, 'cached_tokens': 0}}, 'model_name': 'gpt-3.5-turbo-0125', 'system_fingerprint': None, 'id': 'chatcmpl-BtTGrc2Yz5gcRvhS553E71U7v7JJi', 'service_tier': 'default', 'finish_reason': 'tool_calls', 'logprobs': None}, id='run--8c5c0e50-c5e2-413b-b870-05f0f68903b9-0', tool_calls=[{'name': 'tavily_search', 'args': {'query': 'current price of bitcoin', 'search_depth': 'basic'}, 'id': 'call_2fI7EJOrryHJBpGOPR2dJkzV', 'type': 'tool_call'}], usage_metadata={'input_tokens': 839, 'output_tokens': 24, 'total_tokens': 863, 'input_token_details': {'audio': 0, 'cache_read': 0}, 'output_token_details': {'audio': 0, 'reasoning': 0}})"
      ]
     },
     "execution_count": 10,
     "metadata": {},
     "output_type": "execute_result"
    }
   ],
   "source": [
    "result"
   ]
  },
  {
   "cell_type": "code",
   "execution_count": 11,
   "id": "8ada8442-ea41-4f81-a5d6-6f057a390040",
   "metadata": {},
   "outputs": [
    {
     "data": {
      "text/plain": [
       "'current price of bitcoin'"
      ]
     },
     "execution_count": 11,
     "metadata": {},
     "output_type": "execute_result"
    }
   ],
   "source": [
    "query = result.tool_calls[0][\"args\"][\"query\"]\n",
    "query"
   ]
  },
  {
   "cell_type": "code",
   "execution_count": 12,
   "id": "489a2a19-9ca5-4f8e-9d52-0f850aba8f96",
   "metadata": {},
   "outputs": [
    {
     "data": {
      "text/plain": [
       "'As of July 15, 2025, Bitcoin is trading at $116,933.57. Its price has fluctuated, with a 24-hour trading volume of $35.23 billion. This reflects the latest known value.'"
      ]
     },
     "execution_count": 12,
     "metadata": {},
     "output_type": "execute_result"
    }
   ],
   "source": [
    "from tavily import TavilyClient\n",
    "\n",
    "client = TavilyClient(api_key=os.environ[\"TAVILY_API_KEY\"])\n",
    "result = client.search(query, include_answer=True)\n",
    "result[\"answer\"]"
   ]
  },
  {
   "cell_type": "code",
   "execution_count": 13,
   "id": "6c10ab16-88b5-4087-8de2-a71eddc1d550",
   "metadata": {},
   "outputs": [],
   "source": [
    "# create a small agent that finishes when there are no tool calls\n",
    "# with human in the loop ability"
   ]
  },
  {
   "cell_type": "code",
   "execution_count": 14,
   "id": "7ec362b9-93a1-4841-bcdb-c9da56ea8212",
   "metadata": {},
   "outputs": [],
   "source": [
    "import uuid\n",
    "import operator\n",
    "def modify(left: list[AnyMessage], right: list[AnyMessage]) -> list[AnyMessage]:\n",
    "    for message in right:\n",
    "        if not message.id:\n",
    "            message.id = str(uuid.uuid4())\n",
    "    merged = left.copy()\n",
    "    for message in right:\n",
    "        for i, exists in enumerate(merged):\n",
    "            if exists.id == message.id:\n",
    "                merged[i] = message\n",
    "                break\n",
    "        else:\n",
    "            merged.append(message)\n",
    "    return merged\n",
    "              "
   ]
  },
  {
   "cell_type": "code",
   "execution_count": 15,
   "id": "16f8c325-effd-4ccf-9182-148e386db94c",
   "metadata": {},
   "outputs": [],
   "source": [
    "from typing import TypedDict, Annotated\n",
    "\n",
    "class StateAgent(TypedDict):\n",
    "    messages: Annotated[list[AnyMessage], modify]"
   ]
  },
  {
   "cell_type": "code",
   "execution_count": 16,
   "id": "0a13cec0-1e2d-47d5-a782-479a6f1b2a42",
   "metadata": {},
   "outputs": [],
   "source": [
    "class Agent:\n",
    "    def __init__(self, model, tools, system_prompt: str=\"\", memory=None):\n",
    "        self.tools = {t.name: t for t in tools}\n",
    "        self.model = model.bind_tools(tools, )#parallel_tool_calls=False)\n",
    "        self.system_prompt = system_prompt\n",
    "        self.memory = memory\n",
    "        graph = StateGraph(StateAgent)\n",
    "        graph.add_node(\"llm_call\", self.call_llm)\n",
    "        graph.add_node(\"tools_calls\", self.call_tools)\n",
    "        graph.add_conditional_edges(\"llm_call\", self.tool_exists, {True: \"tools_calls\", False: END})\n",
    "        graph.add_edge(\"tools_calls\", \"llm_call\")\n",
    "        graph.set_entry_point(\"llm_call\")\n",
    "        self.graph = graph.compile(checkpointer=memory,\n",
    "                                  interrupt_before=[\"tools_calls\"]) # human in the loop\n",
    "\n",
    "    def call_llm(self, state: StateAgent):\n",
    "        messages = state[\"messages\"]\n",
    "        if self.system_prompt:\n",
    "            messages = [SystemMessage(content=self.system_prompt)] + messages\n",
    "        messages = self.model.invoke(messages)\n",
    "        return {\"messages\": [messages]}\n",
    "\n",
    "    def tool_exists(self, state: StateAgent):\n",
    "        print(state)\n",
    "        tool_calls = state[\"messages\"][-1].tool_calls\n",
    "        return len(tool_calls) > 0\n",
    "\n",
    "    def call_tools(self, state: StateAgent):\n",
    "        tools = state[\"messages\"][-1].tool_calls\n",
    "        results = []\n",
    "        for t in tools:\n",
    "            print(f\"Calling...: {t}\")\n",
    "            output = self.tools[t[\"name\"]].invoke(t[\"args\"])\n",
    "            results.append(ToolMessage(content=str(output),\n",
    "                                      tool_call_id=t[\"id\"],\n",
    "                                      name=t[\"name\"]))\n",
    "\n",
    "        print(\"Back to Model!\")\n",
    "        return {\"messages\": results} \n",
    "        "
   ]
  },
  {
   "cell_type": "code",
   "execution_count": 17,
   "id": "1fb69c94-3aa4-4548-93ac-c927d5e6db79",
   "metadata": {},
   "outputs": [],
   "source": [
    "system_prompt = \"\"\"You are a smart research assistant. Use the search engine to look up information. \\\n",
    "You are allowed to make multiple calls (either together or in sequence). \\\n",
    "Only look up information when you are sure of what you want. \\\n",
    "If you need to look up some information before asking a follow up question, you are allowed to do that!\n",
    "\"\"\"\n",
    "\n",
    "tavily_search = TavilySearch(max_results=4)\n",
    "tools = [tavily_search]"
   ]
  },
  {
   "cell_type": "code",
   "execution_count": 18,
   "id": "72abf5e1-475c-4ef2-ba2f-c4341e1b519f",
   "metadata": {},
   "outputs": [],
   "source": [
    "import sqlite3\n",
    "from langgraph.checkpoint.sqlite import SqliteSaver\n",
    "\n",
    "db_path = 'checkpoints.db'\n",
    "conn = sqlite3.connect(db_path, check_same_thread=False)\n",
    "\n",
    "memory = SqliteSaver(conn)"
   ]
  },
  {
   "cell_type": "code",
   "execution_count": 19,
   "id": "30201c6c-63c7-4c18-8bab-74af3d873617",
   "metadata": {},
   "outputs": [],
   "source": [
    "agent_mode = Agent(model=model, system_prompt=system_prompt, tools=tools, memory=memory)"
   ]
  },
  {
   "cell_type": "code",
   "execution_count": 20,
   "id": "7ec13922-c16d-4b3d-a687-300792293de3",
   "metadata": {},
   "outputs": [
    {
     "data": {
      "image/png": "[encoded data removed]",
      "text/plain": [
       "<IPython.core.display.Image object>"
      ]
     },
     "metadata": {},
     "output_type": "display_data"
    }
   ],
   "source": [
    "from IPython.display import Image, display\n",
    "\n",
    "display(Image(agent_mode.graph.get_graph(xray=True).draw_mermaid_png()))"
   ]
  },
  {
   "cell_type": "code",
   "execution_count": 21,
   "id": "89fe4fe4-f0fd-4d95-b95a-f219880fff25",
   "metadata": {},
   "outputs": [],
   "source": [
    "thread = {\"configurable\": {\"thread_id\": \"1\"}}\n",
    "\n",
    "result = agent_mode.graph.stream({\"messages\":[ HumanMessage(content=\"what is the price of bitcoin today?\")]},\n",
    "                                config=thread\n",
    "                                )"
   ]
  },
  {
   "cell_type": "code",
   "execution_count": 22,
   "id": "3ef081b1-5df1-4644-b05c-90285a7669e4",
   "metadata": {},
   "outputs": [
    {
     "name": "stdout",
     "output_type": "stream",
     "text": [
      "{'messages': [HumanMessage(content='what is the price of bitcoin today?', additional_kwargs={}, response_metadata={}, id='fed4faf3-3b1d-41c0-bc02-73a79f450f82'), AIMessage(content='', additional_kwargs={'tool_calls': [{'id': 'call_hEOEIr0N1kCNhG0WS5YwrRFq', 'function': {'arguments': '{\"query\":\"current price of bitcoin\",\"search_depth\":\"basic\"}', 'name': 'tavily_search'}, 'type': 'function'}], 'refusal': None}, response_metadata={'token_usage': {'completion_tokens': 24, 'prompt_tokens': 904, 'total_tokens': 928, 'completion_tokens_details': {'accepted_prediction_tokens': 0, 'audio_tokens': 0, 'reasoning_tokens': 0, 'rejected_prediction_tokens': 0}, 'prompt_tokens_details': {'audio_tokens': 0, 'cached_tokens': 0}}, 'model_name': 'gpt-3.5-turbo-0125', 'system_fingerprint': None, 'id': 'chatcmpl-BtTGxRyPK39uYDdZ8O27fn6QPNQ7A', 'service_tier': 'default', 'finish_reason': 'tool_calls', 'logprobs': None}, id='run--98c9250e-f21e-40c1-a320-63c10296bdbd-0', tool_calls=[{'name': 'tavily_search', 'args': {'query': 'current price of bitcoin', 'search_depth': 'basic'}, 'id': 'call_hEOEIr0N1kCNhG0WS5YwrRFq', 'type': 'tool_call'}], usage_metadata={'input_tokens': 904, 'output_tokens': 24, 'total_tokens': 928, 'input_token_details': {'audio': 0, 'cache_read': 0}, 'output_token_details': {'audio': 0, 'reasoning': 0}})]}\n",
      "{'messages': [AIMessage(content='', additional_kwargs={'tool_calls': [{'id': 'call_hEOEIr0N1kCNhG0WS5YwrRFq', 'function': {'arguments': '{\"query\":\"current price of bitcoin\",\"search_depth\":\"basic\"}', 'name': 'tavily_search'}, 'type': 'function'}], 'refusal': None}, response_metadata={'token_usage': {'completion_tokens': 24, 'prompt_tokens': 904, 'total_tokens': 928, 'completion_tokens_details': {'accepted_prediction_tokens': 0, 'audio_tokens': 0, 'reasoning_tokens': 0, 'rejected_prediction_tokens': 0}, 'prompt_tokens_details': {'audio_tokens': 0, 'cached_tokens': 0}}, 'model_name': 'gpt-3.5-turbo-0125', 'system_fingerprint': None, 'id': 'chatcmpl-BtTGxRyPK39uYDdZ8O27fn6QPNQ7A', 'service_tier': 'default', 'finish_reason': 'tool_calls', 'logprobs': None}, id='run--98c9250e-f21e-40c1-a320-63c10296bdbd-0', tool_calls=[{'name': 'tavily_search', 'args': {'query': 'current price of bitcoin', 'search_depth': 'basic'}, 'id': 'call_hEOEIr0N1kCNhG0WS5YwrRFq', 'type': 'tool_call'}], usage_metadata={'input_tokens': 904, 'output_tokens': 24, 'total_tokens': 928, 'input_token_details': {'audio': 0, 'cache_read': 0}, 'output_token_details': {'audio': 0, 'reasoning': 0}})]}\n",
      "()\n"
     ]
    }
   ],
   "source": [
    "for event in result:\n",
    "    for v in event.values():\n",
    "        print(v)"
   ]
  },
  {
   "cell_type": "code",
   "execution_count": 23,
   "id": "76cc3b15-955e-46f9-9db0-b672f7d5feb0",
   "metadata": {},
   "outputs": [
    {
     "data": {
      "text/plain": [
       "StateSnapshot(values={'messages': [HumanMessage(content='what is the price of bitcoin today?', additional_kwargs={}, response_metadata={}, id='fed4faf3-3b1d-41c0-bc02-73a79f450f82'), AIMessage(content='', additional_kwargs={'tool_calls': [{'id': 'call_hEOEIr0N1kCNhG0WS5YwrRFq', 'function': {'arguments': '{\"query\":\"current price of bitcoin\",\"search_depth\":\"basic\"}', 'name': 'tavily_search'}, 'type': 'function'}], 'refusal': None}, response_metadata={'token_usage': {'completion_tokens': 24, 'prompt_tokens': 904, 'total_tokens': 928, 'completion_tokens_details': {'accepted_prediction_tokens': 0, 'audio_tokens': 0, 'reasoning_tokens': 0, 'rejected_prediction_tokens': 0}, 'prompt_tokens_details': {'audio_tokens': 0, 'cached_tokens': 0}}, 'model_name': 'gpt-3.5-turbo-0125', 'system_fingerprint': None, 'id': 'chatcmpl-BtTGxRyPK39uYDdZ8O27fn6QPNQ7A', 'service_tier': 'default', 'finish_reason': 'tool_calls', 'logprobs': None}, id='run--98c9250e-f21e-40c1-a320-63c10296bdbd-0', tool_calls=[{'name': 'tavily_search', 'args': {'query': 'current price of bitcoin', 'search_depth': 'basic'}, 'id': 'call_hEOEIr0N1kCNhG0WS5YwrRFq', 'type': 'tool_call'}], usage_metadata={'input_tokens': 904, 'output_tokens': 24, 'total_tokens': 928, 'input_token_details': {'audio': 0, 'cache_read': 0}, 'output_token_details': {'audio': 0, 'reasoning': 0}})]}, next=('tools_calls',), config={'configurable': {'thread_id': '1', 'checkpoint_ns': '', 'checkpoint_id': '1f061436-9dea-6ef2-8001-723523feed70'}}, metadata={'source': 'loop', 'step': 1, 'parents': {}, 'thread_id': '1'}, created_at='2025-07-15T06:17:41.538980+00:00', parent_config={'configurable': {'thread_id': '1', 'checkpoint_ns': '', 'checkpoint_id': '1f061436-9135-6bad-8000-49fba02de800'}}, tasks=(PregelTask(id='6b8cd822-ae98-6be6-a95b-f59cb677fb33', name='tools_calls', path=('__pregel_pull', 'tools_calls'), error=None, interrupts=(), state=None, result=None),), interrupts=())"
      ]
     },
     "execution_count": 23,
     "metadata": {},
     "output_type": "execute_result"
    }
   ],
   "source": [
    "agent_mode.graph.get_state(thread)"
   ]
  },
  {
   "cell_type": "code",
   "execution_count": 24,
   "id": "20ab8d7b-5caf-4610-aaad-c77790c5cc95",
   "metadata": {},
   "outputs": [
    {
     "data": {
      "text/plain": [
       "('tools_calls',)"
      ]
     },
     "execution_count": 24,
     "metadata": {},
     "output_type": "execute_result"
    }
   ],
   "source": [
    "agent_mode.graph.get_state(thread).next"
   ]
  },
  {
   "cell_type": "code",
   "execution_count": 25,
   "id": "504e9039-8bad-4685-9bde-b70138308924",
   "metadata": {},
   "outputs": [
    {
     "name": "stdout",
     "output_type": "stream",
     "text": [
      "Calling...: {'name': 'tavily_search', 'args': {'query': 'current price of bitcoin', 'search_depth': 'basic'}, 'id': 'call_hEOEIr0N1kCNhG0WS5YwrRFq', 'type': 'tool_call'}\n",
      "Back to Model!\n",
      "{'messages': [ToolMessage(content=\"{'query': 'current price of bitcoin', 'follow_up_questions': None, 'answer': None, 'images': [], 'results': [{'url': 'https://www.coinbase.com/price/bitcoin', 'title': 'Bitcoin Price, BTC Price, Live Charts, and Marketcap - Coinbase', 'content': 'BTC is currently trading at $119,791.55. Bitcoin has seen a 1% increase from its 24-hour price of $118,804.83, and is 11% up from its week-ago value of', 'score': 0.9053309, 'raw_content': None}, {'url': 'https://coinmarketcap.com/currencies/bitcoin/', 'title': 'Bitcoin price today, BTC to USD live price, marketcap and chart', 'content': 'The live Bitcoin price today is $118272.03 USD with a 24-hour trading volume of $184072968777.54 USD. We update our BTC to USD price in real-time.', 'score': 0.88799405, 'raw_content': None}, {'url': 'https://www.coindesk.com/price/bitcoin', 'title': 'Bitcoin (BTC) Price | BTC to USD Price and Live Chart - CoinDesk', 'content': 'The price of Bitcoin (BTC) is $116933.57 today as of Jul 15, 2025, 2:13 am EDT, with a 24-hour trading volume of $35.23B.', 'score': 0.8832463, 'raw_content': None}], 'response_time': 1.02}\", name='tavily_search', id='dcd215de-cef3-4d5e-a577-085d3cac167b', tool_call_id='call_hEOEIr0N1kCNhG0WS5YwrRFq')]}\n",
      "{'messages': [HumanMessage(content='what is the price of bitcoin today?', additional_kwargs={}, response_metadata={}, id='fed4faf3-3b1d-41c0-bc02-73a79f450f82'), AIMessage(content='', additional_kwargs={'tool_calls': [{'id': 'call_hEOEIr0N1kCNhG0WS5YwrRFq', 'function': {'arguments': '{\"query\":\"current price of bitcoin\",\"search_depth\":\"basic\"}', 'name': 'tavily_search'}, 'type': 'function'}], 'refusal': None}, response_metadata={'token_usage': {'completion_tokens': 24, 'prompt_tokens': 904, 'total_tokens': 928, 'completion_tokens_details': {'accepted_prediction_tokens': 0, 'audio_tokens': 0, 'reasoning_tokens': 0, 'rejected_prediction_tokens': 0}, 'prompt_tokens_details': {'audio_tokens': 0, 'cached_tokens': 0}}, 'model_name': 'gpt-3.5-turbo-0125', 'system_fingerprint': None, 'id': 'chatcmpl-BtTGxRyPK39uYDdZ8O27fn6QPNQ7A', 'service_tier': 'default', 'finish_reason': 'tool_calls', 'logprobs': None}, id='run--98c9250e-f21e-40c1-a320-63c10296bdbd-0', tool_calls=[{'name': 'tavily_search', 'args': {'query': 'current price of bitcoin', 'search_depth': 'basic'}, 'id': 'call_hEOEIr0N1kCNhG0WS5YwrRFq', 'type': 'tool_call'}], usage_metadata={'input_tokens': 904, 'output_tokens': 24, 'total_tokens': 928, 'input_token_details': {'audio': 0, 'cache_read': 0}, 'output_token_details': {'audio': 0, 'reasoning': 0}}), ToolMessage(content=\"{'query': 'current price of bitcoin', 'follow_up_questions': None, 'answer': None, 'images': [], 'results': [{'url': 'https://www.coinbase.com/price/bitcoin', 'title': 'Bitcoin Price, BTC Price, Live Charts, and Marketcap - Coinbase', 'content': 'BTC is currently trading at $119,791.55. Bitcoin has seen a 1% increase from its 24-hour price of $118,804.83, and is 11% up from its week-ago value of', 'score': 0.9053309, 'raw_content': None}, {'url': 'https://coinmarketcap.com/currencies/bitcoin/', 'title': 'Bitcoin price today, BTC to USD live price, marketcap and chart', 'content': 'The live Bitcoin price today is $118272.03 USD with a 24-hour trading volume of $184072968777.54 USD. We update our BTC to USD price in real-time.', 'score': 0.88799405, 'raw_content': None}, {'url': 'https://www.coindesk.com/price/bitcoin', 'title': 'Bitcoin (BTC) Price | BTC to USD Price and Live Chart - CoinDesk', 'content': 'The price of Bitcoin (BTC) is $116933.57 today as of Jul 15, 2025, 2:13 am EDT, with a 24-hour trading volume of $35.23B.', 'score': 0.8832463, 'raw_content': None}], 'response_time': 1.02}\", name='tavily_search', id='dcd215de-cef3-4d5e-a577-085d3cac167b', tool_call_id='call_hEOEIr0N1kCNhG0WS5YwrRFq'), AIMessage(content='The current price of Bitcoin is $119,791.55.', additional_kwargs={'refusal': None}, response_metadata={'token_usage': {'completion_tokens': 14, 'prompt_tokens': 1273, 'total_tokens': 1287, 'completion_tokens_details': {'accepted_prediction_tokens': 0, 'audio_tokens': 0, 'reasoning_tokens': 0, 'rejected_prediction_tokens': 0}, 'prompt_tokens_details': {'audio_tokens': 0, 'cached_tokens': 0}}, 'model_name': 'gpt-3.5-turbo-0125', 'system_fingerprint': None, 'id': 'chatcmpl-BtTH0x1mxUqJRcQ8uU7X30RGLqEsP', 'service_tier': 'default', 'finish_reason': 'stop', 'logprobs': None}, id='run--7cf763e0-2a8a-42a0-ad8d-3d3db7cafbd6-0', usage_metadata={'input_tokens': 1273, 'output_tokens': 14, 'total_tokens': 1287, 'input_token_details': {'audio': 0, 'cache_read': 0}, 'output_token_details': {'audio': 0, 'reasoning': 0}})]}\n",
      "{'messages': [AIMessage(content='The current price of Bitcoin is $119,791.55.', additional_kwargs={'refusal': None}, response_metadata={'token_usage': {'completion_tokens': 14, 'prompt_tokens': 1273, 'total_tokens': 1287, 'completion_tokens_details': {'accepted_prediction_tokens': 0, 'audio_tokens': 0, 'reasoning_tokens': 0, 'rejected_prediction_tokens': 0}, 'prompt_tokens_details': {'audio_tokens': 0, 'cached_tokens': 0}}, 'model_name': 'gpt-3.5-turbo-0125', 'system_fingerprint': None, 'id': 'chatcmpl-BtTH0x1mxUqJRcQ8uU7X30RGLqEsP', 'service_tier': 'default', 'finish_reason': 'stop', 'logprobs': None}, id='run--7cf763e0-2a8a-42a0-ad8d-3d3db7cafbd6-0', usage_metadata={'input_tokens': 1273, 'output_tokens': 14, 'total_tokens': 1287, 'input_token_details': {'audio': 0, 'cache_read': 0}, 'output_token_details': {'audio': 0, 'reasoning': 0}})]}\n"
     ]
    }
   ],
   "source": [
    "# continue after interrupt\n",
    "for event in agent_mode.graph.stream(None, thread):\n",
    "    for v in event.values():\n",
    "        print(v)"
   ]
  },
  {
   "cell_type": "code",
   "execution_count": 26,
   "id": "8b220d26-bbff-4e2d-ad6d-62220aeb7f9f",
   "metadata": {},
   "outputs": [
    {
     "data": {
      "text/plain": [
       "StateSnapshot(values={'messages': [HumanMessage(content='what is the price of bitcoin today?', additional_kwargs={}, response_metadata={}, id='fed4faf3-3b1d-41c0-bc02-73a79f450f82'), AIMessage(content='', additional_kwargs={'tool_calls': [{'id': 'call_hEOEIr0N1kCNhG0WS5YwrRFq', 'function': {'arguments': '{\"query\":\"current price of bitcoin\",\"search_depth\":\"basic\"}', 'name': 'tavily_search'}, 'type': 'function'}], 'refusal': None}, response_metadata={'token_usage': {'completion_tokens': 24, 'prompt_tokens': 904, 'total_tokens': 928, 'completion_tokens_details': {'accepted_prediction_tokens': 0, 'audio_tokens': 0, 'reasoning_tokens': 0, 'rejected_prediction_tokens': 0}, 'prompt_tokens_details': {'audio_tokens': 0, 'cached_tokens': 0}}, 'model_name': 'gpt-3.5-turbo-0125', 'system_fingerprint': None, 'id': 'chatcmpl-BtTGxRyPK39uYDdZ8O27fn6QPNQ7A', 'service_tier': 'default', 'finish_reason': 'tool_calls', 'logprobs': None}, id='run--98c9250e-f21e-40c1-a320-63c10296bdbd-0', tool_calls=[{'name': 'tavily_search', 'args': {'query': 'current price of bitcoin', 'search_depth': 'basic'}, 'id': 'call_hEOEIr0N1kCNhG0WS5YwrRFq', 'type': 'tool_call'}], usage_metadata={'input_tokens': 904, 'output_tokens': 24, 'total_tokens': 928, 'input_token_details': {'audio': 0, 'cache_read': 0}, 'output_token_details': {'audio': 0, 'reasoning': 0}}), ToolMessage(content=\"{'query': 'current price of bitcoin', 'follow_up_questions': None, 'answer': None, 'images': [], 'results': [{'url': 'https://www.coinbase.com/price/bitcoin', 'title': 'Bitcoin Price, BTC Price, Live Charts, and Marketcap - Coinbase', 'content': 'BTC is currently trading at $119,791.55. Bitcoin has seen a 1% increase from its 24-hour price of $118,804.83, and is 11% up from its week-ago value of', 'score': 0.9053309, 'raw_content': None}, {'url': 'https://coinmarketcap.com/currencies/bitcoin/', 'title': 'Bitcoin price today, BTC to USD live price, marketcap and chart', 'content': 'The live Bitcoin price today is $118272.03 USD with a 24-hour trading volume of $184072968777.54 USD. We update our BTC to USD price in real-time.', 'score': 0.88799405, 'raw_content': None}, {'url': 'https://www.coindesk.com/price/bitcoin', 'title': 'Bitcoin (BTC) Price | BTC to USD Price and Live Chart - CoinDesk', 'content': 'The price of Bitcoin (BTC) is $116933.57 today as of Jul 15, 2025, 2:13 am EDT, with a 24-hour trading volume of $35.23B.', 'score': 0.8832463, 'raw_content': None}], 'response_time': 1.02}\", name='tavily_search', id='dcd215de-cef3-4d5e-a577-085d3cac167b', tool_call_id='call_hEOEIr0N1kCNhG0WS5YwrRFq'), AIMessage(content='The current price of Bitcoin is $119,791.55.', additional_kwargs={'refusal': None}, response_metadata={'token_usage': {'completion_tokens': 14, 'prompt_tokens': 1273, 'total_tokens': 1287, 'completion_tokens_details': {'accepted_prediction_tokens': 0, 'audio_tokens': 0, 'reasoning_tokens': 0, 'rejected_prediction_tokens': 0}, 'prompt_tokens_details': {'audio_tokens': 0, 'cached_tokens': 0}}, 'model_name': 'gpt-3.5-turbo-0125', 'system_fingerprint': None, 'id': 'chatcmpl-BtTH0x1mxUqJRcQ8uU7X30RGLqEsP', 'service_tier': 'default', 'finish_reason': 'stop', 'logprobs': None}, id='run--7cf763e0-2a8a-42a0-ad8d-3d3db7cafbd6-0', usage_metadata={'input_tokens': 1273, 'output_tokens': 14, 'total_tokens': 1287, 'input_token_details': {'audio': 0, 'cache_read': 0}, 'output_token_details': {'audio': 0, 'reasoning': 0}})]}, next=(), config={'configurable': {'thread_id': '1', 'checkpoint_ns': '', 'checkpoint_id': '1f061436-d654-68bf-8003-9aa9727edfeb'}}, metadata={'source': 'loop', 'step': 3, 'parents': {}, 'thread_id': '1'}, created_at='2025-07-15T06:17:47.454266+00:00', parent_config={'configurable': {'thread_id': '1', 'checkpoint_ns': '', 'checkpoint_id': '1f061436-c707-62ba-8002-899f056df034'}}, tasks=(), interrupts=())"
      ]
     },
     "execution_count": 26,
     "metadata": {},
     "output_type": "execute_result"
    }
   ],
   "source": [
    "agent_mode.graph.get_state(thread)"
   ]
  },
  {
   "cell_type": "code",
   "execution_count": 27,
   "id": "e9a9d622-5cd9-4726-9a7a-78d375a7812c",
   "metadata": {},
   "outputs": [
    {
     "data": {
      "text/plain": [
       "()"
      ]
     },
     "execution_count": 27,
     "metadata": {},
     "output_type": "execute_result"
    }
   ],
   "source": [
    "agent_mode.graph.get_state(thread).next"
   ]
  },
  {
   "cell_type": "code",
   "execution_count": 28,
   "id": "a75a600c-5553-433c-a69d-a9b7c65f9eca",
   "metadata": {},
   "outputs": [
    {
     "name": "stdout",
     "output_type": "stream",
     "text": [
      "{'messages': [HumanMessage(content='who is the current chess champion', additional_kwargs={}, response_metadata={}, id='4b12399e-f4aa-426d-976a-567b92d95585'), AIMessage(content='', additional_kwargs={'tool_calls': [{'id': 'call_KzVPO4nJ5IOnL8r1cT3X3jFe', 'function': {'arguments': '{\"query\":\"current chess champion\",\"search_depth\":\"advanced\"}', 'name': 'tavily_search'}, 'type': 'function'}], 'refusal': None}, response_metadata={'token_usage': {'completion_tokens': 23, 'prompt_tokens': 902, 'total_tokens': 925, 'completion_tokens_details': {'accepted_prediction_tokens': 0, 'audio_tokens': 0, 'reasoning_tokens': 0, 'rejected_prediction_tokens': 0}, 'prompt_tokens_details': {'audio_tokens': 0, 'cached_tokens': 0}}, 'model_name': 'gpt-3.5-turbo-0125', 'system_fingerprint': None, 'id': 'chatcmpl-BtTH1hhVGSC3E1H941p1xdyKVLqte', 'service_tier': 'default', 'finish_reason': 'tool_calls', 'logprobs': None}, id='run--e2449776-facb-4f5c-9f33-44d3e5325814-0', tool_calls=[{'name': 'tavily_search', 'args': {'query': 'current chess champion', 'search_depth': 'advanced'}, 'id': 'call_KzVPO4nJ5IOnL8r1cT3X3jFe', 'type': 'tool_call'}], usage_metadata={'input_tokens': 902, 'output_tokens': 23, 'total_tokens': 925, 'input_token_details': {'audio': 0, 'cache_read': 0}, 'output_token_details': {'audio': 0, 'reasoning': 0}})]}\n",
      "{'messages': [AIMessage(content='', additional_kwargs={'tool_calls': [{'id': 'call_KzVPO4nJ5IOnL8r1cT3X3jFe', 'function': {'arguments': '{\"query\":\"current chess champion\",\"search_depth\":\"advanced\"}', 'name': 'tavily_search'}, 'type': 'function'}], 'refusal': None}, response_metadata={'token_usage': {'completion_tokens': 23, 'prompt_tokens': 902, 'total_tokens': 925, 'completion_tokens_details': {'accepted_prediction_tokens': 0, 'audio_tokens': 0, 'reasoning_tokens': 0, 'rejected_prediction_tokens': 0}, 'prompt_tokens_details': {'audio_tokens': 0, 'cached_tokens': 0}}, 'model_name': 'gpt-3.5-turbo-0125', 'system_fingerprint': None, 'id': 'chatcmpl-BtTH1hhVGSC3E1H941p1xdyKVLqte', 'service_tier': 'default', 'finish_reason': 'tool_calls', 'logprobs': None}, id='run--e2449776-facb-4f5c-9f33-44d3e5325814-0', tool_calls=[{'name': 'tavily_search', 'args': {'query': 'current chess champion', 'search_depth': 'advanced'}, 'id': 'call_KzVPO4nJ5IOnL8r1cT3X3jFe', 'type': 'tool_call'}], usage_metadata={'input_tokens': 902, 'output_tokens': 23, 'total_tokens': 925, 'input_token_details': {'audio': 0, 'cache_read': 0}, 'output_token_details': {'audio': 0, 'reasoning': 0}})]}\n",
      "()\n"
     ]
    }
   ],
   "source": [
    "thread = {\"configurable\": {\"thread_id\": \"2\"}}\n",
    "message = [HumanMessage(content=\"who is the current chess champion\")]\n",
    "for event in agent_mode.graph.stream({\"messages\": message}, thread):\n",
    "    for v in event.values():\n",
    "        print(v)"
   ]
  },
  {
   "cell_type": "code",
   "execution_count": 29,
   "id": "65732599-c6f6-4baa-8651-cd2d5fc30850",
   "metadata": {},
   "outputs": [
    {
     "data": {
      "text/plain": [
       "('tools_calls',)"
      ]
     },
     "execution_count": 29,
     "metadata": {},
     "output_type": "execute_result"
    }
   ],
   "source": [
    "agent_mode.graph.get_state(thread).next"
   ]
  },
  {
   "cell_type": "code",
   "execution_count": 30,
   "id": "c0e58f42-ccce-42ad-b751-039472135644",
   "metadata": {
    "scrolled": true
   },
   "outputs": [
    {
     "name": "stdout",
     "output_type": "stream",
     "text": [
      "\n",
      " StateSnapshot(values={'messages': [HumanMessage(content='who is the current chess champion', additional_kwargs={}, response_metadata={}, id='4b12399e-f4aa-426d-976a-567b92d95585'), AIMessage(content='', additional_kwargs={'tool_calls': [{'id': 'call_KzVPO4nJ5IOnL8r1cT3X3jFe', 'function': {'arguments': '{\"query\":\"current chess champion\",\"search_depth\":\"advanced\"}', 'name': 'tavily_search'}, 'type': 'function'}], 'refusal': None}, response_metadata={'token_usage': {'completion_tokens': 23, 'prompt_tokens': 902, 'total_tokens': 925, 'completion_tokens_details': {'accepted_prediction_tokens': 0, 'audio_tokens': 0, 'reasoning_tokens': 0, 'rejected_prediction_tokens': 0}, 'prompt_tokens_details': {'audio_tokens': 0, 'cached_tokens': 0}}, 'model_name': 'gpt-3.5-turbo-0125', 'system_fingerprint': None, 'id': 'chatcmpl-BtTH1hhVGSC3E1H941p1xdyKVLqte', 'service_tier': 'default', 'finish_reason': 'tool_calls', 'logprobs': None}, id='run--e2449776-facb-4f5c-9f33-44d3e5325814-0', tool_calls=[{'name': 'tavily_search', 'args': {'query': 'current chess champion', 'search_depth': 'advanced'}, 'id': 'call_KzVPO4nJ5IOnL8r1cT3X3jFe', 'type': 'tool_call'}], usage_metadata={'input_tokens': 902, 'output_tokens': 23, 'total_tokens': 925, 'input_token_details': {'audio': 0, 'cache_read': 0}, 'output_token_details': {'audio': 0, 'reasoning': 0}})]}, next=('tools_calls',), config={'configurable': {'thread_id': '2', 'checkpoint_ns': '', 'checkpoint_id': '1f061436-de6f-68bf-8001-06523681fa42'}}, metadata={'source': 'loop', 'step': 1, 'parents': {}, 'thread_id': '2'}, created_at='2025-07-15T06:17:48.304188+00:00', parent_config={'configurable': {'thread_id': '2', 'checkpoint_ns': '', 'checkpoint_id': '1f061436-d722-610e-8000-2b4dceefd09d'}}, tasks=(PregelTask(id='7b6747cc-1d90-d613-35ca-5df55c6f8d7d', name='tools_calls', path=('__pregel_pull', 'tools_calls'), error=None, interrupts=(), state=None, result=None),), interrupts=()) \n",
      "\n"
     ]
    },
    {
     "name": "stdin",
     "output_type": "stream",
     "text": [
      "Proceed with (y) for yes y\n"
     ]
    },
    {
     "name": "stdout",
     "output_type": "stream",
     "text": [
      "Calling...: {'name': 'tavily_search', 'args': {'query': 'current chess champion', 'search_depth': 'advanced'}, 'id': 'call_KzVPO4nJ5IOnL8r1cT3X3jFe', 'type': 'tool_call'}\n",
      "Back to Model!\n",
      "{'messages': [ToolMessage(content='{\\'query\\': \\'current chess champion\\', \\'follow_up_questions\\': None, \\'answer\\': None, \\'images\\': [], \\'results\\': [{\\'url\\': \\'https://www.chess.com/players\\', \\'title\\': \\'The Top Chess Players in the World\\', \\'content\\': \"The player\\'s full name is Gukesh Dommaraju and they confirmed to Chess.com that they prefer to be called by their first name, Gukesh.\\\\nIndian GM Gukesh Dommaraju is the current world chess champion, defeating GM Ding Liren in the FIDE World Championship on December 12, 2024. He is the youngest undisputed...\\\\n\\\\nArjun Erigaisi\\\\n\\\\n## GM Arjun Erigaisi 2776 | #5 [...] Ding Liren is a Chinese chess grandmaster and 17th FIDE world chess champion. He was the world champion from May 2023 to December 2024, earning the title after defeating GM Ian Nepomniachtchi in the 2023 FIDE World Championship. Like most world champions, a combination of dominance and close calls have...\\\\n\\\\nVincent Keymer\\\\n\\\\n## GM Vincent Keymer 2730 | #21 [...] GM Javokhir Sindarov is a grandmaster from Uzbekistan. One of the youngest grandmasters in history, in 2018 he earned his GM title at the age of 12 years, 10 months, and 5 days. He is one of just five players to earn the title before turning 13 years old (as of August 2022).\\\\nSindarov is also a two-time...\", \\'score\\': 0.8755427, \\'raw_content\\': None}, {\\'url\\': \\'https://simple.wikipedia.org/wiki/List_of_World_Chess_Champions\\', \\'title\\': \\'List of World Chess Champions - Simple Wikipedia\\', \\'content\\': \\'Gukesh Dommuraju of India is the youngest and current World Chess Champion since 2024.\\\\n\\\\n## Some players and authors before 1821\\\\n\\\\nThese players are included (pre-18th century) on little more than opinion, and (18th century) on the basis of more substantial information. Some authors of important early works on chess are noted. [...] | Alexandra Kosteniuk | 2008–2010 | Russia |\\\\n| Hou Yifan | 2010–2012 | People\\\\\\'s Republic of China |\\\\n| Anna Ushenina\") | 2012–2013 | Ukraine |\\\\n| Hou Yifan | 2013–2015 | People\\\\\\'s Republic of China |\\\\n| Mariya Muzychuk\") | 2015-2016 | Ukraine |\\\\n| Hou Yifan | 2016-2017 | China People\\\\\\'s Republic of China |\\\\n| Tan Zhongyi\") | 2017–2018 | People\\\\\\'s Republic of China |\\\\n| Ju Wenjun | 2018–present | People\\\\\\'s Republic of China | [...] | # | Name | Year | Country |\\\\n| --- | --- | --- | --- |\\\\n| 14 | Vladimir Kramnik | 2006–2007 | Russia |\\\\n| 15 | Viswanathan Anand | 2007–2013 | India |\\\\n| 16 | Magnus Carlsen | 2013–2023 | Norway |\\\\n| 17 | Ding Liren | 2023–2024 | People\\\\\\'s Republic of China |\\\\n| 18 | Gukesh Dommaraju | 2024-present | India |\\\\n\\\\n## Women\\\\\\'s World Champions\\', \\'score\\': 0.87166095, \\'raw_content\\': None}, {\\'url\\': \\'https://en.wikipedia.org/wiki/2025_in_chess\\', \\'title\\': \\'2025 in chess - Wikipedia\\', \\'content\\': \\'| Rank | Prev | Player | Rating | Change |\\\\n| --- | --- | --- | --- | --- |\\\\n| 1 | 1 | Norway Magnus Carlsen | 2833 | +2 |\\\\n| 2 | 2 | United States Fabiano Caruana | 2803 | 0 |\\\\n| 3 | 3 | United States Hikaru Nakamura | 2802 | 0 |\\\\n| 4 | 4 | India Arjun Erigaisi | 2801 | 0 |\\\\n| 5 | 5 | India Gukesh Dommaraju | 2777 | 0 |\\\\n| 6 | 6 | Uzbekistan Nodirbek Abdusattorov | 2766 | -2 |\\\\n| 7 | 7 | France Alireza Firouzja | 2760 | -3 |\\\\n| 8 | 9 | China Wei Yi | 2755 | +4 | [...] | Rank | Prev | Player | Rating | Change |\\\\n| --- | --- | --- | --- | --- |\\\\n| 1 | 1 | Norway Magnus Carlsen | 2833 | 0 |\\\\n| 2 | 3 | United States Hikaru Nakamura | 2802 | 0 |\\\\n| 3 | 5 | India Gukesh Dommaraju | 2787 | +10 |\\\\n| 4 | 2 | United States Fabiano Caruana | 2783 | -20 |\\\\n| 5 | 4 | India Arjun Erigaisi | 2777 | -24 |\\\\n| 6 | 6 | Uzbekistan Nodirbek Abdusattorov | 2773 | +7 |\\\\n| 7 | 8 | China Wei Yi | 2760 | +5 |\\\\n| 8 | 14 | India R Praggnanandhaa | 2758 | +17 | [...] | Rank | Prev | Player | Rating | Change |\\\\n| --- | --- | --- | --- | --- |\\\\n| 1 | 1 | Norway Magnus Carlsen | 2837 | 0 |\\\\n| 2 | 2 | United States Hikaru Nakamura | 2804 | 0 |\\\\n| 3 | 3 | India Gukesh Dommaraju | 2787 | 0 |\\\\n| 4 | 5 | India Arjun Erigaisi | 2782 | 0 |\\\\n| 5 | 4 | United States Fabiano Caruana | 2776 | 0 |\\\\n| 6 | 6 | Uzbekistan Nodirbek Abdusattorov | 2771 | -2 |\\\\n| 7 | 7 | China Wei Yi | 2758 |  |\\\\n| 8 | 8 | India R Praggnanandhaa | 2758 | 0 |\\', \\'score\\': 0.73891455, \\'raw_content\\': None}, {\\'url\\': \\'https://www.chess.com/news/view/carlsen-wins-2025-superunited-croatia-rapid-blitz\\', \\'title\\': \"\\'B-Game\\' Enough As Carlsen Wins Croatia Rapid & Blitz - Chess.com\", \\'content\\': \\'| 6= | Jan-Krzysztof Duda |  | 3.5 | 1 | 6.5 | 11 | $37,500 |\\\\n| 6= | Nodirbek Abdusattorov |  |  | 6 | 5 | 11 | $37,000 |\\\\n| 8= | Fabiano Caruana |  |  | 7 | 3.5 | 10.5 | $41,500 |\\\\n| 8= | Levon Aronian |  | 7 | 3.5 |  | 10.5 | $37,125 |\\\\n| — | Vladimir Fedoseev |  | 13 |  |  | 13 | $40,000 |\\\\n| — | Magnus Carlsen |  |  |  | 13 | 13 | $40,000 |\\\\n| — | Bogdan-Daniel Deac |  | 5 | 3.5 |  | 8.5 | $28,125 |\\\\n| — | Aravindh Chithambaram |  | 3.5 |  |  | 3.5 | $9,500 | [...] |  |  |  |  |  |  |  |  |\\\\n| --- | --- | --- | --- | --- | --- | --- | --- |\\\\n| Rank | Player | FED | Poland | Romania | Croatia | Total | Prize Money |\\\\n| 1 | Alireza Firouzja |  | 6 | 10 | 6.5 | 22.5 | $100,166 |\\\\n| 2= | R Praggnanandhaa |  | 8 | 10 | 2 | 20 | $110,666 |\\\\n| 2= | Maxime Vachier-Lagrave |  | 10 | 10 |  | 20 | $97,666 |\\\\n| 4 | Wesley So |  |  | 3.5 | 10 | 13.5 | $47,125 |\\\\n| 5 | Gukesh Dommaraju |  |  | 3.5 | 8 | 11.5 | $42,125 | [...] | — | Anish Giri |  |  |  | 3.5 | 3.5 | $9,500 |\\\\n| — | David Gavrilescu |  | 2 |  |  | 2 | $8,000 |\\\\n| — | Veselin Topalov |  | 1 |  |  | 1 | $7,000 |\\\\n| — | Ivan Saric |  |  |  | 1 | 1 | $7,000 |\\', \\'score\\': 0.62303346, \\'raw_content\\': None}], \\'response_time\\': 3.82}', name='tavily_search', id='b9f6df69-dfb2-4619-aac9-db5c4467ba4a', tool_call_id='call_KzVPO4nJ5IOnL8r1cT3X3jFe')]}\n",
      "{'messages': [HumanMessage(content='who is the current chess champion', additional_kwargs={}, response_metadata={}, id='4b12399e-f4aa-426d-976a-567b92d95585'), AIMessage(content='', additional_kwargs={'tool_calls': [{'id': 'call_KzVPO4nJ5IOnL8r1cT3X3jFe', 'function': {'arguments': '{\"query\":\"current chess champion\",\"search_depth\":\"advanced\"}', 'name': 'tavily_search'}, 'type': 'function'}], 'refusal': None}, response_metadata={'token_usage': {'completion_tokens': 23, 'prompt_tokens': 902, 'total_tokens': 925, 'completion_tokens_details': {'accepted_prediction_tokens': 0, 'audio_tokens': 0, 'reasoning_tokens': 0, 'rejected_prediction_tokens': 0}, 'prompt_tokens_details': {'audio_tokens': 0, 'cached_tokens': 0}}, 'model_name': 'gpt-3.5-turbo-0125', 'system_fingerprint': None, 'id': 'chatcmpl-BtTH1hhVGSC3E1H941p1xdyKVLqte', 'service_tier': 'default', 'finish_reason': 'tool_calls', 'logprobs': None}, id='run--e2449776-facb-4f5c-9f33-44d3e5325814-0', tool_calls=[{'name': 'tavily_search', 'args': {'query': 'current chess champion', 'search_depth': 'advanced'}, 'id': 'call_KzVPO4nJ5IOnL8r1cT3X3jFe', 'type': 'tool_call'}], usage_metadata={'input_tokens': 902, 'output_tokens': 23, 'total_tokens': 925, 'input_token_details': {'audio': 0, 'cache_read': 0}, 'output_token_details': {'audio': 0, 'reasoning': 0}}), ToolMessage(content='{\\'query\\': \\'current chess champion\\', \\'follow_up_questions\\': None, \\'answer\\': None, \\'images\\': [], \\'results\\': [{\\'url\\': \\'https://www.chess.com/players\\', \\'title\\': \\'The Top Chess Players in the World\\', \\'content\\': \"The player\\'s full name is Gukesh Dommaraju and they confirmed to Chess.com that they prefer to be called by their first name, Gukesh.\\\\nIndian GM Gukesh Dommaraju is the current world chess champion, defeating GM Ding Liren in the FIDE World Championship on December 12, 2024. He is the youngest undisputed...\\\\n\\\\nArjun Erigaisi\\\\n\\\\n## GM Arjun Erigaisi 2776 | #5 [...] Ding Liren is a Chinese chess grandmaster and 17th FIDE world chess champion. He was the world champion from May 2023 to December 2024, earning the title after defeating GM Ian Nepomniachtchi in the 2023 FIDE World Championship. Like most world champions, a combination of dominance and close calls have...\\\\n\\\\nVincent Keymer\\\\n\\\\n## GM Vincent Keymer 2730 | #21 [...] GM Javokhir Sindarov is a grandmaster from Uzbekistan. One of the youngest grandmasters in history, in 2018 he earned his GM title at the age of 12 years, 10 months, and 5 days. He is one of just five players to earn the title before turning 13 years old (as of August 2022).\\\\nSindarov is also a two-time...\", \\'score\\': 0.8755427, \\'raw_content\\': None}, {\\'url\\': \\'https://simple.wikipedia.org/wiki/List_of_World_Chess_Champions\\', \\'title\\': \\'List of World Chess Champions - Simple Wikipedia\\', \\'content\\': \\'Gukesh Dommuraju of India is the youngest and current World Chess Champion since 2024.\\\\n\\\\n## Some players and authors before 1821\\\\n\\\\nThese players are included (pre-18th century) on little more than opinion, and (18th century) on the basis of more substantial information. Some authors of important early works on chess are noted. [...] | Alexandra Kosteniuk | 2008–2010 | Russia |\\\\n| Hou Yifan | 2010–2012 | People\\\\\\'s Republic of China |\\\\n| Anna Ushenina\") | 2012–2013 | Ukraine |\\\\n| Hou Yifan | 2013–2015 | People\\\\\\'s Republic of China |\\\\n| Mariya Muzychuk\") | 2015-2016 | Ukraine |\\\\n| Hou Yifan | 2016-2017 | China People\\\\\\'s Republic of China |\\\\n| Tan Zhongyi\") | 2017–2018 | People\\\\\\'s Republic of China |\\\\n| Ju Wenjun | 2018–present | People\\\\\\'s Republic of China | [...] | # | Name | Year | Country |\\\\n| --- | --- | --- | --- |\\\\n| 14 | Vladimir Kramnik | 2006–2007 | Russia |\\\\n| 15 | Viswanathan Anand | 2007–2013 | India |\\\\n| 16 | Magnus Carlsen | 2013–2023 | Norway |\\\\n| 17 | Ding Liren | 2023–2024 | People\\\\\\'s Republic of China |\\\\n| 18 | Gukesh Dommaraju | 2024-present | India |\\\\n\\\\n## Women\\\\\\'s World Champions\\', \\'score\\': 0.87166095, \\'raw_content\\': None}, {\\'url\\': \\'https://en.wikipedia.org/wiki/2025_in_chess\\', \\'title\\': \\'2025 in chess - Wikipedia\\', \\'content\\': \\'| Rank | Prev | Player | Rating | Change |\\\\n| --- | --- | --- | --- | --- |\\\\n| 1 | 1 | Norway Magnus Carlsen | 2833 | +2 |\\\\n| 2 | 2 | United States Fabiano Caruana | 2803 | 0 |\\\\n| 3 | 3 | United States Hikaru Nakamura | 2802 | 0 |\\\\n| 4 | 4 | India Arjun Erigaisi | 2801 | 0 |\\\\n| 5 | 5 | India Gukesh Dommaraju | 2777 | 0 |\\\\n| 6 | 6 | Uzbekistan Nodirbek Abdusattorov | 2766 | -2 |\\\\n| 7 | 7 | France Alireza Firouzja | 2760 | -3 |\\\\n| 8 | 9 | China Wei Yi | 2755 | +4 | [...] | Rank | Prev | Player | Rating | Change |\\\\n| --- | --- | --- | --- | --- |\\\\n| 1 | 1 | Norway Magnus Carlsen | 2833 | 0 |\\\\n| 2 | 3 | United States Hikaru Nakamura | 2802 | 0 |\\\\n| 3 | 5 | India Gukesh Dommaraju | 2787 | +10 |\\\\n| 4 | 2 | United States Fabiano Caruana | 2783 | -20 |\\\\n| 5 | 4 | India Arjun Erigaisi | 2777 | -24 |\\\\n| 6 | 6 | Uzbekistan Nodirbek Abdusattorov | 2773 | +7 |\\\\n| 7 | 8 | China Wei Yi | 2760 | +5 |\\\\n| 8 | 14 | India R Praggnanandhaa | 2758 | +17 | [...] | Rank | Prev | Player | Rating | Change |\\\\n| --- | --- | --- | --- | --- |\\\\n| 1 | 1 | Norway Magnus Carlsen | 2837 | 0 |\\\\n| 2 | 2 | United States Hikaru Nakamura | 2804 | 0 |\\\\n| 3 | 3 | India Gukesh Dommaraju | 2787 | 0 |\\\\n| 4 | 5 | India Arjun Erigaisi | 2782 | 0 |\\\\n| 5 | 4 | United States Fabiano Caruana | 2776 | 0 |\\\\n| 6 | 6 | Uzbekistan Nodirbek Abdusattorov | 2771 | -2 |\\\\n| 7 | 7 | China Wei Yi | 2758 |  |\\\\n| 8 | 8 | India R Praggnanandhaa | 2758 | 0 |\\', \\'score\\': 0.73891455, \\'raw_content\\': None}, {\\'url\\': \\'https://www.chess.com/news/view/carlsen-wins-2025-superunited-croatia-rapid-blitz\\', \\'title\\': \"\\'B-Game\\' Enough As Carlsen Wins Croatia Rapid & Blitz - Chess.com\", \\'content\\': \\'| 6= | Jan-Krzysztof Duda |  | 3.5 | 1 | 6.5 | 11 | $37,500 |\\\\n| 6= | Nodirbek Abdusattorov |  |  | 6 | 5 | 11 | $37,000 |\\\\n| 8= | Fabiano Caruana |  |  | 7 | 3.5 | 10.5 | $41,500 |\\\\n| 8= | Levon Aronian |  | 7 | 3.5 |  | 10.5 | $37,125 |\\\\n| — | Vladimir Fedoseev |  | 13 |  |  | 13 | $40,000 |\\\\n| — | Magnus Carlsen |  |  |  | 13 | 13 | $40,000 |\\\\n| — | Bogdan-Daniel Deac |  | 5 | 3.5 |  | 8.5 | $28,125 |\\\\n| — | Aravindh Chithambaram |  | 3.5 |  |  | 3.5 | $9,500 | [...] |  |  |  |  |  |  |  |  |\\\\n| --- | --- | --- | --- | --- | --- | --- | --- |\\\\n| Rank | Player | FED | Poland | Romania | Croatia | Total | Prize Money |\\\\n| 1 | Alireza Firouzja |  | 6 | 10 | 6.5 | 22.5 | $100,166 |\\\\n| 2= | R Praggnanandhaa |  | 8 | 10 | 2 | 20 | $110,666 |\\\\n| 2= | Maxime Vachier-Lagrave |  | 10 | 10 |  | 20 | $97,666 |\\\\n| 4 | Wesley So |  |  | 3.5 | 10 | 13.5 | $47,125 |\\\\n| 5 | Gukesh Dommaraju |  |  | 3.5 | 8 | 11.5 | $42,125 | [...] | — | Anish Giri |  |  |  | 3.5 | 3.5 | $9,500 |\\\\n| — | David Gavrilescu |  | 2 |  |  | 2 | $8,000 |\\\\n| — | Veselin Topalov |  | 1 |  |  | 1 | $7,000 |\\\\n| — | Ivan Saric |  |  |  | 1 | 1 | $7,000 |\\', \\'score\\': 0.62303346, \\'raw_content\\': None}], \\'response_time\\': 3.82}', name='tavily_search', id='b9f6df69-dfb2-4619-aac9-db5c4467ba4a', tool_call_id='call_KzVPO4nJ5IOnL8r1cT3X3jFe'), AIMessage(content='The current world chess champion is Gukesh Dommaraju from India. He defeated GM Ding Liren in the FIDE World Championship on December 12, 2024.', additional_kwargs={'refusal': None}, response_metadata={'token_usage': {'completion_tokens': 37, 'prompt_tokens': 3033, 'total_tokens': 3070, 'completion_tokens_details': {'accepted_prediction_tokens': 0, 'audio_tokens': 0, 'reasoning_tokens': 0, 'rejected_prediction_tokens': 0}, 'prompt_tokens_details': {'audio_tokens': 0, 'cached_tokens': 0}}, 'model_name': 'gpt-3.5-turbo-0125', 'system_fingerprint': None, 'id': 'chatcmpl-BtTHDrR0gpQYGMV0cnsEqNG71cmRB', 'service_tier': 'default', 'finish_reason': 'stop', 'logprobs': None}, id='run--591e4a83-8d9c-41ee-be9e-81bf5f52997d-0', usage_metadata={'input_tokens': 3033, 'output_tokens': 37, 'total_tokens': 3070, 'input_token_details': {'audio': 0, 'cache_read': 0}, 'output_token_details': {'audio': 0, 'reasoning': 0}})]}\n",
      "{'messages': [AIMessage(content='The current world chess champion is Gukesh Dommaraju from India. He defeated GM Ding Liren in the FIDE World Championship on December 12, 2024.', additional_kwargs={'refusal': None}, response_metadata={'token_usage': {'completion_tokens': 37, 'prompt_tokens': 3033, 'total_tokens': 3070, 'completion_tokens_details': {'accepted_prediction_tokens': 0, 'audio_tokens': 0, 'reasoning_tokens': 0, 'rejected_prediction_tokens': 0}, 'prompt_tokens_details': {'audio_tokens': 0, 'cached_tokens': 0}}, 'model_name': 'gpt-3.5-turbo-0125', 'system_fingerprint': None, 'id': 'chatcmpl-BtTHDrR0gpQYGMV0cnsEqNG71cmRB', 'service_tier': 'default', 'finish_reason': 'stop', 'logprobs': None}, id='run--591e4a83-8d9c-41ee-be9e-81bf5f52997d-0', usage_metadata={'input_tokens': 3033, 'output_tokens': 37, 'total_tokens': 3070, 'input_token_details': {'audio': 0, 'cache_read': 0}, 'output_token_details': {'audio': 0, 'reasoning': 0}})]}\n"
     ]
    }
   ],
   "source": [
    "while agent_mode.graph.get_state(thread).next:\n",
    "    print(\"\\n\", agent_mode.graph.get_state(thread),\"\\n\")\n",
    "    input_box = input(\"Proceed with (y) for yes\")\n",
    "    if input_box != \"y\":\n",
    "        print(\"Tool call aborted\")\n",
    "        break\n",
    "    for event in agent_mode.graph.stream(None, thread):\n",
    "        for v in event.values():\n",
    "            print(v)"
   ]
  },
  {
   "cell_type": "code",
   "execution_count": 31,
   "id": "337005c0-9712-471e-8a1e-c6c52ba1acaf",
   "metadata": {},
   "outputs": [
    {
     "name": "stdout",
     "output_type": "stream",
     "text": [
      "{'messages': [HumanMessage(content='what is the weather in LA', additional_kwargs={}, response_metadata={}, id='741b0d66-3310-4d16-9220-d7f9627d6d1d'), AIMessage(content='', additional_kwargs={'tool_calls': [{'id': 'call_7SrdDcN4F0F7zNn5CSHP3XlB', 'function': {'arguments': '{\"query\":\"current weather in Los Angeles\"}', 'name': 'tavily_search'}, 'type': 'function'}], 'refusal': None}, response_metadata={'token_usage': {'completion_tokens': 20, 'prompt_tokens': 902, 'total_tokens': 922, 'completion_tokens_details': {'accepted_prediction_tokens': 0, 'audio_tokens': 0, 'reasoning_tokens': 0, 'rejected_prediction_tokens': 0}, 'prompt_tokens_details': {'audio_tokens': 0, 'cached_tokens': 0}}, 'model_name': 'gpt-3.5-turbo-0125', 'system_fingerprint': None, 'id': 'chatcmpl-BtTHELNLgv9SfXUVNSkqHQzAZmWp5', 'service_tier': 'default', 'finish_reason': 'tool_calls', 'logprobs': None}, id='run--abf4fb3d-6b64-4ee2-bfa7-9fb14862fe2d-0', tool_calls=[{'name': 'tavily_search', 'args': {'query': 'current weather in Los Angeles'}, 'id': 'call_7SrdDcN4F0F7zNn5CSHP3XlB', 'type': 'tool_call'}], usage_metadata={'input_tokens': 902, 'output_tokens': 20, 'total_tokens': 922, 'input_token_details': {'audio': 0, 'cache_read': 0}, 'output_token_details': {'audio': 0, 'reasoning': 0}})]}\n",
      "{'messages': [AIMessage(content='', additional_kwargs={'tool_calls': [{'id': 'call_7SrdDcN4F0F7zNn5CSHP3XlB', 'function': {'arguments': '{\"query\":\"current weather in Los Angeles\"}', 'name': 'tavily_search'}, 'type': 'function'}], 'refusal': None}, response_metadata={'token_usage': {'completion_tokens': 20, 'prompt_tokens': 902, 'total_tokens': 922, 'completion_tokens_details': {'accepted_prediction_tokens': 0, 'audio_tokens': 0, 'reasoning_tokens': 0, 'rejected_prediction_tokens': 0}, 'prompt_tokens_details': {'audio_tokens': 0, 'cached_tokens': 0}}, 'model_name': 'gpt-3.5-turbo-0125', 'system_fingerprint': None, 'id': 'chatcmpl-BtTHELNLgv9SfXUVNSkqHQzAZmWp5', 'service_tier': 'default', 'finish_reason': 'tool_calls', 'logprobs': None}, id='run--abf4fb3d-6b64-4ee2-bfa7-9fb14862fe2d-0', tool_calls=[{'name': 'tavily_search', 'args': {'query': 'current weather in Los Angeles'}, 'id': 'call_7SrdDcN4F0F7zNn5CSHP3XlB', 'type': 'tool_call'}], usage_metadata={'input_tokens': 902, 'output_tokens': 20, 'total_tokens': 922, 'input_token_details': {'audio': 0, 'cache_read': 0}, 'output_token_details': {'audio': 0, 'reasoning': 0}})]}\n",
      "()\n"
     ]
    }
   ],
   "source": [
    "thread = {\"configurable\": {\"thread_id\": \"3\"}}\n",
    "message = [HumanMessage(content=\"what is the weather in LA\")]\n",
    "for event in agent_mode.graph.stream({\"messages\": message}, thread):\n",
    "    for v in event.values():\n",
    "        print(v)"
   ]
  },
  {
   "cell_type": "code",
   "execution_count": 32,
   "id": "3a8cf17d-5f6e-4ed6-a0e2-b7ec7e791ae8",
   "metadata": {},
   "outputs": [
    {
     "data": {
      "text/plain": [
       "StateSnapshot(values={'messages': [HumanMessage(content='what is the weather in LA', additional_kwargs={}, response_metadata={}, id='741b0d66-3310-4d16-9220-d7f9627d6d1d'), AIMessage(content='', additional_kwargs={'tool_calls': [{'id': 'call_7SrdDcN4F0F7zNn5CSHP3XlB', 'function': {'arguments': '{\"query\":\"current weather in Los Angeles\"}', 'name': 'tavily_search'}, 'type': 'function'}], 'refusal': None}, response_metadata={'token_usage': {'completion_tokens': 20, 'prompt_tokens': 902, 'total_tokens': 922, 'completion_tokens_details': {'accepted_prediction_tokens': 0, 'audio_tokens': 0, 'reasoning_tokens': 0, 'rejected_prediction_tokens': 0}, 'prompt_tokens_details': {'audio_tokens': 0, 'cached_tokens': 0}}, 'model_name': 'gpt-3.5-turbo-0125', 'system_fingerprint': None, 'id': 'chatcmpl-BtTHELNLgv9SfXUVNSkqHQzAZmWp5', 'service_tier': 'default', 'finish_reason': 'tool_calls', 'logprobs': None}, id='run--abf4fb3d-6b64-4ee2-bfa7-9fb14862fe2d-0', tool_calls=[{'name': 'tavily_search', 'args': {'query': 'current weather in Los Angeles'}, 'id': 'call_7SrdDcN4F0F7zNn5CSHP3XlB', 'type': 'tool_call'}], usage_metadata={'input_tokens': 902, 'output_tokens': 20, 'total_tokens': 922, 'input_token_details': {'audio': 0, 'cache_read': 0}, 'output_token_details': {'audio': 0, 'reasoning': 0}})]}, next=('tools_calls',), config={'configurable': {'thread_id': '3', 'checkpoint_ns': '', 'checkpoint_id': '1f061437-4f2e-66a5-8001-fe60549f3042'}}, metadata={'source': 'loop', 'step': 1, 'parents': {}, 'thread_id': '3'}, created_at='2025-07-15T06:18:00.126418+00:00', parent_config={'configurable': {'thread_id': '3', 'checkpoint_ns': '', 'checkpoint_id': '1f061437-448a-6ed9-8000-a83282b6eabc'}}, tasks=(PregelTask(id='c0239bab-7087-1c15-71a6-8dae27f20ac4', name='tools_calls', path=('__pregel_pull', 'tools_calls'), error=None, interrupts=(), state=None, result=None),), interrupts=())"
      ]
     },
     "execution_count": 32,
     "metadata": {},
     "output_type": "execute_result"
    }
   ],
   "source": [
    "agent_mode.graph.get_state(thread)"
   ]
  },
  {
   "cell_type": "code",
   "execution_count": 33,
   "id": "a5af4f60-0952-4c43-beaa-27e2a2c86128",
   "metadata": {},
   "outputs": [],
   "source": [
    "current_state_values = agent_mode.graph.get_state(thread)"
   ]
  },
  {
   "cell_type": "code",
   "execution_count": 34,
   "id": "18119556-1012-42fa-968c-5dc0bb69c44b",
   "metadata": {},
   "outputs": [
    {
     "data": {
      "text/plain": [
       "AIMessage(content='', additional_kwargs={'tool_calls': [{'id': 'call_7SrdDcN4F0F7zNn5CSHP3XlB', 'function': {'arguments': '{\"query\":\"current weather in Los Angeles\"}', 'name': 'tavily_search'}, 'type': 'function'}], 'refusal': None}, response_metadata={'token_usage': {'completion_tokens': 20, 'prompt_tokens': 902, 'total_tokens': 922, 'completion_tokens_details': {'accepted_prediction_tokens': 0, 'audio_tokens': 0, 'reasoning_tokens': 0, 'rejected_prediction_tokens': 0}, 'prompt_tokens_details': {'audio_tokens': 0, 'cached_tokens': 0}}, 'model_name': 'gpt-3.5-turbo-0125', 'system_fingerprint': None, 'id': 'chatcmpl-BtTHELNLgv9SfXUVNSkqHQzAZmWp5', 'service_tier': 'default', 'finish_reason': 'tool_calls', 'logprobs': None}, id='run--abf4fb3d-6b64-4ee2-bfa7-9fb14862fe2d-0', tool_calls=[{'name': 'tavily_search', 'args': {'query': 'current weather in Los Angeles'}, 'id': 'call_7SrdDcN4F0F7zNn5CSHP3XlB', 'type': 'tool_call'}], usage_metadata={'input_tokens': 902, 'output_tokens': 20, 'total_tokens': 922, 'input_token_details': {'audio': 0, 'cache_read': 0}, 'output_token_details': {'audio': 0, 'reasoning': 0}})"
      ]
     },
     "execution_count": 34,
     "metadata": {},
     "output_type": "execute_result"
    }
   ],
   "source": [
    "current_state_values.values[\"messages\"][-1]"
   ]
  },
  {
   "cell_type": "code",
   "execution_count": 35,
   "id": "a29442bf-9197-4334-a3ec-b70e3b8b5f96",
   "metadata": {},
   "outputs": [
    {
     "data": {
      "text/plain": [
       "[{'name': 'tavily_search',\n",
       "  'args': {'query': 'current weather in Los Angeles'},\n",
       "  'id': 'call_7SrdDcN4F0F7zNn5CSHP3XlB',\n",
       "  'type': 'tool_call'}]"
      ]
     },
     "execution_count": 35,
     "metadata": {},
     "output_type": "execute_result"
    }
   ],
   "source": [
    "current_state_values.values[\"messages\"][-1].tool_calls"
   ]
  },
  {
   "cell_type": "code",
   "execution_count": 36,
   "id": "8526c37a-b71e-4d3f-bf91-5a469d7560dc",
   "metadata": {},
   "outputs": [],
   "source": [
    "_id = current_state_values.values[\"messages\"][-1].tool_calls[0]['id']\n",
    "current_state_values.values[\"messages\"][-1].tool_calls = [{'name': 'tavily_search',\n",
    "  'args': {'query': 'weather in Lagos Nigeria'},\n",
    "  'id': _id,\n",
    "  'type': 'tool_call'}]"
   ]
  },
  {
   "cell_type": "code",
   "execution_count": 37,
   "id": "9b9bbf21-1348-40c4-bda6-cc814b8cf281",
   "metadata": {},
   "outputs": [
    {
     "data": {
      "text/plain": [
       "StateSnapshot(values={'messages': [HumanMessage(content='what is the weather in LA', additional_kwargs={}, response_metadata={}, id='741b0d66-3310-4d16-9220-d7f9627d6d1d'), AIMessage(content='', additional_kwargs={'tool_calls': [{'id': 'call_7SrdDcN4F0F7zNn5CSHP3XlB', 'function': {'arguments': '{\"query\":\"current weather in Los Angeles\"}', 'name': 'tavily_search'}, 'type': 'function'}], 'refusal': None}, response_metadata={'token_usage': {'completion_tokens': 20, 'prompt_tokens': 902, 'total_tokens': 922, 'completion_tokens_details': {'accepted_prediction_tokens': 0, 'audio_tokens': 0, 'reasoning_tokens': 0, 'rejected_prediction_tokens': 0}, 'prompt_tokens_details': {'audio_tokens': 0, 'cached_tokens': 0}}, 'model_name': 'gpt-3.5-turbo-0125', 'system_fingerprint': None, 'id': 'chatcmpl-BtTHELNLgv9SfXUVNSkqHQzAZmWp5', 'service_tier': 'default', 'finish_reason': 'tool_calls', 'logprobs': None}, id='run--abf4fb3d-6b64-4ee2-bfa7-9fb14862fe2d-0', tool_calls=[{'name': 'tavily_search', 'args': {'query': 'current weather in Los Angeles'}, 'id': 'call_7SrdDcN4F0F7zNn5CSHP3XlB', 'type': 'tool_call'}], usage_metadata={'input_tokens': 902, 'output_tokens': 20, 'total_tokens': 922, 'input_token_details': {'audio': 0, 'cache_read': 0}, 'output_token_details': {'audio': 0, 'reasoning': 0}})]}, next=('tools_calls',), config={'configurable': {'thread_id': '3', 'checkpoint_ns': '', 'checkpoint_id': '1f061437-4f2e-66a5-8001-fe60549f3042'}}, metadata={'source': 'loop', 'step': 1, 'parents': {}, 'thread_id': '3'}, created_at='2025-07-15T06:18:00.126418+00:00', parent_config={'configurable': {'thread_id': '3', 'checkpoint_ns': '', 'checkpoint_id': '1f061437-448a-6ed9-8000-a83282b6eabc'}}, tasks=(PregelTask(id='c0239bab-7087-1c15-71a6-8dae27f20ac4', name='tools_calls', path=('__pregel_pull', 'tools_calls'), error=None, interrupts=(), state=None, result=None),), interrupts=())"
      ]
     },
     "execution_count": 37,
     "metadata": {},
     "output_type": "execute_result"
    }
   ],
   "source": [
    "agent_mode.graph.get_state(thread)"
   ]
  },
  {
   "cell_type": "code",
   "execution_count": 38,
   "id": "26c30e61-bed7-4509-8a06-8141f165249d",
   "metadata": {},
   "outputs": [
    {
     "name": "stdout",
     "output_type": "stream",
     "text": [
      "{'messages': [HumanMessage(content='what is the weather in LA', additional_kwargs={}, response_metadata={}, id='741b0d66-3310-4d16-9220-d7f9627d6d1d'), AIMessage(content='', additional_kwargs={'tool_calls': [{'id': 'call_7SrdDcN4F0F7zNn5CSHP3XlB', 'function': {'arguments': '{\"query\":\"current weather in Los Angeles\"}', 'name': 'tavily_search'}, 'type': 'function'}], 'refusal': None}, response_metadata={'token_usage': {'completion_tokens': 20, 'prompt_tokens': 902, 'total_tokens': 922, 'completion_tokens_details': {'accepted_prediction_tokens': 0, 'audio_tokens': 0, 'reasoning_tokens': 0, 'rejected_prediction_tokens': 0}, 'prompt_tokens_details': {'audio_tokens': 0, 'cached_tokens': 0}}, 'model_name': 'gpt-3.5-turbo-0125', 'system_fingerprint': None, 'id': 'chatcmpl-BtTHELNLgv9SfXUVNSkqHQzAZmWp5', 'service_tier': 'default', 'finish_reason': 'tool_calls', 'logprobs': None}, id='run--abf4fb3d-6b64-4ee2-bfa7-9fb14862fe2d-0', tool_calls=[{'name': 'tavily_search', 'args': {'query': 'weather in Lagos Nigeria'}, 'id': 'call_7SrdDcN4F0F7zNn5CSHP3XlB', 'type': 'tool_call'}], usage_metadata={'input_tokens': 902, 'output_tokens': 20, 'total_tokens': 922, 'input_token_details': {'audio': 0, 'cache_read': 0}, 'output_token_details': {'audio': 0, 'reasoning': 0}})]}\n"
     ]
    },
    {
     "data": {
      "text/plain": [
       "{'configurable': {'thread_id': '3',\n",
       "  'checkpoint_ns': '',\n",
       "  'checkpoint_id': '1f06143a-4359-6c5e-8002-edf1f42a7d6e'}}"
      ]
     },
     "execution_count": 38,
     "metadata": {},
     "output_type": "execute_result"
    }
   ],
   "source": [
    "agent_mode.graph.update_state(thread, current_state_values.values)"
   ]
  },
  {
   "cell_type": "code",
   "execution_count": 39,
   "id": "7fb09575-b585-4041-a86b-2e47531cd0e7",
   "metadata": {},
   "outputs": [
    {
     "data": {
      "text/plain": [
       "StateSnapshot(values={'messages': [HumanMessage(content='what is the weather in LA', additional_kwargs={}, response_metadata={}, id='741b0d66-3310-4d16-9220-d7f9627d6d1d'), AIMessage(content='', additional_kwargs={'tool_calls': [{'id': 'call_7SrdDcN4F0F7zNn5CSHP3XlB', 'function': {'arguments': '{\"query\":\"current weather in Los Angeles\"}', 'name': 'tavily_search'}, 'type': 'function'}], 'refusal': None}, response_metadata={'token_usage': {'completion_tokens': 20, 'prompt_tokens': 902, 'total_tokens': 922, 'completion_tokens_details': {'accepted_prediction_tokens': 0, 'audio_tokens': 0, 'reasoning_tokens': 0, 'rejected_prediction_tokens': 0}, 'prompt_tokens_details': {'audio_tokens': 0, 'cached_tokens': 0}}, 'model_name': 'gpt-3.5-turbo-0125', 'system_fingerprint': None, 'id': 'chatcmpl-BtTHELNLgv9SfXUVNSkqHQzAZmWp5', 'service_tier': 'default', 'finish_reason': 'tool_calls', 'logprobs': None}, id='run--abf4fb3d-6b64-4ee2-bfa7-9fb14862fe2d-0', tool_calls=[{'name': 'tavily_search', 'args': {'query': 'weather in Lagos Nigeria'}, 'id': 'call_7SrdDcN4F0F7zNn5CSHP3XlB', 'type': 'tool_call'}], usage_metadata={'input_tokens': 902, 'output_tokens': 20, 'total_tokens': 922, 'input_token_details': {'audio': 0, 'cache_read': 0}, 'output_token_details': {'audio': 0, 'reasoning': 0}})]}, next=('tools_calls',), config={'configurable': {'thread_id': '3', 'checkpoint_ns': '', 'checkpoint_id': '1f06143a-4359-6c5e-8002-edf1f42a7d6e'}}, metadata={'source': 'update', 'step': 2, 'parents': {}, 'thread_id': '3'}, created_at='2025-07-15T06:19:19.416506+00:00', parent_config={'configurable': {'thread_id': '3', 'checkpoint_ns': '', 'checkpoint_id': '1f061437-4f2e-66a5-8001-fe60549f3042'}}, tasks=(PregelTask(id='f0346b7b-f34e-ad18-718c-9e9946683d3c', name='tools_calls', path=('__pregel_pull', 'tools_calls'), error=None, interrupts=(), state=None, result=None),), interrupts=())"
      ]
     },
     "execution_count": 39,
     "metadata": {},
     "output_type": "execute_result"
    }
   ],
   "source": [
    "agent_mode.graph.get_state(thread)"
   ]
  },
  {
   "cell_type": "code",
   "execution_count": 40,
   "id": "1066f0c0-7088-4bed-b883-707b8e6cfafc",
   "metadata": {},
   "outputs": [
    {
     "name": "stdout",
     "output_type": "stream",
     "text": [
      "Calling...: {'name': 'tavily_search', 'args': {'query': 'weather in Lagos Nigeria'}, 'id': 'call_7SrdDcN4F0F7zNn5CSHP3XlB', 'type': 'tool_call'}\n",
      "Back to Model!\n",
      "{'messages': [ToolMessage(content='{\\'query\\': \\'weather in Lagos Nigeria\\', \\'follow_up_questions\\': None, \\'answer\\': None, \\'images\\': [], \\'results\\': [{\\'title\\': \\'Weather in Lagos, Nigeria\\', \\'url\\': \\'https://www.weatherapi.com/\\', \\'content\\': \"{\\'location\\': {\\'name\\': \\'Lagos\\', \\'region\\': \\'Lagos\\', \\'country\\': \\'Nigeria\\', \\'lat\\': 6.4531, \\'lon\\': 3.3958, \\'tz_id\\': \\'Africa/Lagos\\', \\'localtime_epoch\\': 1752560597, \\'localtime\\': \\'2025-07-15 07:23\\'}, \\'current\\': {\\'last_updated_epoch\\': 1752560100, \\'last_updated\\': \\'2025-07-15 07:15\\', \\'temp_c\\': 23.0, \\'temp_f\\': 73.4, \\'is_day\\': 1, \\'condition\\': {\\'text\\': \\'Sunny\\', \\'icon\\': \\'//cdn.weatherapi.com/weather/64x64/day/113.png\\', \\'code\\': 1000}, \\'wind_mph\\': 11.0, \\'wind_kph\\': 17.6, \\'wind_degree\\': 250, \\'wind_dir\\': \\'WSW\\', \\'pressure_mb\\': 1018.0, \\'pressure_in\\': 30.06, \\'precip_mm\\': 0.0, \\'precip_in\\': 0.0, \\'humidity\\': 94, \\'cloud\\': 25, \\'feelslike_c\\': 25.1, \\'feelslike_f\\': 77.1, \\'windchill_c\\': 24.3, \\'windchill_f\\': 75.7, \\'heatindex_c\\': 26.1, \\'heatindex_f\\': 79.1, \\'dewpoint_c\\': 20.1, \\'dewpoint_f\\': 68.2, \\'vis_km\\': 7.0, \\'vis_miles\\': 4.0, \\'uv\\': 0.1, \\'gust_mph\\': 15.3, \\'gust_kph\\': 24.6}}\", \\'score\\': 0.9282788, \\'raw_content\\': None}, {\\'url\\': \\'https://world-weather.info/forecast/nigeria/lagos/july-2025/\\', \\'title\\': \\'Weather in Lagos in July 2025\\', \\'content\\': \"*   Weather *   Weather in Lagos Weather in Lagos in July 2025 *   1 +84° +79° *   2 +84° +79° *   3 +82° +79° *   4 +79° +77° *   5 +82° +77° *   6 +82° +77° *   7 +81° +77° *   8 +81° +77° *   9 +79° +75° *   10 +81° +75° *   11 +82° +77° *   12 +81° +77° *   22 +84° +75° *   23 +84° +77° *   24 +84° +77° *   25 +84° +75° *   26 +84° +77° *   27 +82° +75° *   28 +84° +75° *   29 +84° +75° *   30 +84° +75° *   31 +84° +75° Weather in Abuja**+73°** Oyo**+70°** world\\'s temperature today Napasoq day+10°F night-49°F Gilgit day+122°F night+95°F Weather forecast on your site Install _Lagos_ +77°\", \\'score\\': 0.9220975, \\'raw_content\\': None}, {\\'url\\': \\'https://www.instagram.com/p/DMGZyN6MTG8/\\', \\'title\\': \\'DAILY WEATHER OUTLOOK Valid for: Tuesday, 15th July 2025 (00 ...\\', \\'content\\': \\'Southern States 🌩️ Morning: Cloudy skies with light rain are expected in parts of Cross River, Lagos, Bayelsa, and Akwa Ibom. 🌦️ Afternoon/\\', \\'score\\': 0.9037116, \\'raw_content\\': None}, {\\'url\\': \\'https://www.weather25.com/africa/nigeria/lagos?page=month&month=July\\', \\'title\\': \\'Lagos weather in July 2025 - Weather25.com\\', \\'content\\': \\'Lagos weather in July 2025 | Lagos 14 day weather Lagos Image 3: weather in Nigeria Lagos weather in July 2025 The weather in Lagos in July is very hot. | July | 28° / 25° | 14 | 17 | 0 | 289 mm | Good | Lagos in July | Temperatures in Lagos in July Weather in Lagos in July - FAQ The average temperature in Lagos in July is 25/28° C. On average, there are 14 rainy days in Lagos during July. Weather wise, is July a good time to visit Lagos? The weather in Lagos in July is good. On average, there are 0 snowy days in Lagos in July. More about the weather in Lagos\\', \\'score\\': 0.90018827, \\'raw_content\\': None}], \\'response_time\\': 1.35}', name='tavily_search', id='16906224-a46e-46e9-a4be-907a21fde134', tool_call_id='call_7SrdDcN4F0F7zNn5CSHP3XlB')]}\n",
      "{'messages': [HumanMessage(content='what is the weather in LA', additional_kwargs={}, response_metadata={}, id='741b0d66-3310-4d16-9220-d7f9627d6d1d'), AIMessage(content='', additional_kwargs={'tool_calls': [{'id': 'call_7SrdDcN4F0F7zNn5CSHP3XlB', 'function': {'arguments': '{\"query\":\"current weather in Los Angeles\"}', 'name': 'tavily_search'}, 'type': 'function'}], 'refusal': None}, response_metadata={'token_usage': {'completion_tokens': 20, 'prompt_tokens': 902, 'total_tokens': 922, 'completion_tokens_details': {'accepted_prediction_tokens': 0, 'audio_tokens': 0, 'reasoning_tokens': 0, 'rejected_prediction_tokens': 0}, 'prompt_tokens_details': {'audio_tokens': 0, 'cached_tokens': 0}}, 'model_name': 'gpt-3.5-turbo-0125', 'system_fingerprint': None, 'id': 'chatcmpl-BtTHELNLgv9SfXUVNSkqHQzAZmWp5', 'service_tier': 'default', 'finish_reason': 'tool_calls', 'logprobs': None}, id='run--abf4fb3d-6b64-4ee2-bfa7-9fb14862fe2d-0', tool_calls=[{'name': 'tavily_search', 'args': {'query': 'weather in Lagos Nigeria'}, 'id': 'call_7SrdDcN4F0F7zNn5CSHP3XlB', 'type': 'tool_call'}], usage_metadata={'input_tokens': 902, 'output_tokens': 20, 'total_tokens': 922, 'input_token_details': {'audio': 0, 'cache_read': 0}, 'output_token_details': {'audio': 0, 'reasoning': 0}}), ToolMessage(content='{\\'query\\': \\'weather in Lagos Nigeria\\', \\'follow_up_questions\\': None, \\'answer\\': None, \\'images\\': [], \\'results\\': [{\\'title\\': \\'Weather in Lagos, Nigeria\\', \\'url\\': \\'https://www.weatherapi.com/\\', \\'content\\': \"{\\'location\\': {\\'name\\': \\'Lagos\\', \\'region\\': \\'Lagos\\', \\'country\\': \\'Nigeria\\', \\'lat\\': 6.4531, \\'lon\\': 3.3958, \\'tz_id\\': \\'Africa/Lagos\\', \\'localtime_epoch\\': 1752560597, \\'localtime\\': \\'2025-07-15 07:23\\'}, \\'current\\': {\\'last_updated_epoch\\': 1752560100, \\'last_updated\\': \\'2025-07-15 07:15\\', \\'temp_c\\': 23.0, \\'temp_f\\': 73.4, \\'is_day\\': 1, \\'condition\\': {\\'text\\': \\'Sunny\\', \\'icon\\': \\'//cdn.weatherapi.com/weather/64x64/day/113.png\\', \\'code\\': 1000}, \\'wind_mph\\': 11.0, \\'wind_kph\\': 17.6, \\'wind_degree\\': 250, \\'wind_dir\\': \\'WSW\\', \\'pressure_mb\\': 1018.0, \\'pressure_in\\': 30.06, \\'precip_mm\\': 0.0, \\'precip_in\\': 0.0, \\'humidity\\': 94, \\'cloud\\': 25, \\'feelslike_c\\': 25.1, \\'feelslike_f\\': 77.1, \\'windchill_c\\': 24.3, \\'windchill_f\\': 75.7, \\'heatindex_c\\': 26.1, \\'heatindex_f\\': 79.1, \\'dewpoint_c\\': 20.1, \\'dewpoint_f\\': 68.2, \\'vis_km\\': 7.0, \\'vis_miles\\': 4.0, \\'uv\\': 0.1, \\'gust_mph\\': 15.3, \\'gust_kph\\': 24.6}}\", \\'score\\': 0.9282788, \\'raw_content\\': None}, {\\'url\\': \\'https://world-weather.info/forecast/nigeria/lagos/july-2025/\\', \\'title\\': \\'Weather in Lagos in July 2025\\', \\'content\\': \"*   Weather *   Weather in Lagos Weather in Lagos in July 2025 *   1 +84° +79° *   2 +84° +79° *   3 +82° +79° *   4 +79° +77° *   5 +82° +77° *   6 +82° +77° *   7 +81° +77° *   8 +81° +77° *   9 +79° +75° *   10 +81° +75° *   11 +82° +77° *   12 +81° +77° *   22 +84° +75° *   23 +84° +77° *   24 +84° +77° *   25 +84° +75° *   26 +84° +77° *   27 +82° +75° *   28 +84° +75° *   29 +84° +75° *   30 +84° +75° *   31 +84° +75° Weather in Abuja**+73°** Oyo**+70°** world\\'s temperature today Napasoq day+10°F night-49°F Gilgit day+122°F night+95°F Weather forecast on your site Install _Lagos_ +77°\", \\'score\\': 0.9220975, \\'raw_content\\': None}, {\\'url\\': \\'https://www.instagram.com/p/DMGZyN6MTG8/\\', \\'title\\': \\'DAILY WEATHER OUTLOOK Valid for: Tuesday, 15th July 2025 (00 ...\\', \\'content\\': \\'Southern States 🌩️ Morning: Cloudy skies with light rain are expected in parts of Cross River, Lagos, Bayelsa, and Akwa Ibom. 🌦️ Afternoon/\\', \\'score\\': 0.9037116, \\'raw_content\\': None}, {\\'url\\': \\'https://www.weather25.com/africa/nigeria/lagos?page=month&month=July\\', \\'title\\': \\'Lagos weather in July 2025 - Weather25.com\\', \\'content\\': \\'Lagos weather in July 2025 | Lagos 14 day weather Lagos Image 3: weather in Nigeria Lagos weather in July 2025 The weather in Lagos in July is very hot. | July | 28° / 25° | 14 | 17 | 0 | 289 mm | Good | Lagos in July | Temperatures in Lagos in July Weather in Lagos in July - FAQ The average temperature in Lagos in July is 25/28° C. On average, there are 14 rainy days in Lagos during July. Weather wise, is July a good time to visit Lagos? The weather in Lagos in July is good. On average, there are 0 snowy days in Lagos in July. More about the weather in Lagos\\', \\'score\\': 0.90018827, \\'raw_content\\': None}], \\'response_time\\': 1.35}', name='tavily_search', id='16906224-a46e-46e9-a4be-907a21fde134', tool_call_id='call_7SrdDcN4F0F7zNn5CSHP3XlB'), AIMessage(content='The current weather in Lagos, Nigeria is sunny with a temperature of 23.0°C (73.4°F). The humidity is at 94%, and the wind speed is 17.6 km/h coming from the WSW direction.', additional_kwargs={'refusal': None}, response_metadata={'token_usage': {'completion_tokens': 50, 'prompt_tokens': 2066, 'total_tokens': 2116, 'completion_tokens_details': {'accepted_prediction_tokens': 0, 'audio_tokens': 0, 'reasoning_tokens': 0, 'rejected_prediction_tokens': 0}, 'prompt_tokens_details': {'audio_tokens': 0, 'cached_tokens': 0}}, 'model_name': 'gpt-3.5-turbo-0125', 'system_fingerprint': None, 'id': 'chatcmpl-BtTInNMQJsc2JL3d7UkixX4QaKMZZ', 'service_tier': 'default', 'finish_reason': 'stop', 'logprobs': None}, id='run--a59f8812-929c-4ad7-a0fb-1ba226b022bb-0', usage_metadata={'input_tokens': 2066, 'output_tokens': 50, 'total_tokens': 2116, 'input_token_details': {'audio': 0, 'cache_read': 0}, 'output_token_details': {'audio': 0, 'reasoning': 0}})]}\n",
      "{'messages': [AIMessage(content='The current weather in Lagos, Nigeria is sunny with a temperature of 23.0°C (73.4°F). The humidity is at 94%, and the wind speed is 17.6 km/h coming from the WSW direction.', additional_kwargs={'refusal': None}, response_metadata={'token_usage': {'completion_tokens': 50, 'prompt_tokens': 2066, 'total_tokens': 2116, 'completion_tokens_details': {'accepted_prediction_tokens': 0, 'audio_tokens': 0, 'reasoning_tokens': 0, 'rejected_prediction_tokens': 0}, 'prompt_tokens_details': {'audio_tokens': 0, 'cached_tokens': 0}}, 'model_name': 'gpt-3.5-turbo-0125', 'system_fingerprint': None, 'id': 'chatcmpl-BtTInNMQJsc2JL3d7UkixX4QaKMZZ', 'service_tier': 'default', 'finish_reason': 'stop', 'logprobs': None}, id='run--a59f8812-929c-4ad7-a0fb-1ba226b022bb-0', usage_metadata={'input_tokens': 2066, 'output_tokens': 50, 'total_tokens': 2116, 'input_token_details': {'audio': 0, 'cache_read': 0}, 'output_token_details': {'audio': 0, 'reasoning': 0}})]}\n"
     ]
    }
   ],
   "source": [
    "for event in agent_mode.graph.stream(None, thread):\n",
    "    for v in event.values():\n",
    "        print(v)"
   ]
  },
  {
   "cell_type": "code",
   "execution_count": 41,
   "id": "bc0b3bb4-4f99-4e7b-b390-55a9156a58f7",
   "metadata": {},
   "outputs": [
    {
     "name": "stdout",
     "output_type": "stream",
     "text": [
      "StateSnapshot(values={'messages': [HumanMessage(content='what is the weather in LA', additional_kwargs={}, response_metadata={}, id='741b0d66-3310-4d16-9220-d7f9627d6d1d'), AIMessage(content='', additional_kwargs={'tool_calls': [{'id': 'call_7SrdDcN4F0F7zNn5CSHP3XlB', 'function': {'arguments': '{\"query\":\"current weather in Los Angeles\"}', 'name': 'tavily_search'}, 'type': 'function'}], 'refusal': None}, response_metadata={'token_usage': {'completion_tokens': 20, 'prompt_tokens': 902, 'total_tokens': 922, 'completion_tokens_details': {'accepted_prediction_tokens': 0, 'audio_tokens': 0, 'reasoning_tokens': 0, 'rejected_prediction_tokens': 0}, 'prompt_tokens_details': {'audio_tokens': 0, 'cached_tokens': 0}}, 'model_name': 'gpt-3.5-turbo-0125', 'system_fingerprint': None, 'id': 'chatcmpl-BtTHELNLgv9SfXUVNSkqHQzAZmWp5', 'service_tier': 'default', 'finish_reason': 'tool_calls', 'logprobs': None}, id='run--abf4fb3d-6b64-4ee2-bfa7-9fb14862fe2d-0', tool_calls=[{'name': 'tavily_search', 'args': {'query': 'weather in Lagos Nigeria'}, 'id': 'call_7SrdDcN4F0F7zNn5CSHP3XlB', 'type': 'tool_call'}], usage_metadata={'input_tokens': 902, 'output_tokens': 20, 'total_tokens': 922, 'input_token_details': {'audio': 0, 'cache_read': 0}, 'output_token_details': {'audio': 0, 'reasoning': 0}}), ToolMessage(content='{\\'query\\': \\'weather in Lagos Nigeria\\', \\'follow_up_questions\\': None, \\'answer\\': None, \\'images\\': [], \\'results\\': [{\\'title\\': \\'Weather in Lagos, Nigeria\\', \\'url\\': \\'https://www.weatherapi.com/\\', \\'content\\': \"{\\'location\\': {\\'name\\': \\'Lagos\\', \\'region\\': \\'Lagos\\', \\'country\\': \\'Nigeria\\', \\'lat\\': 6.4531, \\'lon\\': 3.3958, \\'tz_id\\': \\'Africa/Lagos\\', \\'localtime_epoch\\': 1752560597, \\'localtime\\': \\'2025-07-15 07:23\\'}, \\'current\\': {\\'last_updated_epoch\\': 1752560100, \\'last_updated\\': \\'2025-07-15 07:15\\', \\'temp_c\\': 23.0, \\'temp_f\\': 73.4, \\'is_day\\': 1, \\'condition\\': {\\'text\\': \\'Sunny\\', \\'icon\\': \\'//cdn.weatherapi.com/weather/64x64/day/113.png\\', \\'code\\': 1000}, \\'wind_mph\\': 11.0, \\'wind_kph\\': 17.6, \\'wind_degree\\': 250, \\'wind_dir\\': \\'WSW\\', \\'pressure_mb\\': 1018.0, \\'pressure_in\\': 30.06, \\'precip_mm\\': 0.0, \\'precip_in\\': 0.0, \\'humidity\\': 94, \\'cloud\\': 25, \\'feelslike_c\\': 25.1, \\'feelslike_f\\': 77.1, \\'windchill_c\\': 24.3, \\'windchill_f\\': 75.7, \\'heatindex_c\\': 26.1, \\'heatindex_f\\': 79.1, \\'dewpoint_c\\': 20.1, \\'dewpoint_f\\': 68.2, \\'vis_km\\': 7.0, \\'vis_miles\\': 4.0, \\'uv\\': 0.1, \\'gust_mph\\': 15.3, \\'gust_kph\\': 24.6}}\", \\'score\\': 0.9282788, \\'raw_content\\': None}, {\\'url\\': \\'https://world-weather.info/forecast/nigeria/lagos/july-2025/\\', \\'title\\': \\'Weather in Lagos in July 2025\\', \\'content\\': \"*   Weather *   Weather in Lagos Weather in Lagos in July 2025 *   1 +84° +79° *   2 +84° +79° *   3 +82° +79° *   4 +79° +77° *   5 +82° +77° *   6 +82° +77° *   7 +81° +77° *   8 +81° +77° *   9 +79° +75° *   10 +81° +75° *   11 +82° +77° *   12 +81° +77° *   22 +84° +75° *   23 +84° +77° *   24 +84° +77° *   25 +84° +75° *   26 +84° +77° *   27 +82° +75° *   28 +84° +75° *   29 +84° +75° *   30 +84° +75° *   31 +84° +75° Weather in Abuja**+73°** Oyo**+70°** world\\'s temperature today Napasoq day+10°F night-49°F Gilgit day+122°F night+95°F Weather forecast on your site Install _Lagos_ +77°\", \\'score\\': 0.9220975, \\'raw_content\\': None}, {\\'url\\': \\'https://www.instagram.com/p/DMGZyN6MTG8/\\', \\'title\\': \\'DAILY WEATHER OUTLOOK Valid for: Tuesday, 15th July 2025 (00 ...\\', \\'content\\': \\'Southern States 🌩️ Morning: Cloudy skies with light rain are expected in parts of Cross River, Lagos, Bayelsa, and Akwa Ibom. 🌦️ Afternoon/\\', \\'score\\': 0.9037116, \\'raw_content\\': None}, {\\'url\\': \\'https://www.weather25.com/africa/nigeria/lagos?page=month&month=July\\', \\'title\\': \\'Lagos weather in July 2025 - Weather25.com\\', \\'content\\': \\'Lagos weather in July 2025 | Lagos 14 day weather Lagos Image 3: weather in Nigeria Lagos weather in July 2025 The weather in Lagos in July is very hot. | July | 28° / 25° | 14 | 17 | 0 | 289 mm | Good | Lagos in July | Temperatures in Lagos in July Weather in Lagos in July - FAQ The average temperature in Lagos in July is 25/28° C. On average, there are 14 rainy days in Lagos during July. Weather wise, is July a good time to visit Lagos? The weather in Lagos in July is good. On average, there are 0 snowy days in Lagos in July. More about the weather in Lagos\\', \\'score\\': 0.90018827, \\'raw_content\\': None}], \\'response_time\\': 1.35}', name='tavily_search', id='16906224-a46e-46e9-a4be-907a21fde134', tool_call_id='call_7SrdDcN4F0F7zNn5CSHP3XlB'), AIMessage(content='The current weather in Lagos, Nigeria is sunny with a temperature of 23.0°C (73.4°F). The humidity is at 94%, and the wind speed is 17.6 km/h coming from the WSW direction.', additional_kwargs={'refusal': None}, response_metadata={'token_usage': {'completion_tokens': 50, 'prompt_tokens': 2066, 'total_tokens': 2116, 'completion_tokens_details': {'accepted_prediction_tokens': 0, 'audio_tokens': 0, 'reasoning_tokens': 0, 'rejected_prediction_tokens': 0}, 'prompt_tokens_details': {'audio_tokens': 0, 'cached_tokens': 0}}, 'model_name': 'gpt-3.5-turbo-0125', 'system_fingerprint': None, 'id': 'chatcmpl-BtTInNMQJsc2JL3d7UkixX4QaKMZZ', 'service_tier': 'default', 'finish_reason': 'stop', 'logprobs': None}, id='run--a59f8812-929c-4ad7-a0fb-1ba226b022bb-0', usage_metadata={'input_tokens': 2066, 'output_tokens': 50, 'total_tokens': 2116, 'input_token_details': {'audio': 0, 'cache_read': 0}, 'output_token_details': {'audio': 0, 'reasoning': 0}})]}, next=(), config={'configurable': {'thread_id': '3', 'checkpoint_ns': '', 'checkpoint_id': '1f06143a-f1be-6822-8004-52f7f450e105'}}, metadata={'source': 'loop', 'step': 4, 'parents': {}, 'thread_id': '3'}, created_at='2025-07-15T06:19:37.703005+00:00', parent_config={'configurable': {'thread_id': '3', 'checkpoint_ns': '', 'checkpoint_id': '1f06143a-e385-68cc-8003-3e3581130090'}}, tasks=(), interrupts=())\n",
      "--\n",
      "StateSnapshot(values={'messages': [HumanMessage(content='what is the weather in LA', additional_kwargs={}, response_metadata={}, id='741b0d66-3310-4d16-9220-d7f9627d6d1d'), AIMessage(content='', additional_kwargs={'tool_calls': [{'id': 'call_7SrdDcN4F0F7zNn5CSHP3XlB', 'function': {'arguments': '{\"query\":\"current weather in Los Angeles\"}', 'name': 'tavily_search'}, 'type': 'function'}], 'refusal': None}, response_metadata={'token_usage': {'completion_tokens': 20, 'prompt_tokens': 902, 'total_tokens': 922, 'completion_tokens_details': {'accepted_prediction_tokens': 0, 'audio_tokens': 0, 'reasoning_tokens': 0, 'rejected_prediction_tokens': 0}, 'prompt_tokens_details': {'audio_tokens': 0, 'cached_tokens': 0}}, 'model_name': 'gpt-3.5-turbo-0125', 'system_fingerprint': None, 'id': 'chatcmpl-BtTHELNLgv9SfXUVNSkqHQzAZmWp5', 'service_tier': 'default', 'finish_reason': 'tool_calls', 'logprobs': None}, id='run--abf4fb3d-6b64-4ee2-bfa7-9fb14862fe2d-0', tool_calls=[{'name': 'tavily_search', 'args': {'query': 'weather in Lagos Nigeria'}, 'id': 'call_7SrdDcN4F0F7zNn5CSHP3XlB', 'type': 'tool_call'}], usage_metadata={'input_tokens': 902, 'output_tokens': 20, 'total_tokens': 922, 'input_token_details': {'audio': 0, 'cache_read': 0}, 'output_token_details': {'audio': 0, 'reasoning': 0}}), ToolMessage(content='{\\'query\\': \\'weather in Lagos Nigeria\\', \\'follow_up_questions\\': None, \\'answer\\': None, \\'images\\': [], \\'results\\': [{\\'title\\': \\'Weather in Lagos, Nigeria\\', \\'url\\': \\'https://www.weatherapi.com/\\', \\'content\\': \"{\\'location\\': {\\'name\\': \\'Lagos\\', \\'region\\': \\'Lagos\\', \\'country\\': \\'Nigeria\\', \\'lat\\': 6.4531, \\'lon\\': 3.3958, \\'tz_id\\': \\'Africa/Lagos\\', \\'localtime_epoch\\': 1752560597, \\'localtime\\': \\'2025-07-15 07:23\\'}, \\'current\\': {\\'last_updated_epoch\\': 1752560100, \\'last_updated\\': \\'2025-07-15 07:15\\', \\'temp_c\\': 23.0, \\'temp_f\\': 73.4, \\'is_day\\': 1, \\'condition\\': {\\'text\\': \\'Sunny\\', \\'icon\\': \\'//cdn.weatherapi.com/weather/64x64/day/113.png\\', \\'code\\': 1000}, \\'wind_mph\\': 11.0, \\'wind_kph\\': 17.6, \\'wind_degree\\': 250, \\'wind_dir\\': \\'WSW\\', \\'pressure_mb\\': 1018.0, \\'pressure_in\\': 30.06, \\'precip_mm\\': 0.0, \\'precip_in\\': 0.0, \\'humidity\\': 94, \\'cloud\\': 25, \\'feelslike_c\\': 25.1, \\'feelslike_f\\': 77.1, \\'windchill_c\\': 24.3, \\'windchill_f\\': 75.7, \\'heatindex_c\\': 26.1, \\'heatindex_f\\': 79.1, \\'dewpoint_c\\': 20.1, \\'dewpoint_f\\': 68.2, \\'vis_km\\': 7.0, \\'vis_miles\\': 4.0, \\'uv\\': 0.1, \\'gust_mph\\': 15.3, \\'gust_kph\\': 24.6}}\", \\'score\\': 0.9282788, \\'raw_content\\': None}, {\\'url\\': \\'https://world-weather.info/forecast/nigeria/lagos/july-2025/\\', \\'title\\': \\'Weather in Lagos in July 2025\\', \\'content\\': \"*   Weather *   Weather in Lagos Weather in Lagos in July 2025 *   1 +84° +79° *   2 +84° +79° *   3 +82° +79° *   4 +79° +77° *   5 +82° +77° *   6 +82° +77° *   7 +81° +77° *   8 +81° +77° *   9 +79° +75° *   10 +81° +75° *   11 +82° +77° *   12 +81° +77° *   22 +84° +75° *   23 +84° +77° *   24 +84° +77° *   25 +84° +75° *   26 +84° +77° *   27 +82° +75° *   28 +84° +75° *   29 +84° +75° *   30 +84° +75° *   31 +84° +75° Weather in Abuja**+73°** Oyo**+70°** world\\'s temperature today Napasoq day+10°F night-49°F Gilgit day+122°F night+95°F Weather forecast on your site Install _Lagos_ +77°\", \\'score\\': 0.9220975, \\'raw_content\\': None}, {\\'url\\': \\'https://www.instagram.com/p/DMGZyN6MTG8/\\', \\'title\\': \\'DAILY WEATHER OUTLOOK Valid for: Tuesday, 15th July 2025 (00 ...\\', \\'content\\': \\'Southern States 🌩️ Morning: Cloudy skies with light rain are expected in parts of Cross River, Lagos, Bayelsa, and Akwa Ibom. 🌦️ Afternoon/\\', \\'score\\': 0.9037116, \\'raw_content\\': None}, {\\'url\\': \\'https://www.weather25.com/africa/nigeria/lagos?page=month&month=July\\', \\'title\\': \\'Lagos weather in July 2025 - Weather25.com\\', \\'content\\': \\'Lagos weather in July 2025 | Lagos 14 day weather Lagos Image 3: weather in Nigeria Lagos weather in July 2025 The weather in Lagos in July is very hot. | July | 28° / 25° | 14 | 17 | 0 | 289 mm | Good | Lagos in July | Temperatures in Lagos in July Weather in Lagos in July - FAQ The average temperature in Lagos in July is 25/28° C. On average, there are 14 rainy days in Lagos during July. Weather wise, is July a good time to visit Lagos? The weather in Lagos in July is good. On average, there are 0 snowy days in Lagos in July. More about the weather in Lagos\\', \\'score\\': 0.90018827, \\'raw_content\\': None}], \\'response_time\\': 1.35}', name='tavily_search', id='16906224-a46e-46e9-a4be-907a21fde134', tool_call_id='call_7SrdDcN4F0F7zNn5CSHP3XlB')]}, next=('llm_call',), config={'configurable': {'thread_id': '3', 'checkpoint_ns': '', 'checkpoint_id': '1f06143a-e385-68cc-8003-3e3581130090'}}, metadata={'source': 'loop', 'step': 3, 'parents': {}, 'thread_id': '3'}, created_at='2025-07-15T06:19:36.211662+00:00', parent_config={'configurable': {'thread_id': '3', 'checkpoint_ns': '', 'checkpoint_id': '1f06143a-4359-6c5e-8002-edf1f42a7d6e'}}, tasks=(PregelTask(id='f0d79918-519d-cb29-b9be-c7f757b14b59', name='llm_call', path=('__pregel_pull', 'llm_call'), error=None, interrupts=(), state=None, result={'messages': [AIMessage(content='The current weather in Lagos, Nigeria is sunny with a temperature of 23.0°C (73.4°F). The humidity is at 94%, and the wind speed is 17.6 km/h coming from the WSW direction.', additional_kwargs={'refusal': None}, response_metadata={'token_usage': {'completion_tokens': 50, 'prompt_tokens': 2066, 'total_tokens': 2116, 'completion_tokens_details': {'accepted_prediction_tokens': 0, 'audio_tokens': 0, 'reasoning_tokens': 0, 'rejected_prediction_tokens': 0}, 'prompt_tokens_details': {'audio_tokens': 0, 'cached_tokens': 0}}, 'model_name': 'gpt-3.5-turbo-0125', 'system_fingerprint': None, 'id': 'chatcmpl-BtTInNMQJsc2JL3d7UkixX4QaKMZZ', 'service_tier': 'default', 'finish_reason': 'stop', 'logprobs': None}, id='run--a59f8812-929c-4ad7-a0fb-1ba226b022bb-0', usage_metadata={'input_tokens': 2066, 'output_tokens': 50, 'total_tokens': 2116, 'input_token_details': {'audio': 0, 'cache_read': 0}, 'output_token_details': {'audio': 0, 'reasoning': 0}})]}),), interrupts=())\n",
      "--\n",
      "StateSnapshot(values={'messages': [HumanMessage(content='what is the weather in LA', additional_kwargs={}, response_metadata={}, id='741b0d66-3310-4d16-9220-d7f9627d6d1d'), AIMessage(content='', additional_kwargs={'tool_calls': [{'id': 'call_7SrdDcN4F0F7zNn5CSHP3XlB', 'function': {'arguments': '{\"query\":\"current weather in Los Angeles\"}', 'name': 'tavily_search'}, 'type': 'function'}], 'refusal': None}, response_metadata={'token_usage': {'completion_tokens': 20, 'prompt_tokens': 902, 'total_tokens': 922, 'completion_tokens_details': {'accepted_prediction_tokens': 0, 'audio_tokens': 0, 'reasoning_tokens': 0, 'rejected_prediction_tokens': 0}, 'prompt_tokens_details': {'audio_tokens': 0, 'cached_tokens': 0}}, 'model_name': 'gpt-3.5-turbo-0125', 'system_fingerprint': None, 'id': 'chatcmpl-BtTHELNLgv9SfXUVNSkqHQzAZmWp5', 'service_tier': 'default', 'finish_reason': 'tool_calls', 'logprobs': None}, id='run--abf4fb3d-6b64-4ee2-bfa7-9fb14862fe2d-0', tool_calls=[{'name': 'tavily_search', 'args': {'query': 'weather in Lagos Nigeria'}, 'id': 'call_7SrdDcN4F0F7zNn5CSHP3XlB', 'type': 'tool_call'}], usage_metadata={'input_tokens': 902, 'output_tokens': 20, 'total_tokens': 922, 'input_token_details': {'audio': 0, 'cache_read': 0}, 'output_token_details': {'audio': 0, 'reasoning': 0}})]}, next=('tools_calls',), config={'configurable': {'thread_id': '3', 'checkpoint_ns': '', 'checkpoint_id': '1f06143a-4359-6c5e-8002-edf1f42a7d6e'}}, metadata={'source': 'update', 'step': 2, 'parents': {}, 'thread_id': '3'}, created_at='2025-07-15T06:19:19.416506+00:00', parent_config={'configurable': {'thread_id': '3', 'checkpoint_ns': '', 'checkpoint_id': '1f061437-4f2e-66a5-8001-fe60549f3042'}}, tasks=(PregelTask(id='f0346b7b-f34e-ad18-718c-9e9946683d3c', name='tools_calls', path=('__pregel_pull', 'tools_calls'), error=None, interrupts=(), state=None, result={'messages': [ToolMessage(content='{\\'query\\': \\'weather in Lagos Nigeria\\', \\'follow_up_questions\\': None, \\'answer\\': None, \\'images\\': [], \\'results\\': [{\\'title\\': \\'Weather in Lagos, Nigeria\\', \\'url\\': \\'https://www.weatherapi.com/\\', \\'content\\': \"{\\'location\\': {\\'name\\': \\'Lagos\\', \\'region\\': \\'Lagos\\', \\'country\\': \\'Nigeria\\', \\'lat\\': 6.4531, \\'lon\\': 3.3958, \\'tz_id\\': \\'Africa/Lagos\\', \\'localtime_epoch\\': 1752560597, \\'localtime\\': \\'2025-07-15 07:23\\'}, \\'current\\': {\\'last_updated_epoch\\': 1752560100, \\'last_updated\\': \\'2025-07-15 07:15\\', \\'temp_c\\': 23.0, \\'temp_f\\': 73.4, \\'is_day\\': 1, \\'condition\\': {\\'text\\': \\'Sunny\\', \\'icon\\': \\'//cdn.weatherapi.com/weather/64x64/day/113.png\\', \\'code\\': 1000}, \\'wind_mph\\': 11.0, \\'wind_kph\\': 17.6, \\'wind_degree\\': 250, \\'wind_dir\\': \\'WSW\\', \\'pressure_mb\\': 1018.0, \\'pressure_in\\': 30.06, \\'precip_mm\\': 0.0, \\'precip_in\\': 0.0, \\'humidity\\': 94, \\'cloud\\': 25, \\'feelslike_c\\': 25.1, \\'feelslike_f\\': 77.1, \\'windchill_c\\': 24.3, \\'windchill_f\\': 75.7, \\'heatindex_c\\': 26.1, \\'heatindex_f\\': 79.1, \\'dewpoint_c\\': 20.1, \\'dewpoint_f\\': 68.2, \\'vis_km\\': 7.0, \\'vis_miles\\': 4.0, \\'uv\\': 0.1, \\'gust_mph\\': 15.3, \\'gust_kph\\': 24.6}}\", \\'score\\': 0.9282788, \\'raw_content\\': None}, {\\'url\\': \\'https://world-weather.info/forecast/nigeria/lagos/july-2025/\\', \\'title\\': \\'Weather in Lagos in July 2025\\', \\'content\\': \"*   Weather *   Weather in Lagos Weather in Lagos in July 2025 *   1 +84° +79° *   2 +84° +79° *   3 +82° +79° *   4 +79° +77° *   5 +82° +77° *   6 +82° +77° *   7 +81° +77° *   8 +81° +77° *   9 +79° +75° *   10 +81° +75° *   11 +82° +77° *   12 +81° +77° *   22 +84° +75° *   23 +84° +77° *   24 +84° +77° *   25 +84° +75° *   26 +84° +77° *   27 +82° +75° *   28 +84° +75° *   29 +84° +75° *   30 +84° +75° *   31 +84° +75° Weather in Abuja**+73°** Oyo**+70°** world\\'s temperature today Napasoq day+10°F night-49°F Gilgit day+122°F night+95°F Weather forecast on your site Install _Lagos_ +77°\", \\'score\\': 0.9220975, \\'raw_content\\': None}, {\\'url\\': \\'https://www.instagram.com/p/DMGZyN6MTG8/\\', \\'title\\': \\'DAILY WEATHER OUTLOOK Valid for: Tuesday, 15th July 2025 (00 ...\\', \\'content\\': \\'Southern States 🌩️ Morning: Cloudy skies with light rain are expected in parts of Cross River, Lagos, Bayelsa, and Akwa Ibom. 🌦️ Afternoon/\\', \\'score\\': 0.9037116, \\'raw_content\\': None}, {\\'url\\': \\'https://www.weather25.com/africa/nigeria/lagos?page=month&month=July\\', \\'title\\': \\'Lagos weather in July 2025 - Weather25.com\\', \\'content\\': \\'Lagos weather in July 2025 | Lagos 14 day weather Lagos Image 3: weather in Nigeria Lagos weather in July 2025 The weather in Lagos in July is very hot. | July | 28° / 25° | 14 | 17 | 0 | 289 mm | Good | Lagos in July | Temperatures in Lagos in July Weather in Lagos in July - FAQ The average temperature in Lagos in July is 25/28° C. On average, there are 14 rainy days in Lagos during July. Weather wise, is July a good time to visit Lagos? The weather in Lagos in July is good. On average, there are 0 snowy days in Lagos in July. More about the weather in Lagos\\', \\'score\\': 0.90018827, \\'raw_content\\': None}], \\'response_time\\': 1.35}', name='tavily_search', tool_call_id='call_7SrdDcN4F0F7zNn5CSHP3XlB')]}),), interrupts=())\n",
      "--\n",
      "StateSnapshot(values={'messages': [HumanMessage(content='what is the weather in LA', additional_kwargs={}, response_metadata={}, id='741b0d66-3310-4d16-9220-d7f9627d6d1d'), AIMessage(content='', additional_kwargs={'tool_calls': [{'id': 'call_7SrdDcN4F0F7zNn5CSHP3XlB', 'function': {'arguments': '{\"query\":\"current weather in Los Angeles\"}', 'name': 'tavily_search'}, 'type': 'function'}], 'refusal': None}, response_metadata={'token_usage': {'completion_tokens': 20, 'prompt_tokens': 902, 'total_tokens': 922, 'completion_tokens_details': {'accepted_prediction_tokens': 0, 'audio_tokens': 0, 'reasoning_tokens': 0, 'rejected_prediction_tokens': 0}, 'prompt_tokens_details': {'audio_tokens': 0, 'cached_tokens': 0}}, 'model_name': 'gpt-3.5-turbo-0125', 'system_fingerprint': None, 'id': 'chatcmpl-BtTHELNLgv9SfXUVNSkqHQzAZmWp5', 'service_tier': 'default', 'finish_reason': 'tool_calls', 'logprobs': None}, id='run--abf4fb3d-6b64-4ee2-bfa7-9fb14862fe2d-0', tool_calls=[{'name': 'tavily_search', 'args': {'query': 'current weather in Los Angeles'}, 'id': 'call_7SrdDcN4F0F7zNn5CSHP3XlB', 'type': 'tool_call'}], usage_metadata={'input_tokens': 902, 'output_tokens': 20, 'total_tokens': 922, 'input_token_details': {'audio': 0, 'cache_read': 0}, 'output_token_details': {'audio': 0, 'reasoning': 0}})]}, next=('tools_calls',), config={'configurable': {'thread_id': '3', 'checkpoint_ns': '', 'checkpoint_id': '1f061437-4f2e-66a5-8001-fe60549f3042'}}, metadata={'source': 'loop', 'step': 1, 'parents': {}, 'thread_id': '3'}, created_at='2025-07-15T06:18:00.126418+00:00', parent_config={'configurable': {'thread_id': '3', 'checkpoint_ns': '', 'checkpoint_id': '1f061437-448a-6ed9-8000-a83282b6eabc'}}, tasks=(PregelTask(id='c0239bab-7087-1c15-71a6-8dae27f20ac4', name='tools_calls', path=('__pregel_pull', 'tools_calls'), error=None, interrupts=(), state=None, result=None),), interrupts=())\n",
      "--\n",
      "StateSnapshot(values={'messages': [HumanMessage(content='what is the weather in LA', additional_kwargs={}, response_metadata={}, id='741b0d66-3310-4d16-9220-d7f9627d6d1d')]}, next=('llm_call',), config={'configurable': {'thread_id': '3', 'checkpoint_ns': '', 'checkpoint_id': '1f061437-448a-6ed9-8000-a83282b6eabc'}}, metadata={'source': 'loop', 'step': 0, 'parents': {}, 'thread_id': '3'}, created_at='2025-07-15T06:17:59.010862+00:00', parent_config={'configurable': {'thread_id': '3', 'checkpoint_ns': '', 'checkpoint_id': '1f061437-4485-6a36-bfff-fc5124c21a51'}}, tasks=(PregelTask(id='3bcd2595-62a9-10b0-60ac-f6b720d44c08', name='llm_call', path=('__pregel_pull', 'llm_call'), error=None, interrupts=(), state=None, result={'messages': [AIMessage(content='', additional_kwargs={'tool_calls': [{'id': 'call_7SrdDcN4F0F7zNn5CSHP3XlB', 'function': {'arguments': '{\"query\":\"current weather in Los Angeles\"}', 'name': 'tavily_search'}, 'type': 'function'}], 'refusal': None}, response_metadata={'token_usage': {'completion_tokens': 20, 'prompt_tokens': 902, 'total_tokens': 922, 'completion_tokens_details': {'accepted_prediction_tokens': 0, 'audio_tokens': 0, 'reasoning_tokens': 0, 'rejected_prediction_tokens': 0}, 'prompt_tokens_details': {'audio_tokens': 0, 'cached_tokens': 0}}, 'model_name': 'gpt-3.5-turbo-0125', 'system_fingerprint': None, 'id': 'chatcmpl-BtTHELNLgv9SfXUVNSkqHQzAZmWp5', 'service_tier': 'default', 'finish_reason': 'tool_calls', 'logprobs': None}, id='run--abf4fb3d-6b64-4ee2-bfa7-9fb14862fe2d-0', tool_calls=[{'name': 'tavily_search', 'args': {'query': 'current weather in Los Angeles'}, 'id': 'call_7SrdDcN4F0F7zNn5CSHP3XlB', 'type': 'tool_call'}], usage_metadata={'input_tokens': 902, 'output_tokens': 20, 'total_tokens': 922, 'input_token_details': {'audio': 0, 'cache_read': 0}, 'output_token_details': {'audio': 0, 'reasoning': 0}})]}),), interrupts=())\n",
      "--\n",
      "StateSnapshot(values={'messages': []}, next=('__start__',), config={'configurable': {'thread_id': '3', 'checkpoint_ns': '', 'checkpoint_id': '1f061437-4485-6a36-bfff-fc5124c21a51'}}, metadata={'source': 'input', 'step': -1, 'parents': {}, 'thread_id': '3'}, created_at='2025-07-15T06:17:59.008693+00:00', parent_config=None, tasks=(PregelTask(id='11ba266e-7cb7-437f-5bd8-039ee08c3253', name='__start__', path=('__pregel_pull', '__start__'), error=None, interrupts=(), state=None, result={'messages': [HumanMessage(content='what is the weather in LA', additional_kwargs={}, response_metadata={}, id='741b0d66-3310-4d16-9220-d7f9627d6d1d')]}),), interrupts=())\n",
      "--\n"
     ]
    }
   ],
   "source": [
    "states = []\n",
    "for state in agent_mode.graph.get_state_history(thread):\n",
    "    print(state)\n",
    "    print('--')\n",
    "    states.append(state)"
   ]
  },
  {
   "cell_type": "code",
   "execution_count": 42,
   "id": "28437e30-ee5d-4b32-b73d-9d265e9503f8",
   "metadata": {},
   "outputs": [
    {
     "data": {
      "text/plain": [
       "[StateSnapshot(values={'messages': [HumanMessage(content='what is the weather in LA', additional_kwargs={}, response_metadata={}, id='741b0d66-3310-4d16-9220-d7f9627d6d1d'), AIMessage(content='', additional_kwargs={'tool_calls': [{'id': 'call_7SrdDcN4F0F7zNn5CSHP3XlB', 'function': {'arguments': '{\"query\":\"current weather in Los Angeles\"}', 'name': 'tavily_search'}, 'type': 'function'}], 'refusal': None}, response_metadata={'token_usage': {'completion_tokens': 20, 'prompt_tokens': 902, 'total_tokens': 922, 'completion_tokens_details': {'accepted_prediction_tokens': 0, 'audio_tokens': 0, 'reasoning_tokens': 0, 'rejected_prediction_tokens': 0}, 'prompt_tokens_details': {'audio_tokens': 0, 'cached_tokens': 0}}, 'model_name': 'gpt-3.5-turbo-0125', 'system_fingerprint': None, 'id': 'chatcmpl-BtTHELNLgv9SfXUVNSkqHQzAZmWp5', 'service_tier': 'default', 'finish_reason': 'tool_calls', 'logprobs': None}, id='run--abf4fb3d-6b64-4ee2-bfa7-9fb14862fe2d-0', tool_calls=[{'name': 'tavily_search', 'args': {'query': 'weather in Lagos Nigeria'}, 'id': 'call_7SrdDcN4F0F7zNn5CSHP3XlB', 'type': 'tool_call'}], usage_metadata={'input_tokens': 902, 'output_tokens': 20, 'total_tokens': 922, 'input_token_details': {'audio': 0, 'cache_read': 0}, 'output_token_details': {'audio': 0, 'reasoning': 0}}), ToolMessage(content='{\\'query\\': \\'weather in Lagos Nigeria\\', \\'follow_up_questions\\': None, \\'answer\\': None, \\'images\\': [], \\'results\\': [{\\'title\\': \\'Weather in Lagos, Nigeria\\', \\'url\\': \\'https://www.weatherapi.com/\\', \\'content\\': \"{\\'location\\': {\\'name\\': \\'Lagos\\', \\'region\\': \\'Lagos\\', \\'country\\': \\'Nigeria\\', \\'lat\\': 6.4531, \\'lon\\': 3.3958, \\'tz_id\\': \\'Africa/Lagos\\', \\'localtime_epoch\\': 1752560597, \\'localtime\\': \\'2025-07-15 07:23\\'}, \\'current\\': {\\'last_updated_epoch\\': 1752560100, \\'last_updated\\': \\'2025-07-15 07:15\\', \\'temp_c\\': 23.0, \\'temp_f\\': 73.4, \\'is_day\\': 1, \\'condition\\': {\\'text\\': \\'Sunny\\', \\'icon\\': \\'//cdn.weatherapi.com/weather/64x64/day/113.png\\', \\'code\\': 1000}, \\'wind_mph\\': 11.0, \\'wind_kph\\': 17.6, \\'wind_degree\\': 250, \\'wind_dir\\': \\'WSW\\', \\'pressure_mb\\': 1018.0, \\'pressure_in\\': 30.06, \\'precip_mm\\': 0.0, \\'precip_in\\': 0.0, \\'humidity\\': 94, \\'cloud\\': 25, \\'feelslike_c\\': 25.1, \\'feelslike_f\\': 77.1, \\'windchill_c\\': 24.3, \\'windchill_f\\': 75.7, \\'heatindex_c\\': 26.1, \\'heatindex_f\\': 79.1, \\'dewpoint_c\\': 20.1, \\'dewpoint_f\\': 68.2, \\'vis_km\\': 7.0, \\'vis_miles\\': 4.0, \\'uv\\': 0.1, \\'gust_mph\\': 15.3, \\'gust_kph\\': 24.6}}\", \\'score\\': 0.9282788, \\'raw_content\\': None}, {\\'url\\': \\'https://world-weather.info/forecast/nigeria/lagos/july-2025/\\', \\'title\\': \\'Weather in Lagos in July 2025\\', \\'content\\': \"*   Weather *   Weather in Lagos Weather in Lagos in July 2025 *   1 +84° +79° *   2 +84° +79° *   3 +82° +79° *   4 +79° +77° *   5 +82° +77° *   6 +82° +77° *   7 +81° +77° *   8 +81° +77° *   9 +79° +75° *   10 +81° +75° *   11 +82° +77° *   12 +81° +77° *   22 +84° +75° *   23 +84° +77° *   24 +84° +77° *   25 +84° +75° *   26 +84° +77° *   27 +82° +75° *   28 +84° +75° *   29 +84° +75° *   30 +84° +75° *   31 +84° +75° Weather in Abuja**+73°** Oyo**+70°** world\\'s temperature today Napasoq day+10°F night-49°F Gilgit day+122°F night+95°F Weather forecast on your site Install _Lagos_ +77°\", \\'score\\': 0.9220975, \\'raw_content\\': None}, {\\'url\\': \\'https://www.instagram.com/p/DMGZyN6MTG8/\\', \\'title\\': \\'DAILY WEATHER OUTLOOK Valid for: Tuesday, 15th July 2025 (00 ...\\', \\'content\\': \\'Southern States 🌩️ Morning: Cloudy skies with light rain are expected in parts of Cross River, Lagos, Bayelsa, and Akwa Ibom. 🌦️ Afternoon/\\', \\'score\\': 0.9037116, \\'raw_content\\': None}, {\\'url\\': \\'https://www.weather25.com/africa/nigeria/lagos?page=month&month=July\\', \\'title\\': \\'Lagos weather in July 2025 - Weather25.com\\', \\'content\\': \\'Lagos weather in July 2025 | Lagos 14 day weather Lagos Image 3: weather in Nigeria Lagos weather in July 2025 The weather in Lagos in July is very hot. | July | 28° / 25° | 14 | 17 | 0 | 289 mm | Good | Lagos in July | Temperatures in Lagos in July Weather in Lagos in July - FAQ The average temperature in Lagos in July is 25/28° C. On average, there are 14 rainy days in Lagos during July. Weather wise, is July a good time to visit Lagos? The weather in Lagos in July is good. On average, there are 0 snowy days in Lagos in July. More about the weather in Lagos\\', \\'score\\': 0.90018827, \\'raw_content\\': None}], \\'response_time\\': 1.35}', name='tavily_search', id='16906224-a46e-46e9-a4be-907a21fde134', tool_call_id='call_7SrdDcN4F0F7zNn5CSHP3XlB'), AIMessage(content='The current weather in Lagos, Nigeria is sunny with a temperature of 23.0°C (73.4°F). The humidity is at 94%, and the wind speed is 17.6 km/h coming from the WSW direction.', additional_kwargs={'refusal': None}, response_metadata={'token_usage': {'completion_tokens': 50, 'prompt_tokens': 2066, 'total_tokens': 2116, 'completion_tokens_details': {'accepted_prediction_tokens': 0, 'audio_tokens': 0, 'reasoning_tokens': 0, 'rejected_prediction_tokens': 0}, 'prompt_tokens_details': {'audio_tokens': 0, 'cached_tokens': 0}}, 'model_name': 'gpt-3.5-turbo-0125', 'system_fingerprint': None, 'id': 'chatcmpl-BtTInNMQJsc2JL3d7UkixX4QaKMZZ', 'service_tier': 'default', 'finish_reason': 'stop', 'logprobs': None}, id='run--a59f8812-929c-4ad7-a0fb-1ba226b022bb-0', usage_metadata={'input_tokens': 2066, 'output_tokens': 50, 'total_tokens': 2116, 'input_token_details': {'audio': 0, 'cache_read': 0}, 'output_token_details': {'audio': 0, 'reasoning': 0}})]}, next=(), config={'configurable': {'thread_id': '3', 'checkpoint_ns': '', 'checkpoint_id': '1f06143a-f1be-6822-8004-52f7f450e105'}}, metadata={'source': 'loop', 'step': 4, 'parents': {}, 'thread_id': '3'}, created_at='2025-07-15T06:19:37.703005+00:00', parent_config={'configurable': {'thread_id': '3', 'checkpoint_ns': '', 'checkpoint_id': '1f06143a-e385-68cc-8003-3e3581130090'}}, tasks=(), interrupts=()),\n",
       " StateSnapshot(values={'messages': [HumanMessage(content='what is the weather in LA', additional_kwargs={}, response_metadata={}, id='741b0d66-3310-4d16-9220-d7f9627d6d1d'), AIMessage(content='', additional_kwargs={'tool_calls': [{'id': 'call_7SrdDcN4F0F7zNn5CSHP3XlB', 'function': {'arguments': '{\"query\":\"current weather in Los Angeles\"}', 'name': 'tavily_search'}, 'type': 'function'}], 'refusal': None}, response_metadata={'token_usage': {'completion_tokens': 20, 'prompt_tokens': 902, 'total_tokens': 922, 'completion_tokens_details': {'accepted_prediction_tokens': 0, 'audio_tokens': 0, 'reasoning_tokens': 0, 'rejected_prediction_tokens': 0}, 'prompt_tokens_details': {'audio_tokens': 0, 'cached_tokens': 0}}, 'model_name': 'gpt-3.5-turbo-0125', 'system_fingerprint': None, 'id': 'chatcmpl-BtTHELNLgv9SfXUVNSkqHQzAZmWp5', 'service_tier': 'default', 'finish_reason': 'tool_calls', 'logprobs': None}, id='run--abf4fb3d-6b64-4ee2-bfa7-9fb14862fe2d-0', tool_calls=[{'name': 'tavily_search', 'args': {'query': 'weather in Lagos Nigeria'}, 'id': 'call_7SrdDcN4F0F7zNn5CSHP3XlB', 'type': 'tool_call'}], usage_metadata={'input_tokens': 902, 'output_tokens': 20, 'total_tokens': 922, 'input_token_details': {'audio': 0, 'cache_read': 0}, 'output_token_details': {'audio': 0, 'reasoning': 0}}), ToolMessage(content='{\\'query\\': \\'weather in Lagos Nigeria\\', \\'follow_up_questions\\': None, \\'answer\\': None, \\'images\\': [], \\'results\\': [{\\'title\\': \\'Weather in Lagos, Nigeria\\', \\'url\\': \\'https://www.weatherapi.com/\\', \\'content\\': \"{\\'location\\': {\\'name\\': \\'Lagos\\', \\'region\\': \\'Lagos\\', \\'country\\': \\'Nigeria\\', \\'lat\\': 6.4531, \\'lon\\': 3.3958, \\'tz_id\\': \\'Africa/Lagos\\', \\'localtime_epoch\\': 1752560597, \\'localtime\\': \\'2025-07-15 07:23\\'}, \\'current\\': {\\'last_updated_epoch\\': 1752560100, \\'last_updated\\': \\'2025-07-15 07:15\\', \\'temp_c\\': 23.0, \\'temp_f\\': 73.4, \\'is_day\\': 1, \\'condition\\': {\\'text\\': \\'Sunny\\', \\'icon\\': \\'//cdn.weatherapi.com/weather/64x64/day/113.png\\', \\'code\\': 1000}, \\'wind_mph\\': 11.0, \\'wind_kph\\': 17.6, \\'wind_degree\\': 250, \\'wind_dir\\': \\'WSW\\', \\'pressure_mb\\': 1018.0, \\'pressure_in\\': 30.06, \\'precip_mm\\': 0.0, \\'precip_in\\': 0.0, \\'humidity\\': 94, \\'cloud\\': 25, \\'feelslike_c\\': 25.1, \\'feelslike_f\\': 77.1, \\'windchill_c\\': 24.3, \\'windchill_f\\': 75.7, \\'heatindex_c\\': 26.1, \\'heatindex_f\\': 79.1, \\'dewpoint_c\\': 20.1, \\'dewpoint_f\\': 68.2, \\'vis_km\\': 7.0, \\'vis_miles\\': 4.0, \\'uv\\': 0.1, \\'gust_mph\\': 15.3, \\'gust_kph\\': 24.6}}\", \\'score\\': 0.9282788, \\'raw_content\\': None}, {\\'url\\': \\'https://world-weather.info/forecast/nigeria/lagos/july-2025/\\', \\'title\\': \\'Weather in Lagos in July 2025\\', \\'content\\': \"*   Weather *   Weather in Lagos Weather in Lagos in July 2025 *   1 +84° +79° *   2 +84° +79° *   3 +82° +79° *   4 +79° +77° *   5 +82° +77° *   6 +82° +77° *   7 +81° +77° *   8 +81° +77° *   9 +79° +75° *   10 +81° +75° *   11 +82° +77° *   12 +81° +77° *   22 +84° +75° *   23 +84° +77° *   24 +84° +77° *   25 +84° +75° *   26 +84° +77° *   27 +82° +75° *   28 +84° +75° *   29 +84° +75° *   30 +84° +75° *   31 +84° +75° Weather in Abuja**+73°** Oyo**+70°** world\\'s temperature today Napasoq day+10°F night-49°F Gilgit day+122°F night+95°F Weather forecast on your site Install _Lagos_ +77°\", \\'score\\': 0.9220975, \\'raw_content\\': None}, {\\'url\\': \\'https://www.instagram.com/p/DMGZyN6MTG8/\\', \\'title\\': \\'DAILY WEATHER OUTLOOK Valid for: Tuesday, 15th July 2025 (00 ...\\', \\'content\\': \\'Southern States 🌩️ Morning: Cloudy skies with light rain are expected in parts of Cross River, Lagos, Bayelsa, and Akwa Ibom. 🌦️ Afternoon/\\', \\'score\\': 0.9037116, \\'raw_content\\': None}, {\\'url\\': \\'https://www.weather25.com/africa/nigeria/lagos?page=month&month=July\\', \\'title\\': \\'Lagos weather in July 2025 - Weather25.com\\', \\'content\\': \\'Lagos weather in July 2025 | Lagos 14 day weather Lagos Image 3: weather in Nigeria Lagos weather in July 2025 The weather in Lagos in July is very hot. | July | 28° / 25° | 14 | 17 | 0 | 289 mm | Good | Lagos in July | Temperatures in Lagos in July Weather in Lagos in July - FAQ The average temperature in Lagos in July is 25/28° C. On average, there are 14 rainy days in Lagos during July. Weather wise, is July a good time to visit Lagos? The weather in Lagos in July is good. On average, there are 0 snowy days in Lagos in July. More about the weather in Lagos\\', \\'score\\': 0.90018827, \\'raw_content\\': None}], \\'response_time\\': 1.35}', name='tavily_search', id='16906224-a46e-46e9-a4be-907a21fde134', tool_call_id='call_7SrdDcN4F0F7zNn5CSHP3XlB')]}, next=('llm_call',), config={'configurable': {'thread_id': '3', 'checkpoint_ns': '', 'checkpoint_id': '1f06143a-e385-68cc-8003-3e3581130090'}}, metadata={'source': 'loop', 'step': 3, 'parents': {}, 'thread_id': '3'}, created_at='2025-07-15T06:19:36.211662+00:00', parent_config={'configurable': {'thread_id': '3', 'checkpoint_ns': '', 'checkpoint_id': '1f06143a-4359-6c5e-8002-edf1f42a7d6e'}}, tasks=(PregelTask(id='f0d79918-519d-cb29-b9be-c7f757b14b59', name='llm_call', path=('__pregel_pull', 'llm_call'), error=None, interrupts=(), state=None, result={'messages': [AIMessage(content='The current weather in Lagos, Nigeria is sunny with a temperature of 23.0°C (73.4°F). The humidity is at 94%, and the wind speed is 17.6 km/h coming from the WSW direction.', additional_kwargs={'refusal': None}, response_metadata={'token_usage': {'completion_tokens': 50, 'prompt_tokens': 2066, 'total_tokens': 2116, 'completion_tokens_details': {'accepted_prediction_tokens': 0, 'audio_tokens': 0, 'reasoning_tokens': 0, 'rejected_prediction_tokens': 0}, 'prompt_tokens_details': {'audio_tokens': 0, 'cached_tokens': 0}}, 'model_name': 'gpt-3.5-turbo-0125', 'system_fingerprint': None, 'id': 'chatcmpl-BtTInNMQJsc2JL3d7UkixX4QaKMZZ', 'service_tier': 'default', 'finish_reason': 'stop', 'logprobs': None}, id='run--a59f8812-929c-4ad7-a0fb-1ba226b022bb-0', usage_metadata={'input_tokens': 2066, 'output_tokens': 50, 'total_tokens': 2116, 'input_token_details': {'audio': 0, 'cache_read': 0}, 'output_token_details': {'audio': 0, 'reasoning': 0}})]}),), interrupts=()),\n",
       " StateSnapshot(values={'messages': [HumanMessage(content='what is the weather in LA', additional_kwargs={}, response_metadata={}, id='741b0d66-3310-4d16-9220-d7f9627d6d1d'), AIMessage(content='', additional_kwargs={'tool_calls': [{'id': 'call_7SrdDcN4F0F7zNn5CSHP3XlB', 'function': {'arguments': '{\"query\":\"current weather in Los Angeles\"}', 'name': 'tavily_search'}, 'type': 'function'}], 'refusal': None}, response_metadata={'token_usage': {'completion_tokens': 20, 'prompt_tokens': 902, 'total_tokens': 922, 'completion_tokens_details': {'accepted_prediction_tokens': 0, 'audio_tokens': 0, 'reasoning_tokens': 0, 'rejected_prediction_tokens': 0}, 'prompt_tokens_details': {'audio_tokens': 0, 'cached_tokens': 0}}, 'model_name': 'gpt-3.5-turbo-0125', 'system_fingerprint': None, 'id': 'chatcmpl-BtTHELNLgv9SfXUVNSkqHQzAZmWp5', 'service_tier': 'default', 'finish_reason': 'tool_calls', 'logprobs': None}, id='run--abf4fb3d-6b64-4ee2-bfa7-9fb14862fe2d-0', tool_calls=[{'name': 'tavily_search', 'args': {'query': 'weather in Lagos Nigeria'}, 'id': 'call_7SrdDcN4F0F7zNn5CSHP3XlB', 'type': 'tool_call'}], usage_metadata={'input_tokens': 902, 'output_tokens': 20, 'total_tokens': 922, 'input_token_details': {'audio': 0, 'cache_read': 0}, 'output_token_details': {'audio': 0, 'reasoning': 0}})]}, next=('tools_calls',), config={'configurable': {'thread_id': '3', 'checkpoint_ns': '', 'checkpoint_id': '1f06143a-4359-6c5e-8002-edf1f42a7d6e'}}, metadata={'source': 'update', 'step': 2, 'parents': {}, 'thread_id': '3'}, created_at='2025-07-15T06:19:19.416506+00:00', parent_config={'configurable': {'thread_id': '3', 'checkpoint_ns': '', 'checkpoint_id': '1f061437-4f2e-66a5-8001-fe60549f3042'}}, tasks=(PregelTask(id='f0346b7b-f34e-ad18-718c-9e9946683d3c', name='tools_calls', path=('__pregel_pull', 'tools_calls'), error=None, interrupts=(), state=None, result={'messages': [ToolMessage(content='{\\'query\\': \\'weather in Lagos Nigeria\\', \\'follow_up_questions\\': None, \\'answer\\': None, \\'images\\': [], \\'results\\': [{\\'title\\': \\'Weather in Lagos, Nigeria\\', \\'url\\': \\'https://www.weatherapi.com/\\', \\'content\\': \"{\\'location\\': {\\'name\\': \\'Lagos\\', \\'region\\': \\'Lagos\\', \\'country\\': \\'Nigeria\\', \\'lat\\': 6.4531, \\'lon\\': 3.3958, \\'tz_id\\': \\'Africa/Lagos\\', \\'localtime_epoch\\': 1752560597, \\'localtime\\': \\'2025-07-15 07:23\\'}, \\'current\\': {\\'last_updated_epoch\\': 1752560100, \\'last_updated\\': \\'2025-07-15 07:15\\', \\'temp_c\\': 23.0, \\'temp_f\\': 73.4, \\'is_day\\': 1, \\'condition\\': {\\'text\\': \\'Sunny\\', \\'icon\\': \\'//cdn.weatherapi.com/weather/64x64/day/113.png\\', \\'code\\': 1000}, \\'wind_mph\\': 11.0, \\'wind_kph\\': 17.6, \\'wind_degree\\': 250, \\'wind_dir\\': \\'WSW\\', \\'pressure_mb\\': 1018.0, \\'pressure_in\\': 30.06, \\'precip_mm\\': 0.0, \\'precip_in\\': 0.0, \\'humidity\\': 94, \\'cloud\\': 25, \\'feelslike_c\\': 25.1, \\'feelslike_f\\': 77.1, \\'windchill_c\\': 24.3, \\'windchill_f\\': 75.7, \\'heatindex_c\\': 26.1, \\'heatindex_f\\': 79.1, \\'dewpoint_c\\': 20.1, \\'dewpoint_f\\': 68.2, \\'vis_km\\': 7.0, \\'vis_miles\\': 4.0, \\'uv\\': 0.1, \\'gust_mph\\': 15.3, \\'gust_kph\\': 24.6}}\", \\'score\\': 0.9282788, \\'raw_content\\': None}, {\\'url\\': \\'https://world-weather.info/forecast/nigeria/lagos/july-2025/\\', \\'title\\': \\'Weather in Lagos in July 2025\\', \\'content\\': \"*   Weather *   Weather in Lagos Weather in Lagos in July 2025 *   1 +84° +79° *   2 +84° +79° *   3 +82° +79° *   4 +79° +77° *   5 +82° +77° *   6 +82° +77° *   7 +81° +77° *   8 +81° +77° *   9 +79° +75° *   10 +81° +75° *   11 +82° +77° *   12 +81° +77° *   22 +84° +75° *   23 +84° +77° *   24 +84° +77° *   25 +84° +75° *   26 +84° +77° *   27 +82° +75° *   28 +84° +75° *   29 +84° +75° *   30 +84° +75° *   31 +84° +75° Weather in Abuja**+73°** Oyo**+70°** world\\'s temperature today Napasoq day+10°F night-49°F Gilgit day+122°F night+95°F Weather forecast on your site Install _Lagos_ +77°\", \\'score\\': 0.9220975, \\'raw_content\\': None}, {\\'url\\': \\'https://www.instagram.com/p/DMGZyN6MTG8/\\', \\'title\\': \\'DAILY WEATHER OUTLOOK Valid for: Tuesday, 15th July 2025 (00 ...\\', \\'content\\': \\'Southern States 🌩️ Morning: Cloudy skies with light rain are expected in parts of Cross River, Lagos, Bayelsa, and Akwa Ibom. 🌦️ Afternoon/\\', \\'score\\': 0.9037116, \\'raw_content\\': None}, {\\'url\\': \\'https://www.weather25.com/africa/nigeria/lagos?page=month&month=July\\', \\'title\\': \\'Lagos weather in July 2025 - Weather25.com\\', \\'content\\': \\'Lagos weather in July 2025 | Lagos 14 day weather Lagos Image 3: weather in Nigeria Lagos weather in July 2025 The weather in Lagos in July is very hot. | July | 28° / 25° | 14 | 17 | 0 | 289 mm | Good | Lagos in July | Temperatures in Lagos in July Weather in Lagos in July - FAQ The average temperature in Lagos in July is 25/28° C. On average, there are 14 rainy days in Lagos during July. Weather wise, is July a good time to visit Lagos? The weather in Lagos in July is good. On average, there are 0 snowy days in Lagos in July. More about the weather in Lagos\\', \\'score\\': 0.90018827, \\'raw_content\\': None}], \\'response_time\\': 1.35}', name='tavily_search', tool_call_id='call_7SrdDcN4F0F7zNn5CSHP3XlB')]}),), interrupts=()),\n",
       " StateSnapshot(values={'messages': [HumanMessage(content='what is the weather in LA', additional_kwargs={}, response_metadata={}, id='741b0d66-3310-4d16-9220-d7f9627d6d1d'), AIMessage(content='', additional_kwargs={'tool_calls': [{'id': 'call_7SrdDcN4F0F7zNn5CSHP3XlB', 'function': {'arguments': '{\"query\":\"current weather in Los Angeles\"}', 'name': 'tavily_search'}, 'type': 'function'}], 'refusal': None}, response_metadata={'token_usage': {'completion_tokens': 20, 'prompt_tokens': 902, 'total_tokens': 922, 'completion_tokens_details': {'accepted_prediction_tokens': 0, 'audio_tokens': 0, 'reasoning_tokens': 0, 'rejected_prediction_tokens': 0}, 'prompt_tokens_details': {'audio_tokens': 0, 'cached_tokens': 0}}, 'model_name': 'gpt-3.5-turbo-0125', 'system_fingerprint': None, 'id': 'chatcmpl-BtTHELNLgv9SfXUVNSkqHQzAZmWp5', 'service_tier': 'default', 'finish_reason': 'tool_calls', 'logprobs': None}, id='run--abf4fb3d-6b64-4ee2-bfa7-9fb14862fe2d-0', tool_calls=[{'name': 'tavily_search', 'args': {'query': 'current weather in Los Angeles'}, 'id': 'call_7SrdDcN4F0F7zNn5CSHP3XlB', 'type': 'tool_call'}], usage_metadata={'input_tokens': 902, 'output_tokens': 20, 'total_tokens': 922, 'input_token_details': {'audio': 0, 'cache_read': 0}, 'output_token_details': {'audio': 0, 'reasoning': 0}})]}, next=('tools_calls',), config={'configurable': {'thread_id': '3', 'checkpoint_ns': '', 'checkpoint_id': '1f061437-4f2e-66a5-8001-fe60549f3042'}}, metadata={'source': 'loop', 'step': 1, 'parents': {}, 'thread_id': '3'}, created_at='2025-07-15T06:18:00.126418+00:00', parent_config={'configurable': {'thread_id': '3', 'checkpoint_ns': '', 'checkpoint_id': '1f061437-448a-6ed9-8000-a83282b6eabc'}}, tasks=(PregelTask(id='c0239bab-7087-1c15-71a6-8dae27f20ac4', name='tools_calls', path=('__pregel_pull', 'tools_calls'), error=None, interrupts=(), state=None, result=None),), interrupts=()),\n",
       " StateSnapshot(values={'messages': [HumanMessage(content='what is the weather in LA', additional_kwargs={}, response_metadata={}, id='741b0d66-3310-4d16-9220-d7f9627d6d1d')]}, next=('llm_call',), config={'configurable': {'thread_id': '3', 'checkpoint_ns': '', 'checkpoint_id': '1f061437-448a-6ed9-8000-a83282b6eabc'}}, metadata={'source': 'loop', 'step': 0, 'parents': {}, 'thread_id': '3'}, created_at='2025-07-15T06:17:59.010862+00:00', parent_config={'configurable': {'thread_id': '3', 'checkpoint_ns': '', 'checkpoint_id': '1f061437-4485-6a36-bfff-fc5124c21a51'}}, tasks=(PregelTask(id='3bcd2595-62a9-10b0-60ac-f6b720d44c08', name='llm_call', path=('__pregel_pull', 'llm_call'), error=None, interrupts=(), state=None, result={'messages': [AIMessage(content='', additional_kwargs={'tool_calls': [{'id': 'call_7SrdDcN4F0F7zNn5CSHP3XlB', 'function': {'arguments': '{\"query\":\"current weather in Los Angeles\"}', 'name': 'tavily_search'}, 'type': 'function'}], 'refusal': None}, response_metadata={'token_usage': {'completion_tokens': 20, 'prompt_tokens': 902, 'total_tokens': 922, 'completion_tokens_details': {'accepted_prediction_tokens': 0, 'audio_tokens': 0, 'reasoning_tokens': 0, 'rejected_prediction_tokens': 0}, 'prompt_tokens_details': {'audio_tokens': 0, 'cached_tokens': 0}}, 'model_name': 'gpt-3.5-turbo-0125', 'system_fingerprint': None, 'id': 'chatcmpl-BtTHELNLgv9SfXUVNSkqHQzAZmWp5', 'service_tier': 'default', 'finish_reason': 'tool_calls', 'logprobs': None}, id='run--abf4fb3d-6b64-4ee2-bfa7-9fb14862fe2d-0', tool_calls=[{'name': 'tavily_search', 'args': {'query': 'current weather in Los Angeles'}, 'id': 'call_7SrdDcN4F0F7zNn5CSHP3XlB', 'type': 'tool_call'}], usage_metadata={'input_tokens': 902, 'output_tokens': 20, 'total_tokens': 922, 'input_token_details': {'audio': 0, 'cache_read': 0}, 'output_token_details': {'audio': 0, 'reasoning': 0}})]}),), interrupts=()),\n",
       " StateSnapshot(values={'messages': []}, next=('__start__',), config={'configurable': {'thread_id': '3', 'checkpoint_ns': '', 'checkpoint_id': '1f061437-4485-6a36-bfff-fc5124c21a51'}}, metadata={'source': 'input', 'step': -1, 'parents': {}, 'thread_id': '3'}, created_at='2025-07-15T06:17:59.008693+00:00', parent_config=None, tasks=(PregelTask(id='11ba266e-7cb7-437f-5bd8-039ee08c3253', name='__start__', path=('__pregel_pull', '__start__'), error=None, interrupts=(), state=None, result={'messages': [HumanMessage(content='what is the weather in LA', additional_kwargs={}, response_metadata={}, id='741b0d66-3310-4d16-9220-d7f9627d6d1d')]}),), interrupts=())]"
      ]
     },
     "execution_count": 42,
     "metadata": {},
     "output_type": "execute_result"
    }
   ],
   "source": [
    "states"
   ]
  },
  {
   "cell_type": "code",
   "execution_count": 43,
   "id": "4c0de97d-005f-4340-a8cb-f9a012264d57",
   "metadata": {},
   "outputs": [],
   "source": [
    "replay = states[-3]"
   ]
  },
  {
   "cell_type": "code",
   "execution_count": 44,
   "id": "3f554a94-0389-4b71-9cc5-7c81fe170c67",
   "metadata": {},
   "outputs": [
    {
     "data": {
      "text/plain": [
       "StateSnapshot(values={'messages': [HumanMessage(content='what is the weather in LA', additional_kwargs={}, response_metadata={}, id='741b0d66-3310-4d16-9220-d7f9627d6d1d'), AIMessage(content='', additional_kwargs={'tool_calls': [{'id': 'call_7SrdDcN4F0F7zNn5CSHP3XlB', 'function': {'arguments': '{\"query\":\"current weather in Los Angeles\"}', 'name': 'tavily_search'}, 'type': 'function'}], 'refusal': None}, response_metadata={'token_usage': {'completion_tokens': 20, 'prompt_tokens': 902, 'total_tokens': 922, 'completion_tokens_details': {'accepted_prediction_tokens': 0, 'audio_tokens': 0, 'reasoning_tokens': 0, 'rejected_prediction_tokens': 0}, 'prompt_tokens_details': {'audio_tokens': 0, 'cached_tokens': 0}}, 'model_name': 'gpt-3.5-turbo-0125', 'system_fingerprint': None, 'id': 'chatcmpl-BtTHELNLgv9SfXUVNSkqHQzAZmWp5', 'service_tier': 'default', 'finish_reason': 'tool_calls', 'logprobs': None}, id='run--abf4fb3d-6b64-4ee2-bfa7-9fb14862fe2d-0', tool_calls=[{'name': 'tavily_search', 'args': {'query': 'current weather in Los Angeles'}, 'id': 'call_7SrdDcN4F0F7zNn5CSHP3XlB', 'type': 'tool_call'}], usage_metadata={'input_tokens': 902, 'output_tokens': 20, 'total_tokens': 922, 'input_token_details': {'audio': 0, 'cache_read': 0}, 'output_token_details': {'audio': 0, 'reasoning': 0}})]}, next=('tools_calls',), config={'configurable': {'thread_id': '3', 'checkpoint_ns': '', 'checkpoint_id': '1f061437-4f2e-66a5-8001-fe60549f3042'}}, metadata={'source': 'loop', 'step': 1, 'parents': {}, 'thread_id': '3'}, created_at='2025-07-15T06:18:00.126418+00:00', parent_config={'configurable': {'thread_id': '3', 'checkpoint_ns': '', 'checkpoint_id': '1f061437-448a-6ed9-8000-a83282b6eabc'}}, tasks=(PregelTask(id='c0239bab-7087-1c15-71a6-8dae27f20ac4', name='tools_calls', path=('__pregel_pull', 'tools_calls'), error=None, interrupts=(), state=None, result=None),), interrupts=())"
      ]
     },
     "execution_count": 44,
     "metadata": {},
     "output_type": "execute_result"
    }
   ],
   "source": [
    "replay"
   ]
  },
  {
   "cell_type": "code",
   "execution_count": 45,
   "id": "21db0ce0-d68c-4924-9a0d-0c9d2552a92a",
   "metadata": {
    "scrolled": true
   },
   "outputs": [
    {
     "name": "stdout",
     "output_type": "stream",
     "text": [
      "Calling...: {'name': 'tavily_search', 'args': {'query': 'current weather in Los Angeles'}, 'id': 'call_7SrdDcN4F0F7zNn5CSHP3XlB', 'type': 'tool_call'}\n",
      "Back to Model!\n",
      "{'messages': [ToolMessage(content='{\\'query\\': \\'current weather in Los Angeles\\', \\'follow_up_questions\\': None, \\'answer\\': None, \\'images\\': [], \\'results\\': [{\\'title\\': \\'Weather in Los Angeles\\', \\'url\\': \\'https://www.weatherapi.com/\\', \\'content\\': \"{\\'location\\': {\\'name\\': \\'Los Angeles\\', \\'region\\': \\'California\\', \\'country\\': \\'United States of America\\', \\'lat\\': 34.0522, \\'lon\\': -118.2428, \\'tz_id\\': \\'America/Los_Angeles\\', \\'localtime_epoch\\': 1752560267, \\'localtime\\': \\'2025-07-14 23:17\\'}, \\'current\\': {\\'last_updated_epoch\\': 1752560100, \\'last_updated\\': \\'2025-07-14 23:15\\', \\'temp_c\\': 17.8, \\'temp_f\\': 64.0, \\'is_day\\': 0, \\'condition\\': {\\'text\\': \\'Overcast\\', \\'icon\\': \\'//cdn.weatherapi.com/weather/64x64/night/122.png\\', \\'code\\': 1009}, \\'wind_mph\\': 3.8, \\'wind_kph\\': 6.1, \\'wind_degree\\': 221, \\'wind_dir\\': \\'SW\\', \\'pressure_mb\\': 1014.0, \\'pressure_in\\': 29.94, \\'precip_mm\\': 0.0, \\'precip_in\\': 0.0, \\'humidity\\': 81, \\'cloud\\': 100, \\'feelslike_c\\': 17.8, \\'feelslike_f\\': 64.0, \\'windchill_c\\': 19.7, \\'windchill_f\\': 67.4, \\'heatindex_c\\': 19.8, \\'heatindex_f\\': 67.7, \\'dewpoint_c\\': 15.9, \\'dewpoint_f\\': 60.6, \\'vis_km\\': 16.0, \\'vis_miles\\': 9.0, \\'uv\\': 0.0, \\'gust_mph\\': 5.0, \\'gust_kph\\': 8.1}}\", \\'score\\': 0.9802004, \\'raw_content\\': None}, {\\'url\\': \\'https://world-weather.info/forecast/usa/los_angeles/july-2025/\\', \\'title\\': \\'Weather in Los Angeles in July 2025 (California)\\', \\'content\\': \\'Detailed ⚡ Los Angeles Weather Forecast for July 2025 – day/night 🌡️ ... Tuesday, 15 July. +63°. Day. +77°. Clear sky. Wednesday, 16 July. +63°. Day. +77\\', \\'score\\': 0.914176, \\'raw_content\\': None}, {\\'url\\': \\'https://www.weather25.com/north-america/usa/california/los-angeles?page=month&month=July\\', \\'title\\': \\'Los Angeles weather in July 2025 | Weather25.com\\', \\'content\\': \"The weather in Los Angeles in July is hot. The average temperatures are between 68°F and 86°F. There shouldn\\'t be any rainy days in in Los Angeles during\", \\'score\\': 0.8732259, \\'raw_content\\': None}, {\\'url\\': \\'http://www.metcheck.com/WEATHER/dayforecast.asp?location=Los+Angeles&locationID=2024966&lat=34.05223&lon=-118.24368&dateFor=15/07/2025\\', \\'title\\': \\'Weather Forecast for Los Angeles for Tuesday 15 July - Metcheck.com\\', \\'content\\': \\'Weather Forecast for Los Angeles for Tuesday 15 July ; 8:00, 19 °c, 21 °c, 4% ; 11:00, 24 °c, 25 °c, 4% ; 14:00, 26 °c, 28 °c, 0%\\', \\'score\\': 0.7760977, \\'raw_content\\': None}], \\'response_time\\': 2.57}', name='tavily_search', id='78688c1e-dedd-4dce-9f87-589820c473b4', tool_call_id='call_7SrdDcN4F0F7zNn5CSHP3XlB')]}\n",
      "{'messages': [HumanMessage(content='what is the weather in LA', additional_kwargs={}, response_metadata={}, id='741b0d66-3310-4d16-9220-d7f9627d6d1d'), AIMessage(content='', additional_kwargs={'tool_calls': [{'id': 'call_7SrdDcN4F0F7zNn5CSHP3XlB', 'function': {'arguments': '{\"query\":\"current weather in Los Angeles\"}', 'name': 'tavily_search'}, 'type': 'function'}], 'refusal': None}, response_metadata={'token_usage': {'completion_tokens': 20, 'prompt_tokens': 902, 'total_tokens': 922, 'completion_tokens_details': {'accepted_prediction_tokens': 0, 'audio_tokens': 0, 'reasoning_tokens': 0, 'rejected_prediction_tokens': 0}, 'prompt_tokens_details': {'audio_tokens': 0, 'cached_tokens': 0}}, 'model_name': 'gpt-3.5-turbo-0125', 'system_fingerprint': None, 'id': 'chatcmpl-BtTHELNLgv9SfXUVNSkqHQzAZmWp5', 'service_tier': 'default', 'finish_reason': 'tool_calls', 'logprobs': None}, id='run--abf4fb3d-6b64-4ee2-bfa7-9fb14862fe2d-0', tool_calls=[{'name': 'tavily_search', 'args': {'query': 'current weather in Los Angeles'}, 'id': 'call_7SrdDcN4F0F7zNn5CSHP3XlB', 'type': 'tool_call'}], usage_metadata={'input_tokens': 902, 'output_tokens': 20, 'total_tokens': 922, 'input_token_details': {'audio': 0, 'cache_read': 0}, 'output_token_details': {'audio': 0, 'reasoning': 0}}), ToolMessage(content='{\\'query\\': \\'current weather in Los Angeles\\', \\'follow_up_questions\\': None, \\'answer\\': None, \\'images\\': [], \\'results\\': [{\\'title\\': \\'Weather in Los Angeles\\', \\'url\\': \\'https://www.weatherapi.com/\\', \\'content\\': \"{\\'location\\': {\\'name\\': \\'Los Angeles\\', \\'region\\': \\'California\\', \\'country\\': \\'United States of America\\', \\'lat\\': 34.0522, \\'lon\\': -118.2428, \\'tz_id\\': \\'America/Los_Angeles\\', \\'localtime_epoch\\': 1752560267, \\'localtime\\': \\'2025-07-14 23:17\\'}, \\'current\\': {\\'last_updated_epoch\\': 1752560100, \\'last_updated\\': \\'2025-07-14 23:15\\', \\'temp_c\\': 17.8, \\'temp_f\\': 64.0, \\'is_day\\': 0, \\'condition\\': {\\'text\\': \\'Overcast\\', \\'icon\\': \\'//cdn.weatherapi.com/weather/64x64/night/122.png\\', \\'code\\': 1009}, \\'wind_mph\\': 3.8, \\'wind_kph\\': 6.1, \\'wind_degree\\': 221, \\'wind_dir\\': \\'SW\\', \\'pressure_mb\\': 1014.0, \\'pressure_in\\': 29.94, \\'precip_mm\\': 0.0, \\'precip_in\\': 0.0, \\'humidity\\': 81, \\'cloud\\': 100, \\'feelslike_c\\': 17.8, \\'feelslike_f\\': 64.0, \\'windchill_c\\': 19.7, \\'windchill_f\\': 67.4, \\'heatindex_c\\': 19.8, \\'heatindex_f\\': 67.7, \\'dewpoint_c\\': 15.9, \\'dewpoint_f\\': 60.6, \\'vis_km\\': 16.0, \\'vis_miles\\': 9.0, \\'uv\\': 0.0, \\'gust_mph\\': 5.0, \\'gust_kph\\': 8.1}}\", \\'score\\': 0.9802004, \\'raw_content\\': None}, {\\'url\\': \\'https://world-weather.info/forecast/usa/los_angeles/july-2025/\\', \\'title\\': \\'Weather in Los Angeles in July 2025 (California)\\', \\'content\\': \\'Detailed ⚡ Los Angeles Weather Forecast for July 2025 – day/night 🌡️ ... Tuesday, 15 July. +63°. Day. +77°. Clear sky. Wednesday, 16 July. +63°. Day. +77\\', \\'score\\': 0.914176, \\'raw_content\\': None}, {\\'url\\': \\'https://www.weather25.com/north-america/usa/california/los-angeles?page=month&month=July\\', \\'title\\': \\'Los Angeles weather in July 2025 | Weather25.com\\', \\'content\\': \"The weather in Los Angeles in July is hot. The average temperatures are between 68°F and 86°F. There shouldn\\'t be any rainy days in in Los Angeles during\", \\'score\\': 0.8732259, \\'raw_content\\': None}, {\\'url\\': \\'http://www.metcheck.com/WEATHER/dayforecast.asp?location=Los+Angeles&locationID=2024966&lat=34.05223&lon=-118.24368&dateFor=15/07/2025\\', \\'title\\': \\'Weather Forecast for Los Angeles for Tuesday 15 July - Metcheck.com\\', \\'content\\': \\'Weather Forecast for Los Angeles for Tuesday 15 July ; 8:00, 19 °c, 21 °c, 4% ; 11:00, 24 °c, 25 °c, 4% ; 14:00, 26 °c, 28 °c, 0%\\', \\'score\\': 0.7760977, \\'raw_content\\': None}], \\'response_time\\': 2.57}', name='tavily_search', id='78688c1e-dedd-4dce-9f87-589820c473b4', tool_call_id='call_7SrdDcN4F0F7zNn5CSHP3XlB'), AIMessage(content='The current weather in Los Angeles is overcast with a temperature of 64.0°F (17.8°C). The wind speed is 6.1 km/h coming from the southwest direction. The humidity is at 81%, and the visibility is 9.0 miles.', additional_kwargs={'refusal': None}, response_metadata={'token_usage': {'completion_tokens': 58, 'prompt_tokens': 1787, 'total_tokens': 1845, 'completion_tokens_details': {'accepted_prediction_tokens': 0, 'audio_tokens': 0, 'reasoning_tokens': 0, 'rejected_prediction_tokens': 0}, 'prompt_tokens_details': {'audio_tokens': 0, 'cached_tokens': 0}}, 'model_name': 'gpt-3.5-turbo-0125', 'system_fingerprint': None, 'id': 'chatcmpl-BtTKf6HR8ahwlxNPbsyIbK8QVJJ4D', 'service_tier': 'default', 'finish_reason': 'stop', 'logprobs': None}, id='run--48ae0cdc-a048-4ddd-954c-f7c4d96aeb52-0', usage_metadata={'input_tokens': 1787, 'output_tokens': 58, 'total_tokens': 1845, 'input_token_details': {'audio': 0, 'cache_read': 0}, 'output_token_details': {'audio': 0, 'reasoning': 0}})]}\n",
      "{'messages': [AIMessage(content='The current weather in Los Angeles is overcast with a temperature of 64.0°F (17.8°C). The wind speed is 6.1 km/h coming from the southwest direction. The humidity is at 81%, and the visibility is 9.0 miles.', additional_kwargs={'refusal': None}, response_metadata={'token_usage': {'completion_tokens': 58, 'prompt_tokens': 1787, 'total_tokens': 1845, 'completion_tokens_details': {'accepted_prediction_tokens': 0, 'audio_tokens': 0, 'reasoning_tokens': 0, 'rejected_prediction_tokens': 0}, 'prompt_tokens_details': {'audio_tokens': 0, 'cached_tokens': 0}}, 'model_name': 'gpt-3.5-turbo-0125', 'system_fingerprint': None, 'id': 'chatcmpl-BtTKf6HR8ahwlxNPbsyIbK8QVJJ4D', 'service_tier': 'default', 'finish_reason': 'stop', 'logprobs': None}, id='run--48ae0cdc-a048-4ddd-954c-f7c4d96aeb52-0', usage_metadata={'input_tokens': 1787, 'output_tokens': 58, 'total_tokens': 1845, 'input_token_details': {'audio': 0, 'cache_read': 0}, 'output_token_details': {'audio': 0, 'reasoning': 0}})]}\n"
     ]
    }
   ],
   "source": [
    "for event in agent_mode.graph.stream(None, replay.config):\n",
    "    for k, v in event.items():\n",
    "        print(v)"
   ]
  },
  {
   "cell_type": "code",
   "execution_count": 46,
   "id": "2a24bdb5-4a8f-4ca4-aa98-a58a211725c5",
   "metadata": {},
   "outputs": [
    {
     "data": {
      "text/plain": [
       "StateSnapshot(values={'messages': [HumanMessage(content='what is the weather in LA', additional_kwargs={}, response_metadata={}, id='741b0d66-3310-4d16-9220-d7f9627d6d1d'), AIMessage(content='', additional_kwargs={'tool_calls': [{'id': 'call_7SrdDcN4F0F7zNn5CSHP3XlB', 'function': {'arguments': '{\"query\":\"current weather in Los Angeles\"}', 'name': 'tavily_search'}, 'type': 'function'}], 'refusal': None}, response_metadata={'token_usage': {'completion_tokens': 20, 'prompt_tokens': 902, 'total_tokens': 922, 'completion_tokens_details': {'accepted_prediction_tokens': 0, 'audio_tokens': 0, 'reasoning_tokens': 0, 'rejected_prediction_tokens': 0}, 'prompt_tokens_details': {'audio_tokens': 0, 'cached_tokens': 0}}, 'model_name': 'gpt-3.5-turbo-0125', 'system_fingerprint': None, 'id': 'chatcmpl-BtTHELNLgv9SfXUVNSkqHQzAZmWp5', 'service_tier': 'default', 'finish_reason': 'tool_calls', 'logprobs': None}, id='run--abf4fb3d-6b64-4ee2-bfa7-9fb14862fe2d-0', tool_calls=[{'name': 'tavily_search', 'args': {'query': 'current weather in Los Angeles'}, 'id': 'call_7SrdDcN4F0F7zNn5CSHP3XlB', 'type': 'tool_call'}], usage_metadata={'input_tokens': 902, 'output_tokens': 20, 'total_tokens': 922, 'input_token_details': {'audio': 0, 'cache_read': 0}, 'output_token_details': {'audio': 0, 'reasoning': 0}})]}, next=('tools_calls',), config={'configurable': {'thread_id': '3', 'checkpoint_ns': '', 'checkpoint_id': '1f061437-4f2e-66a5-8001-fe60549f3042'}}, metadata={'source': 'loop', 'step': 1, 'parents': {}, 'thread_id': '3'}, created_at='2025-07-15T06:18:00.126418+00:00', parent_config={'configurable': {'thread_id': '3', 'checkpoint_ns': '', 'checkpoint_id': '1f061437-448a-6ed9-8000-a83282b6eabc'}}, tasks=(PregelTask(id='c0239bab-7087-1c15-71a6-8dae27f20ac4', name='tools_calls', path=('__pregel_pull', 'tools_calls'), error=None, interrupts=(), state=None, result=None),), interrupts=())"
      ]
     },
     "execution_count": 46,
     "metadata": {},
     "output_type": "execute_result"
    }
   ],
   "source": [
    "replay"
   ]
  },
  {
   "cell_type": "code",
   "execution_count": 47,
   "id": "a3f74a6d-675a-4a37-86cf-e9b3619da6dd",
   "metadata": {},
   "outputs": [
    {
     "data": {
      "text/plain": [
       "[{'name': 'tavily_search',\n",
       "  'args': {'query': 'current weather in Los Angeles'},\n",
       "  'id': 'call_7SrdDcN4F0F7zNn5CSHP3XlB',\n",
       "  'type': 'tool_call'}]"
      ]
     },
     "execution_count": 47,
     "metadata": {},
     "output_type": "execute_result"
    }
   ],
   "source": [
    "replay.values['messages'][-1].tool_calls"
   ]
  },
  {
   "cell_type": "code",
   "execution_count": 48,
   "id": "abff2420-9477-4217-98d0-10d15bb3de4f",
   "metadata": {},
   "outputs": [],
   "source": [
    "_id = replay.values['messages'][-1].tool_calls[0]['id']\n",
    "replay.values['messages'][-1].tool_calls = [{'name': 'tavily_search',\n",
    "  'args': {'query': 'current weather in LA, accuweather'},\n",
    "  'id': _id}]"
   ]
  },
  {
   "cell_type": "code",
   "execution_count": 49,
   "id": "0e4b69c0-2103-4d81-ad82-f398aa1c487e",
   "metadata": {},
   "outputs": [
    {
     "name": "stdout",
     "output_type": "stream",
     "text": [
      "{'messages': [HumanMessage(content='what is the weather in LA', additional_kwargs={}, response_metadata={}, id='741b0d66-3310-4d16-9220-d7f9627d6d1d'), AIMessage(content='', additional_kwargs={'tool_calls': [{'id': 'call_7SrdDcN4F0F7zNn5CSHP3XlB', 'function': {'arguments': '{\"query\":\"current weather in Los Angeles\"}', 'name': 'tavily_search'}, 'type': 'function'}], 'refusal': None}, response_metadata={'token_usage': {'completion_tokens': 20, 'prompt_tokens': 902, 'total_tokens': 922, 'completion_tokens_details': {'accepted_prediction_tokens': 0, 'audio_tokens': 0, 'reasoning_tokens': 0, 'rejected_prediction_tokens': 0}, 'prompt_tokens_details': {'audio_tokens': 0, 'cached_tokens': 0}}, 'model_name': 'gpt-3.5-turbo-0125', 'system_fingerprint': None, 'id': 'chatcmpl-BtTHELNLgv9SfXUVNSkqHQzAZmWp5', 'service_tier': 'default', 'finish_reason': 'tool_calls', 'logprobs': None}, id='run--abf4fb3d-6b64-4ee2-bfa7-9fb14862fe2d-0', tool_calls=[{'name': 'tavily_search', 'args': {'query': 'current weather in LA, accuweather'}, 'id': 'call_7SrdDcN4F0F7zNn5CSHP3XlB'}], usage_metadata={'input_tokens': 902, 'output_tokens': 20, 'total_tokens': 922, 'input_token_details': {'audio': 0, 'cache_read': 0}, 'output_token_details': {'audio': 0, 'reasoning': 0}})]}\n"
     ]
    }
   ],
   "source": [
    "branch_state = agent_mode.graph.update_state(replay.config, replay.values)"
   ]
  },
  {
   "cell_type": "code",
   "execution_count": 50,
   "id": "d7e71f4b-ed51-4098-b048-fe01bef6f180",
   "metadata": {},
   "outputs": [
    {
     "name": "stdout",
     "output_type": "stream",
     "text": [
      "Calling...: {'name': 'tavily_search', 'args': {'query': 'current weather in LA, accuweather'}, 'id': 'call_7SrdDcN4F0F7zNn5CSHP3XlB', 'type': 'tool_call'}\n",
      "Back to Model!\n",
      "{'messages': [ToolMessage(content='{\\'query\\': \\'current weather in LA, accuweather\\', \\'follow_up_questions\\': None, \\'answer\\': None, \\'images\\': [], \\'results\\': [{\\'title\\': \\'Weather in Los Angeles, CA\\', \\'url\\': \\'https://www.weatherapi.com/\\', \\'content\\': \"{\\'location\\': {\\'name\\': \\'Los Angeles\\', \\'region\\': \\'California\\', \\'country\\': \\'United States of America\\', \\'lat\\': 34.0522, \\'lon\\': -118.2428, \\'tz_id\\': \\'America/Los_Angeles\\', \\'localtime_epoch\\': 1752561221, \\'localtime\\': \\'2025-07-14 23:33\\'}, \\'current\\': {\\'last_updated_epoch\\': 1752561000, \\'last_updated\\': \\'2025-07-14 23:30\\', \\'temp_c\\': 17.8, \\'temp_f\\': 64.0, \\'is_day\\': 0, \\'condition\\': {\\'text\\': \\'Overcast\\', \\'icon\\': \\'//cdn.weatherapi.com/weather/64x64/night/122.png\\', \\'code\\': 1009}, \\'wind_mph\\': 3.8, \\'wind_kph\\': 6.1, \\'wind_degree\\': 221, \\'wind_dir\\': \\'SW\\', \\'pressure_mb\\': 1014.0, \\'pressure_in\\': 29.94, \\'precip_mm\\': 0.0, \\'precip_in\\': 0.0, \\'humidity\\': 81, \\'cloud\\': 100, \\'feelslike_c\\': 17.8, \\'feelslike_f\\': 64.0, \\'windchill_c\\': 19.7, \\'windchill_f\\': 67.4, \\'heatindex_c\\': 19.8, \\'heatindex_f\\': 67.7, \\'dewpoint_c\\': 15.9, \\'dewpoint_f\\': 60.6, \\'vis_km\\': 16.0, \\'vis_miles\\': 9.0, \\'uv\\': 0.0, \\'gust_mph\\': 5.0, \\'gust_kph\\': 8.1}}\", \\'score\\': 0.7741186, \\'raw_content\\': None}, {\\'url\\': \\'https://www.accuweather.com/en/us/los-angeles/90012/weather-forecast/347625\\', \\'title\\': \\'Los Angeles, CA Weather Forecast - AccuWeather\\', \\'content\\': \\'Missing: 15/07/2025,\\', \\'score\\': 0.767429, \\'raw_content\\': None}, {\\'url\\': \\'https://www.accuweather.com/en/us/los-angeles/90012/daily-weather-forecast/347625\\', \\'title\\': \\'Los Angeles, CA Daily Weather - AccuWeather\\', \\'content\\': \\'Missing: 15/07/2025,\\', \\'score\\': 0.75377536, \\'raw_content\\': None}, {\\'url\\': \\'https://www.accuweather.com/en/us/los-angeles/90012/minute-weather-forecast/347625\\', \\'title\\': \\'Los Angeles, CA MinuteCast(R) Weather - AccuWeather\\', \\'content\\': \\'Check out the Los Angeles, CA MinuteCast forecast. Providing you with a hyper-localized, minute-by-minute forecast for the next four hours.\\', \\'score\\': 0.47986987, \\'raw_content\\': None}], \\'response_time\\': 2.17}', name='tavily_search', id='fe0897a8-f454-439b-bc59-58385a514bbb', tool_call_id='call_7SrdDcN4F0F7zNn5CSHP3XlB')]}\n",
      "{'messages': [HumanMessage(content='what is the weather in LA', additional_kwargs={}, response_metadata={}, id='741b0d66-3310-4d16-9220-d7f9627d6d1d'), AIMessage(content='', additional_kwargs={'tool_calls': [{'id': 'call_7SrdDcN4F0F7zNn5CSHP3XlB', 'function': {'arguments': '{\"query\":\"current weather in Los Angeles\"}', 'name': 'tavily_search'}, 'type': 'function'}], 'refusal': None}, response_metadata={'token_usage': {'completion_tokens': 20, 'prompt_tokens': 902, 'total_tokens': 922, 'completion_tokens_details': {'accepted_prediction_tokens': 0, 'audio_tokens': 0, 'reasoning_tokens': 0, 'rejected_prediction_tokens': 0}, 'prompt_tokens_details': {'audio_tokens': 0, 'cached_tokens': 0}}, 'model_name': 'gpt-3.5-turbo-0125', 'system_fingerprint': None, 'id': 'chatcmpl-BtTHELNLgv9SfXUVNSkqHQzAZmWp5', 'service_tier': 'default', 'finish_reason': 'tool_calls', 'logprobs': None}, id='run--abf4fb3d-6b64-4ee2-bfa7-9fb14862fe2d-0', tool_calls=[{'name': 'tavily_search', 'args': {'query': 'current weather in LA, accuweather'}, 'id': 'call_7SrdDcN4F0F7zNn5CSHP3XlB', 'type': 'tool_call'}], usage_metadata={'input_tokens': 902, 'output_tokens': 20, 'total_tokens': 922, 'input_token_details': {'audio': 0, 'cache_read': 0}, 'output_token_details': {'audio': 0, 'reasoning': 0}}), ToolMessage(content='{\\'query\\': \\'current weather in LA, accuweather\\', \\'follow_up_questions\\': None, \\'answer\\': None, \\'images\\': [], \\'results\\': [{\\'title\\': \\'Weather in Los Angeles, CA\\', \\'url\\': \\'https://www.weatherapi.com/\\', \\'content\\': \"{\\'location\\': {\\'name\\': \\'Los Angeles\\', \\'region\\': \\'California\\', \\'country\\': \\'United States of America\\', \\'lat\\': 34.0522, \\'lon\\': -118.2428, \\'tz_id\\': \\'America/Los_Angeles\\', \\'localtime_epoch\\': 1752561221, \\'localtime\\': \\'2025-07-14 23:33\\'}, \\'current\\': {\\'last_updated_epoch\\': 1752561000, \\'last_updated\\': \\'2025-07-14 23:30\\', \\'temp_c\\': 17.8, \\'temp_f\\': 64.0, \\'is_day\\': 0, \\'condition\\': {\\'text\\': \\'Overcast\\', \\'icon\\': \\'//cdn.weatherapi.com/weather/64x64/night/122.png\\', \\'code\\': 1009}, \\'wind_mph\\': 3.8, \\'wind_kph\\': 6.1, \\'wind_degree\\': 221, \\'wind_dir\\': \\'SW\\', \\'pressure_mb\\': 1014.0, \\'pressure_in\\': 29.94, \\'precip_mm\\': 0.0, \\'precip_in\\': 0.0, \\'humidity\\': 81, \\'cloud\\': 100, \\'feelslike_c\\': 17.8, \\'feelslike_f\\': 64.0, \\'windchill_c\\': 19.7, \\'windchill_f\\': 67.4, \\'heatindex_c\\': 19.8, \\'heatindex_f\\': 67.7, \\'dewpoint_c\\': 15.9, \\'dewpoint_f\\': 60.6, \\'vis_km\\': 16.0, \\'vis_miles\\': 9.0, \\'uv\\': 0.0, \\'gust_mph\\': 5.0, \\'gust_kph\\': 8.1}}\", \\'score\\': 0.7741186, \\'raw_content\\': None}, {\\'url\\': \\'https://www.accuweather.com/en/us/los-angeles/90012/weather-forecast/347625\\', \\'title\\': \\'Los Angeles, CA Weather Forecast - AccuWeather\\', \\'content\\': \\'Missing: 15/07/2025,\\', \\'score\\': 0.767429, \\'raw_content\\': None}, {\\'url\\': \\'https://www.accuweather.com/en/us/los-angeles/90012/daily-weather-forecast/347625\\', \\'title\\': \\'Los Angeles, CA Daily Weather - AccuWeather\\', \\'content\\': \\'Missing: 15/07/2025,\\', \\'score\\': 0.75377536, \\'raw_content\\': None}, {\\'url\\': \\'https://www.accuweather.com/en/us/los-angeles/90012/minute-weather-forecast/347625\\', \\'title\\': \\'Los Angeles, CA MinuteCast(R) Weather - AccuWeather\\', \\'content\\': \\'Check out the Los Angeles, CA MinuteCast forecast. Providing you with a hyper-localized, minute-by-minute forecast for the next four hours.\\', \\'score\\': 0.47986987, \\'raw_content\\': None}], \\'response_time\\': 2.17}', name='tavily_search', id='fe0897a8-f454-439b-bc59-58385a514bbb', tool_call_id='call_7SrdDcN4F0F7zNn5CSHP3XlB'), AIMessage(content='The current weather in Los Angeles, CA is overcast with a temperature of 64.0°F (17.8°C). The wind speed is 6.1 km/h coming from the southwest direction. The humidity is at 81%, and the visibility is 9.0 miles.', additional_kwargs={'refusal': None}, response_metadata={'token_usage': {'completion_tokens': 60, 'prompt_tokens': 1658, 'total_tokens': 1718, 'completion_tokens_details': {'accepted_prediction_tokens': 0, 'audio_tokens': 0, 'reasoning_tokens': 0, 'rejected_prediction_tokens': 0}, 'prompt_tokens_details': {'audio_tokens': 0, 'cached_tokens': 0}}, 'model_name': 'gpt-3.5-turbo-0125', 'system_fingerprint': None, 'id': 'chatcmpl-BtTSqa3Y7J5R2F7CkTAErOIoVKHPG', 'service_tier': 'default', 'finish_reason': 'stop', 'logprobs': None}, id='run--2ab14f9b-e8e0-44fd-89e1-fbb26c120506-0', usage_metadata={'input_tokens': 1658, 'output_tokens': 60, 'total_tokens': 1718, 'input_token_details': {'audio': 0, 'cache_read': 0}, 'output_token_details': {'audio': 0, 'reasoning': 0}})]}\n",
      "{'messages': [AIMessage(content='The current weather in Los Angeles, CA is overcast with a temperature of 64.0°F (17.8°C). The wind speed is 6.1 km/h coming from the southwest direction. The humidity is at 81%, and the visibility is 9.0 miles.', additional_kwargs={'refusal': None}, response_metadata={'token_usage': {'completion_tokens': 60, 'prompt_tokens': 1658, 'total_tokens': 1718, 'completion_tokens_details': {'accepted_prediction_tokens': 0, 'audio_tokens': 0, 'reasoning_tokens': 0, 'rejected_prediction_tokens': 0}, 'prompt_tokens_details': {'audio_tokens': 0, 'cached_tokens': 0}}, 'model_name': 'gpt-3.5-turbo-0125', 'system_fingerprint': None, 'id': 'chatcmpl-BtTSqa3Y7J5R2F7CkTAErOIoVKHPG', 'service_tier': 'default', 'finish_reason': 'stop', 'logprobs': None}, id='run--2ab14f9b-e8e0-44fd-89e1-fbb26c120506-0', usage_metadata={'input_tokens': 1658, 'output_tokens': 60, 'total_tokens': 1718, 'input_token_details': {'audio': 0, 'cache_read': 0}, 'output_token_details': {'audio': 0, 'reasoning': 0}})]}\n"
     ]
    }
   ],
   "source": [
    "for event in agent_mode.graph.stream(None, branch_state):\n",
    "    for k, v in event.items():\n",
    "        if k != \"__end__\":\n",
    "            print(v)"
   ]
  },
  {
   "cell_type": "code",
   "execution_count": 51,
   "id": "0b8cc05c-f86b-4d0e-8955-5a09d63b1bec",
   "metadata": {},
   "outputs": [
    {
     "data": {
      "text/plain": [
       "StateSnapshot(values={'messages': [HumanMessage(content='what is the weather in LA', additional_kwargs={}, response_metadata={}, id='741b0d66-3310-4d16-9220-d7f9627d6d1d'), AIMessage(content='', additional_kwargs={'tool_calls': [{'id': 'call_7SrdDcN4F0F7zNn5CSHP3XlB', 'function': {'arguments': '{\"query\":\"current weather in Los Angeles\"}', 'name': 'tavily_search'}, 'type': 'function'}], 'refusal': None}, response_metadata={'token_usage': {'completion_tokens': 20, 'prompt_tokens': 902, 'total_tokens': 922, 'completion_tokens_details': {'accepted_prediction_tokens': 0, 'audio_tokens': 0, 'reasoning_tokens': 0, 'rejected_prediction_tokens': 0}, 'prompt_tokens_details': {'audio_tokens': 0, 'cached_tokens': 0}}, 'model_name': 'gpt-3.5-turbo-0125', 'system_fingerprint': None, 'id': 'chatcmpl-BtTHELNLgv9SfXUVNSkqHQzAZmWp5', 'service_tier': 'default', 'finish_reason': 'tool_calls', 'logprobs': None}, id='run--abf4fb3d-6b64-4ee2-bfa7-9fb14862fe2d-0', tool_calls=[{'name': 'tavily_search', 'args': {'query': 'current weather in LA, accuweather'}, 'id': 'call_7SrdDcN4F0F7zNn5CSHP3XlB'}], usage_metadata={'input_tokens': 902, 'output_tokens': 20, 'total_tokens': 922, 'input_token_details': {'audio': 0, 'cache_read': 0}, 'output_token_details': {'audio': 0, 'reasoning': 0}})]}, next=('tools_calls',), config={'configurable': {'thread_id': '3', 'checkpoint_ns': '', 'checkpoint_id': '1f061437-4f2e-66a5-8001-fe60549f3042'}}, metadata={'source': 'loop', 'step': 1, 'parents': {}, 'thread_id': '3'}, created_at='2025-07-15T06:18:00.126418+00:00', parent_config={'configurable': {'thread_id': '3', 'checkpoint_ns': '', 'checkpoint_id': '1f061437-448a-6ed9-8000-a83282b6eabc'}}, tasks=(PregelTask(id='c0239bab-7087-1c15-71a6-8dae27f20ac4', name='tools_calls', path=('__pregel_pull', 'tools_calls'), error=None, interrupts=(), state=None, result=None),), interrupts=())"
      ]
     },
     "execution_count": 51,
     "metadata": {},
     "output_type": "execute_result"
    }
   ],
   "source": [
    "replay"
   ]
  },
  {
   "cell_type": "code",
   "execution_count": 51,
   "id": "62191e25-e25e-47e1-96a1-398a3b7c6d0e",
   "metadata": {},
   "outputs": [],
   "source": [
    "_id = replay.values['messages'][-1].tool_calls[0]['id']"
   ]
  },
  {
   "cell_type": "code",
   "execution_count": 52,
   "id": "d8745ac3-6d1c-4c88-a4bc-1fe4896101ef",
   "metadata": {},
   "outputs": [],
   "source": [
    "state_update = {\"messages\": [ToolMessage(\n",
    "    tool_call_id=_id,\n",
    "    name=\"tavily_search\",\n",
    "    content=\"54 degree celcius\",\n",
    ")]}"
   ]
  },
  {
   "cell_type": "code",
   "execution_count": 53,
   "id": "75bc8f20-bb41-4c81-ac12-fde787afa962",
   "metadata": {},
   "outputs": [],
   "source": [
    "branch_and_add = agent_mode.graph.update_state(\n",
    "    replay.config, \n",
    "    state_update, \n",
    "    as_node=\"tools_calls\")"
   ]
  },
  {
   "cell_type": "code",
   "execution_count": 55,
   "id": "57336707-b890-47c4-a7ce-a3893e8ea3a8",
   "metadata": {},
   "outputs": [
    {
     "name": "stdout",
     "output_type": "stream",
     "text": [
      "{'messages': [HumanMessage(content='what is the weather in LA', additional_kwargs={}, response_metadata={}, id='741b0d66-3310-4d16-9220-d7f9627d6d1d'), AIMessage(content='', additional_kwargs={'tool_calls': [{'id': 'call_7SrdDcN4F0F7zNn5CSHP3XlB', 'function': {'arguments': '{\"query\":\"current weather in Los Angeles\"}', 'name': 'tavily_search'}, 'type': 'function'}], 'refusal': None}, response_metadata={'token_usage': {'completion_tokens': 20, 'prompt_tokens': 902, 'total_tokens': 922, 'completion_tokens_details': {'accepted_prediction_tokens': 0, 'audio_tokens': 0, 'reasoning_tokens': 0, 'rejected_prediction_tokens': 0}, 'prompt_tokens_details': {'audio_tokens': 0, 'cached_tokens': 0}}, 'model_name': 'gpt-3.5-turbo-0125', 'system_fingerprint': None, 'id': 'chatcmpl-BtTHELNLgv9SfXUVNSkqHQzAZmWp5', 'service_tier': 'default', 'finish_reason': 'tool_calls', 'logprobs': None}, id='run--abf4fb3d-6b64-4ee2-bfa7-9fb14862fe2d-0', tool_calls=[{'name': 'tavily_search', 'args': {'query': 'current weather in Los Angeles'}, 'id': 'call_7SrdDcN4F0F7zNn5CSHP3XlB', 'type': 'tool_call'}], usage_metadata={'input_tokens': 902, 'output_tokens': 20, 'total_tokens': 922, 'input_token_details': {'audio': 0, 'cache_read': 0}, 'output_token_details': {'audio': 0, 'reasoning': 0}}), ToolMessage(content='54 degree celcius', name='tavily_search', id='2c78ad28-f3b2-4320-be60-a85b3b661f98', tool_call_id='call_7SrdDcN4F0F7zNn5CSHP3XlB'), AIMessage(content='The current weather in Los Angeles is 54 degrees Celsius.', additional_kwargs={'refusal': None}, response_metadata={'token_usage': {'completion_tokens': 13, 'prompt_tokens': 937, 'total_tokens': 950, 'completion_tokens_details': {'accepted_prediction_tokens': 0, 'audio_tokens': 0, 'reasoning_tokens': 0, 'rejected_prediction_tokens': 0}, 'prompt_tokens_details': {'audio_tokens': 0, 'cached_tokens': 0}}, 'model_name': 'gpt-3.5-turbo-0125', 'system_fingerprint': None, 'id': 'chatcmpl-BtTddJBSfYHUbOsC7SdtnodJB5y5l', 'service_tier': 'default', 'finish_reason': 'stop', 'logprobs': None}, id='run--989b94d2-30bc-4124-a127-00b30a22e101-0', usage_metadata={'input_tokens': 937, 'output_tokens': 13, 'total_tokens': 950, 'input_token_details': {'audio': 0, 'cache_read': 0}, 'output_token_details': {'audio': 0, 'reasoning': 0}})]}\n",
      "{'messages': [AIMessage(content='The current weather in Los Angeles is 54 degrees Celsius.', additional_kwargs={'refusal': None}, response_metadata={'token_usage': {'completion_tokens': 13, 'prompt_tokens': 937, 'total_tokens': 950, 'completion_tokens_details': {'accepted_prediction_tokens': 0, 'audio_tokens': 0, 'reasoning_tokens': 0, 'rejected_prediction_tokens': 0}, 'prompt_tokens_details': {'audio_tokens': 0, 'cached_tokens': 0}}, 'model_name': 'gpt-3.5-turbo-0125', 'system_fingerprint': None, 'id': 'chatcmpl-BtTddJBSfYHUbOsC7SdtnodJB5y5l', 'service_tier': 'default', 'finish_reason': 'stop', 'logprobs': None}, id='run--989b94d2-30bc-4124-a127-00b30a22e101-0', usage_metadata={'input_tokens': 937, 'output_tokens': 13, 'total_tokens': 950, 'input_token_details': {'audio': 0, 'cache_read': 0}, 'output_token_details': {'audio': 0, 'reasoning': 0}})]}\n"
     ]
    }
   ],
   "source": [
    "for event in agent_mode.graph.stream(None, branch_and_add):\n",
    "    for k, v in event.items():\n",
    "        print(v)"
   ]
  },
  {
   "cell_type": "code",
   "execution_count": 56,
   "id": "74eebd41-8010-4884-a8f6-350fafbbccfb",
   "metadata": {},
   "outputs": [
    {
     "data": {
      "text/plain": [
       "{'configurable': {'thread_id': '3',\n",
       "  'checkpoint_ns': '',\n",
       "  'checkpoint_id': '1f061437-4f2e-66a5-8001-fe60549f3042'}}"
      ]
     },
     "execution_count": 56,
     "metadata": {},
     "output_type": "execute_result"
    }
   ],
   "source": [
    "replay.config"
   ]
  },
  {
   "cell_type": "code",
   "execution_count": null,
   "id": "faa89f77-21bc-4122-8e42-edf5ae893f35",
   "metadata": {},
   "outputs": [],
   "source": []
  }
 ],
 "metadata": {
  "kernelspec": {
   "display_name": "Python 3 (ipykernel)",
   "language": "python",
   "name": "python3"
  },
  "language_info": {
   "codemirror_mode": {
    "name": "ipython",
    "version": 3
   },
   "file_extension": ".py",
   "mimetype": "text/x-python",
   "name": "python",
   "nbconvert_exporter": "python",
   "pygments_lexer": "ipython3",
   "version": "3.12.2"
  }
 },
 "nbformat": 4,
 "nbformat_minor": 5
}
