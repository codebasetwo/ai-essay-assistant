{
 "cells": [
  {
   "cell_type": "code",
   "execution_count": 1,
   "id": "ffa5db56-bdde-4cfc-b4ce-555686cdce3b",
   "metadata": {},
   "outputs": [],
   "source": [
    "# since my model actually calls tools what do I need to \n",
    "# create research assistant with human in the loop\n",
    "\n",
    "# I need great prompts\n",
    "# prompts for planning the research topic\n",
    "# prompt for writing the well planned structure\n",
    "# System prompt\n",
    "# I would like to add human in the loop to steer it in the write direction incase."
   ]
  },
  {
   "cell_type": "code",
   "execution_count": 2,
   "id": "08b89c03-63f6-48f2-b467-530cf31e7c7a",
   "metadata": {},
   "outputs": [],
   "source": [
    "from typing import TypedDict, List\n",
    "# For graph state\n",
    "class AgentState(TypedDict):\n",
    "    task: str\n",
    "    outline: str\n",
    "    research: str\n",
    "    critique: str\n",
    "    content: List[str]\n",
    "    revisions: int\n",
    "    max_revisions: int"
   ]
  },
  {
   "cell_type": "code",
   "execution_count": 3,
   "id": "3b2adb39-25a8-4a53-8e88-e4217af7ff32",
   "metadata": {},
   "outputs": [],
   "source": [
    "# for tools\n",
    "from langchain_tavily import TavilySearch\n",
    "from dotenv import load_dotenv, find_dotenv\n",
    "import openai\n",
    "\n",
    "_ = load_dotenv(find_dotenv())"
   ]
  },
  {
   "cell_type": "code",
   "execution_count": 4,
   "id": "c69c332c-e0ff-42e3-a13b-7cde8f4ff83c",
   "metadata": {},
   "outputs": [],
   "source": [
    "search_tool = TavilySearch(max_results=2,\n",
    "                          topic=\"general\",\n",
    "                           time_range=\"year\",\n",
    "                      )"
   ]
  },
  {
   "cell_type": "code",
   "execution_count": 5,
   "id": "07ccc775-0c74-4980-87d5-1a89276ca1bc",
   "metadata": {},
   "outputs": [
    {
     "data": {
      "text/plain": [
       "{'query': 'What happened at the last wimbledon',\n",
       " 'follow_up_questions': None,\n",
       " 'answer': None,\n",
       " 'images': [],\n",
       " 'results': [{'url': 'https://www.usatoday.com/story/sports/tennis/wimb/2025/07/13/wimbledon-mens-final-results-highlights-alcaraz-sinner/84691902007/',\n",
       "   'title': \"Wimbledon men's final: Jannik Sinner overpowers Carlos ...\",\n",
       "   'content': \"World No. 1 Jannik Sinner denied No. 2 Carlos Alcaraz a three-peat at Wimbledon, winning the latest edition of tennis' best rivalry in four sets – and avenging\",\n",
       "   'score': 0.3309905,\n",
       "   'raw_content': None},\n",
       "  {'url': 'https://www.nbcnews.com/sports/tennis/wimbledon-final-jannik-sinner-carlos-alcaraz-champagne-cork-rcna218555',\n",
       "   'title': 'In Wimbledon final, Jannik Sinner had to deal with Carlos ...',\n",
       "   'content': \"# In Wimbledon final, Jannik Sinner had to deal with Carlos Alcaraz — and a flying Champagne cork Sinner would go on to defeat Alcaraz in four sets to claim his first Wimbledon trophy. Italy's Jannik Sinner picks up a cork from a sparkling wine bottle thrown on the court during his singles final against Spain's Carlos Alcaraz at the Wimbledon Championships in London on Saturday. Jannik Sinner’s task was already tough enough: defeat rival Carlos Alcaraz in the men’s final of Wimbledon on Sunday. Jannik Sinner wins first Wimbledon title, defeating rival Carlos Alcaraz Sinner would go on to defeat Alcaraz in four sets to claim his first Wimbledon trophy. * Jannik Sinner tops Carlos Alcaraz in four sets to claim Wimbledon title\",\n",
       "   'score': 0.26894602,\n",
       "   'raw_content': None}],\n",
       " 'response_time': 1.12}"
      ]
     },
     "execution_count": 5,
     "metadata": {},
     "output_type": "execute_result"
    }
   ],
   "source": [
    "search_tool.invoke({\"query\": \"What happened at the last wimbledon\"})"
   ]
  },
  {
   "cell_type": "code",
   "execution_count": 6,
   "id": "69a24549-3274-417d-8179-75d3cd142a81",
   "metadata": {},
   "outputs": [],
   "source": [
    "# prompts\n",
    "OUTLINE_PROMPT = \"\"\"You are an expert writer tasked with writing a high level outline of an essay. \\\n",
    "Write such an outline for the user provided topic. Give an outline of the essay along with any relevant notes \\\n",
    "or instructions for the sections.\"\"\"\n",
    "\n",
    "\n",
    "WRITER_PROMPT = \"\"\"You are an essay assistant tasked with writing excellent 5-paragraph essays.\\\n",
    "Generate the best essay possible for the user's request and the initial outline. \\\n",
    "If the user provides critique, respond with a revised version of your previous attempts. \\\n",
    "Utilize all the information below as needed: \n",
    "\n",
    "------\n",
    "\n",
    "{content}\"\"\"\n",
    "\n",
    "\n",
    "REFLECTION_PROMPT = \"\"\"You are a teacher grading an essay submission. \\\n",
    "Generate critique and recommendations for the user's submission. \\\n",
    "Provide detailed recommendations, including requests for length, depth, style, etc.\"\"\"\n",
    "\n",
    "\n",
    "RESEARCH_PLAN_PROMPT = \"\"\"You are a researcher charged with providing information that can \\\n",
    "be used when writing the following essay. Generate a list of search queries that will gather \\\n",
    "any relevant information. Only generate 3 queries max.\"\"\"\n",
    "\n",
    "\n",
    "RESEARCH_CRITIQUE_PROMPT = \"\"\"You are a researcher charged with providing information that can \\\n",
    "be used when making any requested revisions (as outlined below). \\\n",
    "Generate a list of search queries that will gather any relevant information. Only generate 3 queries max.\"\"\""
   ]
  },
  {
   "cell_type": "code",
   "execution_count": 7,
   "id": "ec467279-a48b-49fb-823d-b2794c190ab3",
   "metadata": {},
   "outputs": [],
   "source": [
    "from pydantic import BaseModel\n",
    "\n",
    "class Queries(BaseModel):\n",
    "    queries: List[str]"
   ]
  },
  {
   "cell_type": "code",
   "execution_count": 8,
   "id": "73539367-9422-4d03-b4f6-1c9203847a97",
   "metadata": {},
   "outputs": [],
   "source": [
    "from tavily import TavilyClient\n",
    "import os\n",
    "tavily = TavilyClient(api_key=os.environ[\"TAVILY_API_KEY\"])"
   ]
  },
  {
   "cell_type": "code",
   "execution_count": 9,
   "id": "bf0b78c9-62b9-4e27-b257-0bde0807ea4f",
   "metadata": {},
   "outputs": [],
   "source": [
    "from langchain_openai import ChatOpenAI\n",
    "from langchain_core.messages import AIMessage, AnyMessage, SystemMessage, ToolMessage, HumanMessage"
   ]
  },
  {
   "cell_type": "code",
   "execution_count": 10,
   "id": "cf154c9e-b71f-49c3-8973-d698c227be16",
   "metadata": {},
   "outputs": [],
   "source": [
    "model_name = \"gpt-4o\"\n",
    "model = ChatOpenAI(model=model_name, temperature=0.0)"
   ]
  },
  {
   "cell_type": "code",
   "execution_count": 11,
   "id": "edba1da6-4bb2-43bf-8b71-d2e0a98b8189",
   "metadata": {},
   "outputs": [],
   "source": [
    "def plan_node(state: AgentState):\n",
    "    messages = [\n",
    "        SystemMessage(content=OUTLINE_PROMPT), \n",
    "        HumanMessage(content=state['task'])\n",
    "    ]\n",
    "    response = model.invoke(messages)\n",
    "    return {\"outline\": response.content}"
   ]
  },
  {
   "cell_type": "code",
   "execution_count": 12,
   "id": "0f62df3d-3257-490d-b251-8cb083e884fa",
   "metadata": {},
   "outputs": [],
   "source": [
    "def research_node(state: AgentState):\n",
    "    queries = model.with_structured_output(Queries).invoke([\n",
    "        SystemMessage(content=RESEARCH_PLAN_PROMPT),\n",
    "        HumanMessage(content=state['task'])\n",
    "    ])\n",
    "    content = state.get(\"content\", [])\n",
    "    for q in queries.queries:\n",
    "        response = tavily.search(query=q, max_results=2)\n",
    "        for r in response['results']:\n",
    "            content.append(r['content'])\n",
    "    return {\"content\": content}"
   ]
  },
  {
   "cell_type": "code",
   "execution_count": 13,
   "id": "1c064f0c-fb5b-4dba-b13c-e6e1ded3896d",
   "metadata": {},
   "outputs": [],
   "source": [
    "def generation_node(state: AgentState):\n",
    "    content = \"\\n\\n\".join(state['content'] or [])\n",
    "    user_message = HumanMessage(\n",
    "        content=f\"{state['task']}\\n\\nHere is my plan:\\n\\n{state['outline']}\")\n",
    "    messages = [\n",
    "        SystemMessage(\n",
    "            content=WRITER_PROMPT.format(content=content)\n",
    "        ),\n",
    "        user_message\n",
    "        ]\n",
    "    response = model.invoke(messages)\n",
    "    return {\n",
    "        \"research\": response.content, \n",
    "        \"revisions\": state.get(\"revisions\", 1) + 1\n",
    "    }\n"
   ]
  },
  {
   "cell_type": "code",
   "execution_count": 14,
   "id": "af1326ca-703c-423c-81ef-5e29169e1141",
   "metadata": {},
   "outputs": [],
   "source": [
    "def reflection_node(state: AgentState):\n",
    "    messages = [\n",
    "        SystemMessage(content=REFLECTION_PROMPT), \n",
    "        HumanMessage(content=state['research'])\n",
    "    ]\n",
    "    response = model.invoke(messages)\n",
    "    return {\"critique\": response.content}"
   ]
  },
  {
   "cell_type": "code",
   "execution_count": 15,
   "id": "74633c61-af13-490d-9f41-1685b6e8a30f",
   "metadata": {},
   "outputs": [],
   "source": [
    "def research_critique_node(state: AgentState):\n",
    "    queries = model.with_structured_output(Queries).invoke([\n",
    "        SystemMessage(content=RESEARCH_CRITIQUE_PROMPT),\n",
    "        HumanMessage(content=state['critique'])\n",
    "    ])\n",
    "    content = state['content'] or []\n",
    "    for q in queries.queries:\n",
    "        response = tavily.search(query=q, max_results=2)\n",
    "        for r in response['results']:\n",
    "            content.append(r['content'])\n",
    "    return {\"content\": content}"
   ]
  },
  {
   "cell_type": "code",
   "execution_count": 16,
   "id": "f5c7be46-2f69-494e-9812-1fc5fb62099f",
   "metadata": {},
   "outputs": [],
   "source": [
    "def should_continue(state):\n",
    "    if state[\"revisions\"] > state[\"max_revisions\"]:\n",
    "        return END\n",
    "    return \"reflect\""
   ]
  },
  {
   "cell_type": "code",
   "execution_count": 17,
   "id": "bcbe9307-64b1-4ee2-9d7f-83889cf4cb32",
   "metadata": {},
   "outputs": [],
   "source": [
    "from langgraph.graph import StateGraph,END"
   ]
  },
  {
   "cell_type": "code",
   "execution_count": 18,
   "id": "baeecc8a-444a-49f2-bc99-00dc694f75ea",
   "metadata": {},
   "outputs": [],
   "source": [
    "builder = StateGraph(AgentState)"
   ]
  },
  {
   "cell_type": "code",
   "execution_count": 19,
   "id": "c55d7c18-83d6-4a68-9e53-d9608d48fc44",
   "metadata": {},
   "outputs": [
    {
     "data": {
      "text/plain": [
       "<langgraph.graph.state.StateGraph at 0x778e441a6d80>"
      ]
     },
     "execution_count": 19,
     "metadata": {},
     "output_type": "execute_result"
    }
   ],
   "source": [
    "builder.add_node(\"planner\", plan_node)\n",
    "builder.add_node(\"generate\", generation_node)\n",
    "builder.add_node(\"reflect\", reflection_node)\n",
    "builder.add_node(\"research\", research_node)\n",
    "builder.add_node(\"critique_draft\", research_critique_node)"
   ]
  },
  {
   "cell_type": "code",
   "execution_count": 20,
   "id": "795c3d4b-e26d-4478-a000-cb63d1a353b8",
   "metadata": {},
   "outputs": [
    {
     "data": {
      "text/plain": [
       "<langgraph.graph.state.StateGraph at 0x778e441a6d80>"
      ]
     },
     "execution_count": 20,
     "metadata": {},
     "output_type": "execute_result"
    }
   ],
   "source": [
    "builder.set_entry_point(\"planner\")"
   ]
  },
  {
   "cell_type": "code",
   "execution_count": 21,
   "id": "cdbf310e-b5f2-4adb-92d7-5585b86e4184",
   "metadata": {},
   "outputs": [
    {
     "data": {
      "text/plain": [
       "<langgraph.graph.state.StateGraph at 0x778e441a6d80>"
      ]
     },
     "execution_count": 21,
     "metadata": {},
     "output_type": "execute_result"
    }
   ],
   "source": [
    "builder.add_conditional_edges(\n",
    "    \"generate\", \n",
    "    should_continue, \n",
    "    {END: END, \"reflect\": \"reflect\"}\n",
    ")\n"
   ]
  },
  {
   "cell_type": "code",
   "execution_count": 22,
   "id": "7b2193cf-bc7d-4662-8d13-228e8bfe459f",
   "metadata": {},
   "outputs": [
    {
     "data": {
      "text/plain": [
       "<langgraph.graph.state.StateGraph at 0x778e441a6d80>"
      ]
     },
     "execution_count": 22,
     "metadata": {},
     "output_type": "execute_result"
    }
   ],
   "source": [
    "builder.add_edge(\"planner\", \"research\")\n",
    "builder.add_edge(\"research\", \"generate\")\n",
    "\n",
    "builder.add_edge(\"reflect\", \"critique_draft\")\n",
    "builder.add_edge(\"critique_draft\", \"generate\")"
   ]
  },
  {
   "cell_type": "code",
   "execution_count": 23,
   "id": "56100964-f008-416f-b3d7-3ba823a4f7b7",
   "metadata": {},
   "outputs": [],
   "source": [
    "import sqlite3\n",
    "from langgraph.checkpoint.sqlite import SqliteSaver\n",
    "\n",
    "db_path = 'checkpoints.db'\n",
    "conn = sqlite3.connect(db_path, check_same_thread=False)\n",
    "\n",
    "memory = SqliteSaver(conn)"
   ]
  },
  {
   "cell_type": "code",
   "execution_count": 24,
   "id": "afe501b0-3bc4-4473-b504-026202452aec",
   "metadata": {},
   "outputs": [],
   "source": [
    "graph = builder.compile(checkpointer=memory)"
   ]
  },
  {
   "cell_type": "code",
   "execution_count": 25,
   "id": "1eccd830-b240-4e86-91ac-7f2d757d4ba5",
   "metadata": {},
   "outputs": [
    {
     "data": {
      "image/png": "[encoded data removed]",
      "text/plain": [
       "<IPython.core.display.Image object>"
      ]
     },
     "metadata": {},
     "output_type": "display_data"
    }
   ],
   "source": [
    "from IPython.display import Image, display\n",
    "\n",
    "display(Image(graph.get_graph(xray=True).draw_mermaid_png()))"
   ]
  },
  {
   "cell_type": "code",
   "execution_count": 26,
   "id": "9023c508-3748-4ebf-bcb7-0ffdfd7e6768",
   "metadata": {},
   "outputs": [
    {
     "name": "stdout",
     "output_type": "stream",
     "text": [
      "{'planner': {'outline': 'Title: Understanding the Differences Between LangChain and LangSmith\\n\\nI. Introduction\\n   A. Brief introduction to the importance of language processing tools in modern technology.\\n   B. Introduction to LangChain and LangSmith as prominent tools in the field.\\n   C. Purpose of the essay: To explore and differentiate between LangChain and LangSmith.\\n\\nII. Overview of LangChain\\n   A. Definition and primary function of LangChain.\\n   B. Key features and capabilities.\\n      1. Language model integration.\\n      2. Workflow automation.\\n      3. Customization and scalability.\\n   C. Typical use cases and applications.\\n   D. Advantages and limitations.\\n\\nIII. Overview of LangSmith\\n   A. Definition and primary function of LangSmith.\\n   B. Key features and capabilities.\\n      1. Language processing and analysis.\\n      2. Data management and transformation.\\n      3. User interface and ease of use.\\n   C. Typical use cases and applications.\\n   D. Advantages and limitations.\\n\\nIV. Comparative Analysis\\n   A. Core differences in functionality and design.\\n      1. Focus areas and target users.\\n      2. Integration with other technologies.\\n   B. Performance and efficiency.\\n   C. User experience and accessibility.\\n   D. Community support and documentation.\\n\\nV. Case Studies or Examples\\n   A. Example of a project using LangChain.\\n   B. Example of a project using LangSmith.\\n   C. Comparative outcomes and insights.\\n\\nVI. Conclusion\\n   A. Summary of key differences and similarities.\\n   B. Recommendations for choosing between LangChain and LangSmith based on specific needs.\\n   C. Future trends and potential developments in language processing tools.\\n\\nVII. References\\n   A. List of sources and further reading materials.\\n\\n**Notes for Writing:**\\n- Ensure clarity in explaining technical terms and concepts for readers who may not be familiar with language processing tools.\\n- Use real-world examples to illustrate the practical applications of both LangChain and LangSmith.\\n- Highlight any recent updates or developments in both tools up to October 2023.\\n- Maintain an objective tone, focusing on factual comparisons rather than subjective opinions.'}}\n",
      "{'research': {'content': ['If you’re responsible for ensuring your AI models work in production, or you need to frequently debug and monitor your pipelines, Langsmith is your go-to tool. In short, while **Langchain** excels at managing and scaling model workflows, **Langsmith** is designed for those times when you need deep visibility and control over large, complex AI systems in production. If you’re debugging complex AI models or managing large-scale workflows with multiple moving parts, **Langsmith’s advanced debugging and orchestration features** will be indispensable. Additionally, if you’re working on **cross-platform model deployments** — say, running models on-prem and in the cloud simultaneously — Langsmith offers better orchestration and monitoring tools to handle the complexity.', 'LangChain vs LangSmith: Understanding the Differences, Pros, and Cons | by Ajay Verma | GoPenAI LangChain and LangSmith are two powerful tools developed by LangChain, a company focused on making it easier to build and deploy Large Language Model (LLM) applications. In this blog, we’ll delve into the differences between LangChain and LangSmith, their pros and cons, and when to use each one. Comprehensive Platform: LangSmith offers a unified platform for managing all aspects of LLM development, making it ideal for large-scale, production-ready applications. LangChain and LangSmith are two complementary tools that cater to different stages and requirements of LLM development. LangChain is ideal for early-stage prototyping and small-scale applications, while LangSmith is better suited for large-scale, production-ready applications that require advanced debugging, testing, and monitoring capabilities.', 'If you’re responsible for ensuring your AI models work in production, or you need to frequently debug and monitor your pipelines, Langsmith is your go-to tool. In short, while **Langchain** excels at managing and scaling model workflows, **Langsmith** is designed for those times when you need deep visibility and control over large, complex AI systems in production. If you’re debugging complex AI models or managing large-scale workflows with multiple moving parts, **Langsmith’s advanced debugging and orchestration features** will be indispensable. Additionally, if you’re working on **cross-platform model deployments** — say, running models on-prem and in the cloud simultaneously — Langsmith offers better orchestration and monitoring tools to handle the complexity.', 'LangChain vs LangSmith: Understanding the Differences, Pros, and Cons | by Ajay Verma | GoPenAI LangChain and LangSmith are two powerful tools developed by LangChain, a company focused on making it easier to build and deploy Large Language Model (LLM) applications. In this blog, we’ll delve into the differences between LangChain and LangSmith, their pros and cons, and when to use each one. Comprehensive Platform: LangSmith offers a unified platform for managing all aspects of LLM development, making it ideal for large-scale, production-ready applications. LangChain and LangSmith are two complementary tools that cater to different stages and requirements of LLM development. LangChain is ideal for early-stage prototyping and small-scale applications, while LangSmith is better suited for large-scale, production-ready applications that require advanced debugging, testing, and monitoring capabilities.', 'In LLM application development, LangChain and LangSmith have become central tools for building and managing large language model-powered solutions. This article compares LangChain and LangSmith, focusing on their core features, integration options, and value for developers in the LLM application space. LangChain is an open-source framework that helps developers create LLM applications efficiently. LangChain streamlines the development of conversational agents and tool-using AI. LangSmith provides tools to debug, monitor, and improve LLM-powered agents, and offers a managed cloud service with a web UI. | LLM Evaluation | Minimal built-in support; developers typically create custom logic or use external tools. LangChain provides building blocks for LLM applications, while LangSmith offers observability and evaluation.', \"LangSmith steps in to give you the tools you need to debug and monitor your models at scale, ensuring everything is running as expected in your AI system. You might think of LangSmith as LangChain's counterpart, but it takes things further by focusing on managing, debugging, and orchestrating AI and ML models. LangSmith steps in to give you the tools you need to debug and monitor your models at scale, ensuring everything is running as expected in your AI system. In short, while LangChain excels at managing and scaling model workflows, LangSmith is designed for when you need deep visibility and control over large, complex AI systems in production. If you're debugging complex AI models or managing large-scale workflows with multiple moving parts, LangSmith's advanced debugging and orchestration features will be indispensable.\"]}}\n",
      "{'generate': {'research': \"Title: Understanding the Differences Between LangChain and LangSmith\\n\\nI. Introduction\\nIn the rapidly evolving landscape of artificial intelligence, language processing tools have become indispensable for developing sophisticated applications. Among the prominent tools in this domain are LangChain and LangSmith, both of which offer unique capabilities for building and managing large language model (LLM) applications. This essay aims to explore and differentiate between LangChain and LangSmith, providing insights into their functionalities, use cases, and the contexts in which each tool excels.\\n\\nII. Overview of LangChain\\nLangChain is an open-source framework designed to streamline the development of LLM applications. Its primary function is to facilitate the integration of language models into various applications, making it an ideal choice for developers looking to create conversational agents and tool-using AI. Key features of LangChain include language model integration, workflow automation, and customization options that allow for scalability. Typical use cases for LangChain involve early-stage prototyping and small-scale applications where rapid development and flexibility are crucial. However, while LangChain excels in managing and scaling model workflows, it may lack the advanced debugging and monitoring capabilities required for large-scale production environments.\\n\\nIII. Overview of LangSmith\\nLangSmith, on the other hand, is a comprehensive platform that offers advanced tools for debugging, monitoring, and orchestrating AI and ML models. Its primary function is to provide deep visibility and control over complex AI systems in production. Key features of LangSmith include language processing and analysis, data management and transformation, and a user-friendly interface that enhances ease of use. LangSmith is particularly suited for large-scale, production-ready applications that require robust debugging, testing, and monitoring capabilities. Its advantages lie in its ability to handle cross-platform model deployments and manage large-scale workflows with multiple moving parts. However, LangSmith may be more complex to set up and use for smaller projects or those in the early stages of development.\\n\\nIV. Comparative Analysis\\nThe core differences between LangChain and LangSmith lie in their functionality and design. LangChain focuses on managing and scaling model workflows, making it ideal for developers in the early stages of LLM application development. In contrast, LangSmith targets users who need advanced debugging and orchestration features for large, complex AI systems in production. In terms of performance and efficiency, LangSmith offers better orchestration and monitoring tools, particularly for cross-platform deployments. User experience and accessibility also differ, with LangChain providing a more straightforward setup for small-scale applications, while LangSmith offers a comprehensive platform for managing all aspects of LLM development. Community support and documentation are robust for both tools, though LangChain's open-source nature may offer more flexibility for customization.\\n\\nV. Case Studies or Examples\\nConsider a project where a developer uses LangChain to create a conversational agent for customer service. The tool's ease of integration and workflow automation allows for rapid prototyping and deployment. In contrast, a project using LangSmith might involve managing a complex AI system for a multinational corporation, requiring advanced debugging and monitoring to ensure seamless operation across different platforms. The comparative outcomes highlight LangChain's suitability for quick, flexible development, while LangSmith excels in providing stability and control in production environments.\\n\\nVI. Conclusion\\nIn summary, LangChain and LangSmith serve different purposes within the realm of LLM application development. LangChain is ideal for early-stage prototyping and small-scale applications, while LangSmith is better suited for large-scale, production-ready applications requiring advanced debugging and monitoring. When choosing between the two, developers should consider their specific needs, such as the scale of the project and the level of control required. As language processing tools continue to evolve, both LangChain and LangSmith are likely to see further developments, enhancing their capabilities and expanding their use cases.\\n\\nVII. References\\nA comprehensive list of sources and further reading materials would be provided here to support the information presented in the essay.\", 'revisions': 2}}\n",
      "{'reflect': {'critique': 'Your essay provides a clear and structured comparison between LangChain and LangSmith, effectively highlighting their respective strengths and use cases. However, there are several areas where the essay could be improved to enhance its depth, clarity, and engagement. Here are some detailed recommendations:\\n\\n1. **Introduction Enhancement**:\\n   - **Contextual Background**: Provide a brief background on the importance of language processing tools in AI development. This will help set the stage for why LangChain and LangSmith are significant.\\n   - **Thesis Statement**: Clearly state the purpose of the essay and what you aim to achieve with the comparison. This will guide the reader on what to expect.\\n\\n2. **Depth and Detail**:\\n   - **Technical Details**: Include more technical details about how LangChain and LangSmith function. For instance, what specific technologies or algorithms do they use? How do they integrate with existing systems?\\n   - **Use Cases**: Expand on the use cases with more specific examples or scenarios. This could include hypothetical projects or real-world applications where these tools have been successfully implemented.\\n\\n3. **Comparative Analysis**:\\n   - **Feature-by-Feature Comparison**: Consider creating a table or a side-by-side comparison of features. This visual aid can help readers quickly grasp the differences and similarities.\\n   - **Performance Metrics**: If available, include any performance metrics or benchmarks that compare the efficiency or effectiveness of LangChain and LangSmith.\\n\\n4. **Case Studies or Examples**:\\n   - **Detailed Examples**: Provide more detailed case studies or examples. Describe the challenges faced, how each tool addressed these challenges, and the outcomes. This will add practical insights into their application.\\n   - **User Testimonials**: If possible, include quotes or testimonials from developers or companies that have used these tools. This adds credibility and a human element to your analysis.\\n\\n5. **Conclusion**:\\n   - **Future Prospects**: Discuss potential future developments for LangChain and LangSmith. How might they evolve to meet emerging needs in AI and language processing?\\n   - **Decision-Making Framework**: Offer a simple framework or checklist to help developers decide which tool to use based on their project requirements.\\n\\n6. **References**:\\n   - **Citations**: Ensure that all claims and data points are backed by credible sources. Include in-text citations where necessary.\\n   - **Further Reading**: Provide a list of recommended readings or resources for readers who wish to explore the topic further.\\n\\n7. **Style and Clarity**:\\n   - **Engagement**: Use engaging language and varied sentence structures to maintain reader interest.\\n   - **Clarity**: Avoid jargon unless it is explained. Ensure that the essay is accessible to readers who may not be familiar with technical terms.\\n\\n8. **Length**:\\n   - **Expansion**: Consider expanding the essay to delve deeper into each section. This will provide a more comprehensive analysis and allow for the inclusion of additional examples and details.\\n\\nBy addressing these recommendations, your essay will not only be more informative and engaging but also provide a more thorough and nuanced comparison of LangChain and LangSmith.'}}\n",
      "{'critique_draft': {'content': ['If you’re responsible for ensuring your AI models work in production, or you need to frequently debug and monitor your pipelines, Langsmith is your go-to tool. In short, while **Langchain** excels at managing and scaling model workflows, **Langsmith** is designed for those times when you need deep visibility and control over large, complex AI systems in production. If you’re debugging complex AI models or managing large-scale workflows with multiple moving parts, **Langsmith’s advanced debugging and orchestration features** will be indispensable. Additionally, if you’re working on **cross-platform model deployments** — say, running models on-prem and in the cloud simultaneously — Langsmith offers better orchestration and monitoring tools to handle the complexity.', 'LangChain vs LangSmith: Understanding the Differences, Pros, and Cons | by Ajay Verma | GoPenAI LangChain and LangSmith are two powerful tools developed by LangChain, a company focused on making it easier to build and deploy Large Language Model (LLM) applications. In this blog, we’ll delve into the differences between LangChain and LangSmith, their pros and cons, and when to use each one. Comprehensive Platform: LangSmith offers a unified platform for managing all aspects of LLM development, making it ideal for large-scale, production-ready applications. LangChain and LangSmith are two complementary tools that cater to different stages and requirements of LLM development. LangChain is ideal for early-stage prototyping and small-scale applications, while LangSmith is better suited for large-scale, production-ready applications that require advanced debugging, testing, and monitoring capabilities.', 'If you’re responsible for ensuring your AI models work in production, or you need to frequently debug and monitor your pipelines, Langsmith is your go-to tool. In short, while **Langchain** excels at managing and scaling model workflows, **Langsmith** is designed for those times when you need deep visibility and control over large, complex AI systems in production. If you’re debugging complex AI models or managing large-scale workflows with multiple moving parts, **Langsmith’s advanced debugging and orchestration features** will be indispensable. Additionally, if you’re working on **cross-platform model deployments** — say, running models on-prem and in the cloud simultaneously — Langsmith offers better orchestration and monitoring tools to handle the complexity.', 'LangChain vs LangSmith: Understanding the Differences, Pros, and Cons | by Ajay Verma | GoPenAI LangChain and LangSmith are two powerful tools developed by LangChain, a company focused on making it easier to build and deploy Large Language Model (LLM) applications. In this blog, we’ll delve into the differences between LangChain and LangSmith, their pros and cons, and when to use each one. Comprehensive Platform: LangSmith offers a unified platform for managing all aspects of LLM development, making it ideal for large-scale, production-ready applications. LangChain and LangSmith are two complementary tools that cater to different stages and requirements of LLM development. LangChain is ideal for early-stage prototyping and small-scale applications, while LangSmith is better suited for large-scale, production-ready applications that require advanced debugging, testing, and monitoring capabilities.', 'In LLM application development, LangChain and LangSmith have become central tools for building and managing large language model-powered solutions. This article compares LangChain and LangSmith, focusing on their core features, integration options, and value for developers in the LLM application space. LangChain is an open-source framework that helps developers create LLM applications efficiently. LangChain streamlines the development of conversational agents and tool-using AI. LangSmith provides tools to debug, monitor, and improve LLM-powered agents, and offers a managed cloud service with a web UI. | LLM Evaluation | Minimal built-in support; developers typically create custom logic or use external tools. LangChain provides building blocks for LLM applications, while LangSmith offers observability and evaluation.', \"LangSmith steps in to give you the tools you need to debug and monitor your models at scale, ensuring everything is running as expected in your AI system. You might think of LangSmith as LangChain's counterpart, but it takes things further by focusing on managing, debugging, and orchestrating AI and ML models. LangSmith steps in to give you the tools you need to debug and monitor your models at scale, ensuring everything is running as expected in your AI system. In short, while LangChain excels at managing and scaling model workflows, LangSmith is designed for when you need deep visibility and control over large, complex AI systems in production. If you're debugging complex AI models or managing large-scale workflows with multiple moving parts, LangSmith's advanced debugging and orchestration features will be indispensable.\", 'LangSmith Performance cookies are used to understand and analyze the key performance indexes of the website which helps in delivering a better user experience for the visitors. LangSmith is a unified observability & evals platform where teams can debug, test, and monitor AI app performance — whether building with LangChain or not. Evaluate your app by saving production traces to datasets — then score performance with LLM-as-Judge evaluators. LangSmith traces contain the full information of all the inputs and outputs of each step of the application, giving users full visibility into their agent or LLM app behavior. LangSmith also allows users to instantly run evals to assess agent or LLM app performance — including LLM-as-Judge evaluators for auto-scoring and the ability to attach human feedback.', 'Get started with LangSmith | 🦜️🛠️ LangSmith Get started with LangSmith LangSmith is a platform for building production-grade LLM applications. LangSmith + LangChain OSS This is where LangSmith can help! LangSmith has LLM-native observability, allowing you to get meaningful insights from your application. LangSmith’s observability features have you covered throughout all stages of application development - from prototyping, to beta testing, to production. The LangSmith SDK and UI make building and running high-quality evaluations easy. Quickly assess the performance of your application using our off-the-shelf evaluators as a starting point. LangSmith provides a set of tools designed to enable and facilitate prompt engineering to help you find the perfect prompt for your application. LangSmith SDK', 'In LLM application development, LangChain and LangSmith have become central tools for building and managing large language model-powered solutions. This article compares LangChain and LangSmith, focusing on their core features, integration options, and value for developers in the LLM application space. LangChain is an open-source framework that helps developers create LLM applications efficiently. LangChain streamlines the development of conversational agents and tool-using AI. LangSmith provides tools to debug, monitor, and improve LLM-powered agents, and offers a managed cloud service with a web UI. | LLM Evaluation | Minimal built-in support; developers typically create custom logic or use external tools. LangChain provides building blocks for LLM applications, while LangSmith offers observability and evaluation.', \"LangSmith steps in to give you the tools you need to debug and monitor your models at scale, ensuring everything is running as expected in your AI system. You might think of LangSmith as LangChain's counterpart, but it takes things further by focusing on managing, debugging, and orchestrating AI and ML models. LangSmith steps in to give you the tools you need to debug and monitor your models at scale, ensuring everything is running as expected in your AI system. In short, while LangChain excels at managing and scaling model workflows, LangSmith is designed for when you need deep visibility and control over large, complex AI systems in production. If you're debugging complex AI models or managing large-scale workflows with multiple moving parts, LangSmith's advanced debugging and orchestration features will be indispensable.\", \"To help you experiment with your own architectures on the Q&A dataset, we are publishing a new langchain-benchmarks package (docs link). This package facilitates experimentation and benchmarking for key functionality when building with LLMs. In addition to the are publishing benchmarks extraction, agent tool use, and retrieval-based question answering. If you are using a model like `gpt-3.5` and getting hallucinations like this, you can try adding an additional system prompt reminding the model to only respond based on the retrieved content, and you can work to improve the retriever to filter out irrelevant documents. They use the same underlying model and retriever tool and work as an agent, but the former test uses OpenAI's assistant API.\", 'Evaluation  Evaluation  Evaluation  Evaluation You can run evaluations on specific versions of a dataset. Perhaps the most common type of offline evaluation is one in which we curate a dataset of representative inputs, define the key performance metrics, and benchmark multiple versions of our application to find the best one. Writing evaluations as tests can be useful when each example you want to evaluate on requires custom logic for running the application and/or evaluators. The standard evaluation flows assume that you can run your application and evaluators in the same way on every example in a dataset. They are also relatively fast to run (because they only involve a single LLM call) and evaluation often uses simple heuristic evaluation of the selected tool relative to the reference tool. Evaluators']}}\n",
      "{'generate': {'research': 'Title: Understanding the Differences Between LangChain and LangSmith\\n\\nI. Introduction\\nIn the rapidly evolving landscape of artificial intelligence, language processing tools have become indispensable in developing sophisticated applications. Among the prominent tools in this domain are LangChain and LangSmith, both of which offer unique capabilities for building and managing large language model (LLM) applications. This essay aims to explore and differentiate between LangChain and LangSmith, providing insights into their functionalities, use cases, and the contexts in which each tool excels.\\n\\nII. Overview of LangChain\\nLangChain is an open-source framework designed to streamline the development of LLM applications. Its primary function is to facilitate the integration of language models into various applications, making it an ideal choice for developers looking to create conversational agents and tool-using AI. Key features of LangChain include language model integration, workflow automation, and customization options that allow for scalability. Typical use cases for LangChain involve early-stage prototyping and small-scale applications where rapid development and iteration are crucial. While LangChain excels in providing building blocks for LLM applications, it may have limitations in terms of advanced debugging and monitoring capabilities.\\n\\nIII. Overview of LangSmith\\nLangSmith, on the other hand, is a comprehensive platform that offers advanced tools for managing, debugging, and orchestrating AI and ML models in production environments. Its primary function is to provide deep visibility and control over complex AI systems, making it indispensable for large-scale, production-ready applications. LangSmith\\'s key features include language processing and analysis, data management and transformation, and a user-friendly interface that enhances ease of use. It is particularly suited for scenarios involving cross-platform model deployments and large-scale workflows with multiple moving parts. While LangSmith offers robust debugging and orchestration features, it may be more complex to set up and manage compared to LangChain.\\n\\nIV. Comparative Analysis\\nThe core differences between LangChain and LangSmith lie in their functionality and design focus. LangChain is tailored for developers who need to manage and scale model workflows efficiently, while LangSmith targets users who require advanced debugging and monitoring capabilities for complex AI systems. In terms of performance and efficiency, LangSmith provides better orchestration and monitoring tools, especially for cross-platform deployments. User experience and accessibility also differ, with LangChain offering a more straightforward setup for prototyping, whereas LangSmith provides a comprehensive platform for production-grade applications. Community support and documentation are vital for both tools, with LangChain benefiting from its open-source nature and LangSmith offering extensive resources for its users.\\n\\nV. Case Studies or Examples\\nConsider a project involving the development of a conversational agent for customer support. Using LangChain, developers can quickly prototype and iterate on the agent\\'s capabilities, integrating language models to handle various customer queries. In contrast, a project requiring the deployment of AI models across on-prem and cloud environments would benefit from LangSmith\\'s advanced orchestration and monitoring features, ensuring seamless operation and performance tracking. These examples highlight the distinct advantages of each tool, depending on the project\\'s scale and complexity.\\n\\nVI. Conclusion\\nIn summary, LangChain and LangSmith serve different purposes within the realm of LLM application development. LangChain is ideal for early-stage prototyping and small-scale applications, while LangSmith excels in managing large-scale, production-ready systems with advanced debugging and monitoring needs. When choosing between the two, developers should consider their specific requirements, such as the need for rapid prototyping or comprehensive production management. As language processing tools continue to evolve, both LangChain and LangSmith are poised to play significant roles in shaping the future of AI application development.\\n\\nVII. References\\n- Ajay Verma, \"LangChain vs LangSmith: Understanding the Differences, Pros, and Cons,\" GoPenAI.\\n- LangChain and LangSmith official documentation and resources.', 'revisions': 3}}\n"
     ]
    }
   ],
   "source": [
    "thread = {\"configurable\": {\"thread_id\": \"1\"}}\n",
    "for s in graph.stream({\n",
    "    'task': \"what is the difference between langchain and langsmith\",\n",
    "    \"max_revisions\": 2,\n",
    "    \"revisions\": 1,\n",
    "    \"content\": []\n",
    "}, thread):\n",
    "    print(s)"
   ]
  },
  {
   "cell_type": "code",
   "execution_count": null,
   "id": "4ab92ef1-e0ae-45dd-a54e-a8a1d4900445",
   "metadata": {},
   "outputs": [],
   "source": [
    "# add interupt for human in the loop when compiling the graph"
   ]
  },
  {
   "cell_type": "code",
   "execution_count": 29,
   "id": "9e150ec0-d2db-4abf-aa4b-3da8c2a1e60b",
   "metadata": {},
   "outputs": [
    {
     "data": {
      "text/plain": [
       "()"
      ]
     },
     "execution_count": 29,
     "metadata": {},
     "output_type": "execute_result"
    }
   ],
   "source": [
    "graph.get_state(thread).next"
   ]
  },
  {
   "cell_type": "code",
   "execution_count": null,
   "id": "b86bc2ca-2dfe-4d63-b468-1144af2e96d1",
   "metadata": {},
   "outputs": [],
   "source": [
    "\n",
    "builder = StateGraph(AgentState)\n",
    "builder.add_node(\"planner\", plan_node)\n",
    "builder.add_node(\"generate\", generation_node)\n",
    "builder.add_node(\"reflect\", reflection_node)\n",
    "builder.add_node(\"research\", research_node)\n",
    "builder.add_node(\"critique_draft\", research_critique_node)\n",
    "builder.set_entry_point(\"planner\")\n",
    "builder.add_conditional_edges(\n",
    "    \"generate\", \n",
    "    should_continue, \n",
    "    {END: END, \"reflect\": \"reflect\"}\n",
    ")\n",
    "\n",
    "\n",
    "builder.add_edge(\"planner\", \"research\")\n",
    "builder.add_edge(\"research\", \"generate\")\n",
    "builder.add_edge(\"reflect\", \"critique_draft\")\n",
    "builder.add_edge(\"critique_draft\", \"generate\")"
   ]
  },
  {
   "cell_type": "code",
   "execution_count": null,
   "id": "1aefbe67-f93e-4a80-8462-2149388ad0d9",
   "metadata": {},
   "outputs": [],
   "source": [
    "import sqlite3\n",
    "from langgraph.checkpoint.sqlite import SqliteSaver\n",
    "\n",
    "db_path = ':memory:'\n",
    "conn = sqlite3.connect(db_path, check_same_thread=False)\n",
    "\n",
    "memory = SqliteSaver(conn)"
   ]
  },
  {
   "cell_type": "code",
   "execution_count": null,
   "id": "35fa4be5-26de-4531-af84-e432b0d4acfc",
   "metadata": {},
   "outputs": [],
   "source": [
    "graph = builder.compile(checkpointer=memory,\n",
    "                        interrupt_before=['planner', 'generate', 'reflect', 'research', 'critique_draft'])"
   ]
  },
  {
   "cell_type": "code",
   "execution_count": null,
   "id": "ad0c9104-c2bf-4212-b4c5-cb83782a738c",
   "metadata": {},
   "outputs": [],
   "source": [
    "thread = {\"configurable\": {\"thread_id\": \"2\"}}\n",
    "for s in graph.stream({\n",
    "    'task': \"what is the difference between langchain and langsmith\",\n",
    "    \"max_revisions\": 2,\n",
    "    \"revisions\": 1,\n",
    "    \"content\": []\n",
    "}, thread):\n",
    "    print(s)"
   ]
  },
  {
   "cell_type": "code",
   "execution_count": null,
   "id": "3e0708aa-199d-4199-a04e-0df47691ecaa",
   "metadata": {},
   "outputs": [],
   "source": []
  },
  {
   "cell_type": "code",
   "execution_count": null,
   "id": "5450c3cb-58a4-46f9-8f0b-15dfb4fd0c2e",
   "metadata": {},
   "outputs": [],
   "source": []
  },
  {
   "cell_type": "code",
   "execution_count": null,
   "id": "f5de013d-2aeb-4ff4-bfc8-a0f4a8b3c8c9",
   "metadata": {},
   "outputs": [],
   "source": []
  },
  {
   "cell_type": "code",
   "execution_count": null,
   "id": "8becf501-c17b-4c83-90ad-69f8e49f2d00",
   "metadata": {},
   "outputs": [],
   "source": []
  }
 ],
 "metadata": {
  "kernelspec": {
   "display_name": "Python 3 (ipykernel)",
   "language": "python",
   "name": "python3"
  },
  "language_info": {
   "codemirror_mode": {
    "name": "ipython",
    "version": 3
   },
   "file_extension": ".py",
   "mimetype": "text/x-python",
   "name": "python",
   "nbconvert_exporter": "python",
   "pygments_lexer": "ipython3",
   "version": "3.12.2"
  }
 },
 "nbformat": 4,
 "nbformat_minor": 5
}
